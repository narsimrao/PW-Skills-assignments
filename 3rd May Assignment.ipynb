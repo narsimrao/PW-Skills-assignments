{
 "cells": [
  {
   "cell_type": "markdown",
   "id": "c9ad6a77-e9d2-46e9-97cd-e63a7712ec50",
   "metadata": {},
   "source": [
    "# Q1"
   ]
  },
  {
   "cell_type": "code",
   "execution_count": null,
   "id": "f01ed02b-3789-4061-9ea1-bae3ecb06407",
   "metadata": {},
   "outputs": [],
   "source": [
    "\"\"\"\n",
    "What is the role of feature selection in anomaly detection?\n",
    "\"\"\""
   ]
  },
  {
   "cell_type": "code",
   "execution_count": null,
   "id": "9af97eb6-66f1-476a-8620-0959e5e471d0",
   "metadata": {},
   "outputs": [],
   "source": [
    "\"\"\"\n",
    "Feature selection plays a crucial role in anomaly detection by identifying and selecting the most informative features or attributes that capture the characteristics of normal instances. It helps in reducing the dimensionality of the data and focusing on relevant features, which can improve the detection performance and computational efficiency of anomaly detection algorithms. By selecting informative features, irrelevant or redundant information that may hinder the detection of anomalies can be minimized.\n",
    "\"\"\""
   ]
  },
  {
   "cell_type": "markdown",
   "id": "5b7f4324-2359-437f-a9c7-ee7f052ad995",
   "metadata": {},
   "source": [
    "# Q2"
   ]
  },
  {
   "cell_type": "code",
   "execution_count": null,
   "id": "48ffd3e6-6d1d-4651-b7c8-5e26a6fc60e4",
   "metadata": {},
   "outputs": [],
   "source": [
    "\"\"\"\n",
    "What are some common evaluation metrics for anomaly detection algorithms and how are they computed?\n",
    "\"\"\""
   ]
  },
  {
   "cell_type": "code",
   "execution_count": null,
   "id": "af11e200-8a73-4449-b123-ea0ea71c1cb7",
   "metadata": {},
   "outputs": [],
   "source": [
    "\"\"\"\n",
    "Common evaluation metrics for anomaly detection algorithms include:\n",
    "\n",
    "True Positive Rate (TPR) or Recall: The proportion of true anomalies correctly identified by the algorithm.\n",
    "False Positive Rate (FPR): The proportion of normal instances incorrectly classified as anomalies.\n",
    "Precision: The proportion of identified anomalies that are actually true anomalies.\n",
    "F1-score: The harmonic mean of precision and recall, providing a balanced measure of detection performance.\n",
    "Area Under the ROC Curve (AUC-ROC): A measure of the trade-off between true positive rate and false positive rate, which assesses the overall discriminative power of the algorithm.\n",
    "\n",
    "These metrics are computed based on the predictions made by the anomaly detection algorithm and the ground truth labels (if available).\n",
    "\"\"\""
   ]
  },
  {
   "cell_type": "markdown",
   "id": "5f527a4c-958b-4a54-bc3e-4c462f328ba8",
   "metadata": {},
   "source": [
    "# Q3"
   ]
  },
  {
   "cell_type": "code",
   "execution_count": null,
   "id": "7a40d8c9-b62b-4b18-adb2-9080f23f1c93",
   "metadata": {},
   "outputs": [],
   "source": [
    "\"\"\"\n",
    "What is DBSCAN and how does it work for clustering?\n",
    "\"\"\""
   ]
  },
  {
   "cell_type": "code",
   "execution_count": null,
   "id": "2617acd8-d4b8-4224-863d-eb85bb636236",
   "metadata": {},
   "outputs": [],
   "source": [
    "\"\"\"\n",
    "DBSCAN (Density-Based Spatial Clustering of Applications with Noise) is a density-based clustering algorithm. It groups together data points that are closely packed and separates regions of lower density. It works by defining a neighborhood around each data point and identifying core points, which have a sufficient number of neighboring points within a specified distance. It then expands the clusters by connecting core points to their nearby points and iteratively including the reachable points in the clusters. The algorithm assigns points as core points, border points, or noise points based on their connectivity and density.\n",
    "\"\"\""
   ]
  },
  {
   "cell_type": "markdown",
   "id": "01ed8562-0853-4107-964a-774ab932a136",
   "metadata": {},
   "source": [
    "# Q4"
   ]
  },
  {
   "cell_type": "code",
   "execution_count": null,
   "id": "a900aac6-be25-4d62-96ce-8e7751744425",
   "metadata": {},
   "outputs": [],
   "source": [
    "\"\"\"\n",
    "How does the epsilon parameter affect the performance of DBSCAN in detecting anomalies?\n",
    "\"\"\""
   ]
  },
  {
   "cell_type": "code",
   "execution_count": null,
   "id": "bc2090b0-d8dc-4f44-8e09-75f5c02ac066",
   "metadata": {},
   "outputs": [],
   "source": [
    "\"\"\"\n",
    "In DBSCAN, the epsilon parameter (ε) defines the maximum distance between two points for them to be considered neighbors. It affects the performance of DBSCAN in detecting anomalies by determining the density of clusters. A smaller epsilon value leads to denser clusters and may result in more points being considered noise or outliers. Conversely, a larger epsilon value can cause points to be connected even if they are relatively far apart, potentially merging clusters and affecting the accuracy of anomaly detection. The optimal value of epsilon depends on the dataset and the desired balance between detecting anomalies and avoiding false positives.\n",
    "\"\"\""
   ]
  },
  {
   "cell_type": "markdown",
   "id": "b717db9e-b172-42ad-859c-22da99bf3de8",
   "metadata": {},
   "source": [
    "# Q5"
   ]
  },
  {
   "cell_type": "code",
   "execution_count": null,
   "id": "46abbbc4-b915-415e-9bfd-d366b4cf3440",
   "metadata": {},
   "outputs": [],
   "source": [
    "\"\"\"\n",
    "What are the differences between the core, border, and noise points in DBSCAN, and how do they relate to anomaly detection?\n",
    "\"\"\""
   ]
  },
  {
   "cell_type": "code",
   "execution_count": null,
   "id": "c780c2a3-8f40-4125-a60f-999da4deacc3",
   "metadata": {},
   "outputs": [],
   "source": [
    "\"\"\"\n",
    "In DBSCAN, the core points are the central points within a cluster that have a sufficient number of neighboring points within the epsilon distance. Border points are adjacent to core points but do not have enough neighbors to be considered core points themselves. Noise points, also known as outliers, do not belong to any cluster and have a sparse neighborhood, meaning they have fewer neighboring points within the epsilon distance. Core points and border points are typically considered as normal instances, while noise points are potential anomalies. Anomalies are often characterized as points that do not fit into any dense region or cluster.\n",
    "\"\"\""
   ]
  },
  {
   "cell_type": "markdown",
   "id": "968468e7-55ef-4433-8c78-d1811debaea4",
   "metadata": {},
   "source": [
    "# Q6"
   ]
  },
  {
   "cell_type": "code",
   "execution_count": null,
   "id": "eebca440-be60-485f-adac-55f8dda854a3",
   "metadata": {},
   "outputs": [],
   "source": [
    "\"\"\"\n",
    "How does DBSCAN detect anomalies and what are the key parameters involved in the process?\n",
    "\"\"\""
   ]
  },
  {
   "cell_type": "code",
   "execution_count": null,
   "id": "45752f73-2fa3-43b5-87c4-d0263b194cc0",
   "metadata": {},
   "outputs": [],
   "source": [
    "\"\"\"\n",
    "DBSCAN can detect anomalies by considering noise points as potential outliers. Points that do not belong to any cluster or have a sparse neighborhood are considered as noise points, indicating a deviation from the expected patterns in the data. The key parameters involved in the DBSCAN anomaly detection process are epsilon (ε), which defines the neighborhood distance, and min_samples, which specifies the minimum number of points required to form a core point.\n",
    "\"\"\""
   ]
  },
  {
   "cell_type": "markdown",
   "id": "9bbdbcd9-4e11-463c-8475-5fe84f824034",
   "metadata": {},
   "source": [
    "# Q7"
   ]
  },
  {
   "cell_type": "code",
   "execution_count": null,
   "id": "86ba60de-a5d2-4ae8-bc81-0946fe3f6baa",
   "metadata": {},
   "outputs": [],
   "source": [
    "\"\"\"\n",
    "What is the make_circles package in scikit-learn used for?\n",
    "\"\"\""
   ]
  },
  {
   "cell_type": "code",
   "execution_count": null,
   "id": "3c12602d-3000-4f6a-92e8-3bca025b115a",
   "metadata": {},
   "outputs": [],
   "source": [
    "\"\"\"\n",
    "The make_circles package in scikit-learn is used to generate a synthetic dataset consisting of concentric circles. It is primarily used for testing and illustrating clustering algorithms and anomaly detection techniques, particularly those that can handle non-linear and complex data distributions.\n",
    "\"\"\""
   ]
  },
  {
   "cell_type": "markdown",
   "id": "0f0c8361-825f-4e85-9809-75b17ceca356",
   "metadata": {},
   "source": [
    "# Q8"
   ]
  },
  {
   "cell_type": "code",
   "execution_count": null,
   "id": "c3747c19-f964-492b-acd1-042669edfbd8",
   "metadata": {},
   "outputs": [],
   "source": [
    "\"\"\"\n",
    "What are local outliers and global outliers, and how do they differ from each other?\n",
    "\"\"\""
   ]
  },
  {
   "cell_type": "code",
   "execution_count": null,
   "id": "acd3ff9b-e691-403e-870a-944dfca0530e",
   "metadata": {},
   "outputs": [],
   "source": [
    "\"\"\"\n",
    "Local outliers refer to data points that are considered anomalies within a specific local region or neighborhood but may not be considered anomalies when considering the entire dataset. They deviate from their local surroundings but are relatively similar to the global distribution of the data. In contrast, global outliers are anomalies that are distinct and deviate significantly from the overall distribution of the entire dataset.\n",
    "\"\"\""
   ]
  },
  {
   "cell_type": "markdown",
   "id": "d3f0361d-3cb8-4437-afd9-8319f2dd0b42",
   "metadata": {},
   "source": [
    "# Q9"
   ]
  },
  {
   "cell_type": "code",
   "execution_count": null,
   "id": "c8566f56-db62-45b0-94c3-33b20d4a8156",
   "metadata": {},
   "outputs": [],
   "source": [
    "\"\"\"\n",
    "How can local outliers be detected using the Local Outlier Factor (LOF) algorithm?\n",
    "\"\"\""
   ]
  },
  {
   "cell_type": "code",
   "execution_count": null,
   "id": "d4f56809-5404-4331-8bf5-7e3aa46a4fa1",
   "metadata": {},
   "outputs": [],
   "source": [
    "\"\"\"\n",
    "The Local Outlier Factor (LOF) algorithm detects local outliers by comparing the density of data points in their local neighborhoods with the densities of their neighboring points. It calculates an anomaly score for each point based on the ratio of the average local density of its k-nearest neighbors to its own local density. Points with a significantly lower density compared to their neighbors are considered local outliers.\n",
    "\"\"\""
   ]
  },
  {
   "cell_type": "markdown",
   "id": "5178f177-2818-44e2-8fc5-7aea994844f6",
   "metadata": {},
   "source": [
    "# Q10"
   ]
  },
  {
   "cell_type": "code",
   "execution_count": null,
   "id": "e1bde838-9f71-4c89-a54d-2b0609b0388d",
   "metadata": {},
   "outputs": [],
   "source": [
    "\"\"\"\n",
    "How can global outliers be detected using the Isolation Forest algorithm?\n",
    "\"\"\""
   ]
  },
  {
   "cell_type": "code",
   "execution_count": null,
   "id": "96717497-21bd-4e4c-a86a-6415368551ec",
   "metadata": {},
   "outputs": [],
   "source": [
    "\"\"\"\n",
    "The Isolation Forest algorithm detects global outliers by randomly selecting a feature and then randomly selecting a split value within the range of the selected feature. It continues this process recursively to create isolation trees. The anomaly score for a data point is determined by the average path length in the trees required to isolate that point. Global outliers are expected to have shorter average path lengths compared to normal instances.\n",
    "\"\"\""
   ]
  },
  {
   "cell_type": "markdown",
   "id": "997c701f-8f6b-4b1e-ba52-03d2be6b1258",
   "metadata": {},
   "source": [
    "# Q11"
   ]
  },
  {
   "cell_type": "code",
   "execution_count": null,
   "id": "e6d32f86-acd0-4bd9-812f-fc9a16eb80a8",
   "metadata": {},
   "outputs": [],
   "source": [
    "\"\"\"\n",
    "What are some real-world applications where local outlier detection is more appropriate than global outlier detection, and vice versa?\n",
    "\"\"\""
   ]
  },
  {
   "cell_type": "code",
   "execution_count": null,
   "id": "cd6f3886-d6c4-4702-a021-efc433f3fc7a",
   "metadata": {},
   "outputs": [],
   "source": [
    "\"\"\"\n",
    "Local outlier detection is more appropriate in scenarios where anomalies are expected to occur in specific local regions or neighborhoods, and the overall distribution of anomalies may not be uniform across the dataset. It is useful when anomalies have distinct local patterns or characteristics. Global outlier detection, on the other hand, is suitable when anomalies are expected to deviate significantly from the overall distribution of the entire dataset, regardless of local variations. It is useful when anomalies are expected to be globally distinct and exhibit unique properties compared to normal instances. The choice between local and global outlier detection depends on the specific problem and the underlying assumptions about the data distribution and anomaly patterns.\n",
    "\"\"\""
   ]
  }
 ],
 "metadata": {
  "kernelspec": {
   "display_name": "Python 3 (ipykernel)",
   "language": "python",
   "name": "python3"
  },
  "language_info": {
   "codemirror_mode": {
    "name": "ipython",
    "version": 3
   },
   "file_extension": ".py",
   "mimetype": "text/x-python",
   "name": "python",
   "nbconvert_exporter": "python",
   "pygments_lexer": "ipython3",
   "version": "3.10.8"
  }
 },
 "nbformat": 4,
 "nbformat_minor": 5
}
