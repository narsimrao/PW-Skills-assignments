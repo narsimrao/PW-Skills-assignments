{
 "cells": [
  {
   "cell_type": "markdown",
   "id": "9c050bd1-94bd-4145-8795-cca438ddeb04",
   "metadata": {},
   "source": [
    " # Q1"
   ]
  },
  {
   "cell_type": "code",
   "execution_count": null,
   "id": "26bb108f-33b1-4c15-ac51-977d7d87f818",
   "metadata": {},
   "outputs": [],
   "source": [
    "\"\"\"\n",
    "What is Estimation Statistics? Explain point estimate and interval estimate.\n",
    "\"\"\""
   ]
  },
  {
   "cell_type": "code",
   "execution_count": null,
   "id": "b961fe36-0680-40de-9e3a-2bd2893a189a",
   "metadata": {},
   "outputs": [],
   "source": [
    "\"\"\"\n",
    "Estimation statistics is a branch of statistics that deals with estimating the value of a population parameter based on the information obtained from a sample. \n",
    "\n",
    "A point estimate is a single value that is used to estimate the value of a population parameter. \n",
    "It is obtained by calculating a statistic (such as the sample mean or sample proportion) from the sample data and using it as an estimate of the corresponding population parameter. \n",
    "For example, if we want to estimate the population mean based on a sample, the sample mean is used as the point estimate of the population mean.\n",
    "\n",
    "An interval estimate, on the other hand, is a range of values that is likely to contain the true value of the population parameter. \n",
    "It is obtained by calculating a confidence interval based on the sample data. \n",
    "The confidence interval gives us a range of values within which the population parameter is expected to lie with a certain level of confidence (typically 95% or 99%). \n",
    "For example, if we want to estimate the population mean based on a sample, we can calculate a 95% confidence interval for the population mean based on the sample mean and standard deviation. \n",
    "This interval will give us a range of values that is likely to contain the true population mean with 95% confidence.\n",
    "\"\"\""
   ]
  },
  {
   "cell_type": "markdown",
   "id": "ac88d931-5914-43a2-80d5-52d899f44a4c",
   "metadata": {},
   "source": [
    " # Q2"
   ]
  },
  {
   "cell_type": "code",
   "execution_count": null,
   "id": "73b43560-a089-4d99-9a73-ff36079471c5",
   "metadata": {},
   "outputs": [],
   "source": [
    "\"\"\"\n",
    "Write a Python function to estimate the population mean using a sample mean and standard deviation.\n",
    "\"\"\""
   ]
  },
  {
   "cell_type": "code",
   "execution_count": 1,
   "id": "1af5d7d2-a6bb-485f-8e22-fa7c672b29c7",
   "metadata": {},
   "outputs": [
    {
     "name": "stdout",
     "output_type": "stream",
     "text": [
      "(34, (32.56861838305316, 35.43138161694684))\n"
     ]
    }
   ],
   "source": [
    "import math\n",
    "\n",
    "def estimate_population_mean(sample_mean, sample_std_dev, sample_size):\n",
    "    \n",
    "    # Calculate the standard error\n",
    "    std_error = sample_std_dev / math.sqrt(sample_size)\n",
    "    \n",
    "    # Calculate the margin of error (assuming a 95% confidence level)\n",
    "    margin_error = 1.96 * std_error\n",
    "    \n",
    "    # Calculate the lower and upper bounds of the confidence interval\n",
    "    lower_bound = sample_mean - margin_error\n",
    "    upper_bound = sample_mean + margin_error\n",
    "    \n",
    "    # Return the estimated population mean and the confidence interval\n",
    "    return sample_mean, (lower_bound, upper_bound)\n",
    "\n",
    "print(estimate_population_mean(34,4,30))"
   ]
  },
  {
   "cell_type": "markdown",
   "id": "137b1ada-f9b8-44f2-ab20-1cb137bccf2d",
   "metadata": {},
   "source": [
    " # Q3"
   ]
  },
  {
   "cell_type": "code",
   "execution_count": null,
   "id": "709845fa-24ed-4741-a079-db2ab184c5a6",
   "metadata": {},
   "outputs": [],
   "source": [
    "\"\"\"\n",
    "What is Hypothesis testing? Why is it used? State the importance of Hypothesis testing.\n",
    "\"\"\""
   ]
  },
  {
   "cell_type": "code",
   "execution_count": null,
   "id": "704e4a97-1bea-448e-82d3-cdcbab62a3a3",
   "metadata": {},
   "outputs": [],
   "source": [
    "\"\"\"\n",
    "Hypothesis testing is a statistical method used to make decisions about a population based on sample data. \n",
    "It is used to determine whether an assumption about a population parameter is likely to be true or not. \n",
    "The importance of hypothesis testing lies in its ability to provide a systematic and objective way of making decisions based on data, rather than relying on intuition or guesswork. \n",
    "It helps to ensure that decisions are based on evidence and are not simply the result of chance or bias.\n",
    "\"\"\""
   ]
  },
  {
   "cell_type": "markdown",
   "id": "857e05d6-6b85-4433-ac7d-a3ba5690b6af",
   "metadata": {},
   "source": [
    " # Q4"
   ]
  },
  {
   "cell_type": "code",
   "execution_count": null,
   "id": "dc6512ca-5d01-4daf-8c10-03fcc30c2c8f",
   "metadata": {},
   "outputs": [],
   "source": [
    "\"\"\"\n",
    "Create a hypothesis that states whether the average weight of male college students is greater than the average weight of female college students.\n",
    "\"\"\""
   ]
  },
  {
   "cell_type": "code",
   "execution_count": null,
   "id": "00a35b04-a94d-4e1a-b6c7-88d281098b60",
   "metadata": {},
   "outputs": [],
   "source": [
    "\"\"\"\n",
    "Null hypothesis: The average weight of male college students is not significantly different from the average weight of female college students.\n",
    "\n",
    "Alternative hypothesis: The average weight of male college students is significantly greater than the average weight of female college students.\n",
    "\"\"\""
   ]
  },
  {
   "cell_type": "markdown",
   "id": "fec6b33b-9127-42a1-bcc6-73b209619e8d",
   "metadata": {},
   "source": [
    " # Q5"
   ]
  },
  {
   "cell_type": "code",
   "execution_count": null,
   "id": "0ac02fb9-d8c2-4b9a-a315-8f7f190eb445",
   "metadata": {},
   "outputs": [],
   "source": [
    "\"\"\"\n",
    "Write a Python script to conduct a hypothesis test on the difference between two population means, given a sample from each population.\n",
    "\"\"\""
   ]
  },
  {
   "cell_type": "code",
   "execution_count": 2,
   "id": "43f234d6-d4db-43fd-acb8-db980eb01019",
   "metadata": {},
   "outputs": [
    {
     "name": "stdout",
     "output_type": "stream",
     "text": [
      "Sample 1 mean: 50.26667478304371\n",
      "Sample 2 mean: 55.42275351618129\n",
      "Sample 1 standard deviation: 9.082149702313195\n",
      "Sample 2 standard deviation: 11.057860582213612\n",
      "t-statistic: -3.7971685467457648\n",
      "p-value: 0.0001897655748483699\n"
     ]
    }
   ],
   "source": [
    "import numpy as np\n",
    "from scipy.stats import ttest_ind\n",
    "\n",
    "# Generate two samples from two populations\n",
    "pop1 = np.random.normal(50, 10, size=100)\n",
    "pop2 = np.random.normal(55, 12, size=120)\n",
    "\n",
    "# Compute the sample means and standard deviations\n",
    "mean1 = np.mean(pop1)\n",
    "mean2 = np.mean(pop2)\n",
    "std1 = np.std(pop1, ddof=1)\n",
    "std2 = np.std(pop2, ddof=1)\n",
    "\n",
    "# Conduct a two-sample t-test\n",
    "t, p = ttest_ind(pop1, pop2, equal_var=False)\n",
    "\n",
    "# Print the results\n",
    "print(\"Sample 1 mean:\", mean1)\n",
    "print(\"Sample 2 mean:\", mean2)\n",
    "print(\"Sample 1 standard deviation:\", std1)\n",
    "print(\"Sample 2 standard deviation:\", std2)\n",
    "print(\"t-statistic:\", t)\n",
    "print(\"p-value:\", p)\n"
   ]
  },
  {
   "cell_type": "markdown",
   "id": "5326c357-c8ea-4ff9-847b-8224475a9f9b",
   "metadata": {},
   "source": [
    " # Q6"
   ]
  },
  {
   "cell_type": "code",
   "execution_count": null,
   "id": "2c9af2ff-6b25-4035-81ac-8673f8e0f12d",
   "metadata": {},
   "outputs": [],
   "source": [
    "\"\"\"\n",
    "What is a null and alternative hypothesis? Give some examples.\n",
    "\"\"\""
   ]
  },
  {
   "cell_type": "code",
   "execution_count": null,
   "id": "43ad59eb-5f9c-4511-a240-aac9130dd648",
   "metadata": {},
   "outputs": [],
   "source": [
    "\"\"\"\n",
    "the null hypothesis (H0) is a statement that assumes there is no significant difference or relationship between two variables or phenomena. \n",
    "The alternative hypothesis (Ha or H1) is a statement that contradicts the null hypothesis and suggests that there is a significant difference or relationship between two variables or phenomena.\n",
    "\n",
    "Examples of null and alternative hypotheses are:\n",
    "\n",
    "Null hypothesis: The mean weight of a sample of apples is equal to 150 grams.\n",
    "Alternative hypothesis: The mean weight of a sample of apples is not equal to 150 grams.\n",
    "\n",
    "Null hypothesis: There is no significant difference in test scores between two groups of students.\n",
    "Alternative hypothesis: There is a significant difference in test scores between two groups of students.\n",
    "\n",
    "Null hypothesis: The proportion of defective products produced by a machine is less than or equal to 5%.\n",
    "Alternative hypothesis: The proportion of defective products produced by a machine is greater than 5%.\n",
    "\n",
    "Null hypothesis: A new drug has no effect on reducing blood pressure.\n",
    "Alternative hypothesis: A new drug has a significant effect on reducing blood pressure.\n",
    "\"\"\""
   ]
  },
  {
   "cell_type": "markdown",
   "id": "f47ae568-1e86-4374-b9c6-16a13cf128da",
   "metadata": {},
   "source": [
    " # Q7"
   ]
  },
  {
   "cell_type": "code",
   "execution_count": null,
   "id": "92a8a67b-8a93-4075-888a-796502c85f28",
   "metadata": {},
   "outputs": [],
   "source": [
    "\"\"\"\n",
    "Write down the steps involved in hypothesis testing.\n",
    "\"\"\""
   ]
  },
  {
   "cell_type": "code",
   "execution_count": null,
   "id": "1850216b-63a8-4edc-8669-62d617e56453",
   "metadata": {},
   "outputs": [],
   "source": [
    "\"\"\"\n",
    "Here are the general steps involved in hypothesis testing:\n",
    "\n",
    "1. State the null hypothesis and the alternative hypothesis.\n",
    "2. Choose the appropriate statistical test based on the type of data and the research question.\n",
    "3. Determine the significance level (alpha) and the sample size.\n",
    "4. Collect the data and calculate the test statistic.\n",
    "5. Determine the p-value associated with the test statistic.\n",
    "6. Compare the p-value to the significance level.\n",
    "7. If the p-value is less than or equal to the significance level, reject the null hypothesis; otherwise, fail to reject the null hypothesis.\n",
    "8. Interpret the results in the context of the research question and draw conclusions.\n",
    "9. Consider the limitations of the study and potential sources of bias.\n",
    "10. Report the results, including the test statistic, degrees of freedom, p-value, and conclusion, in a clear and concise manner.\n",
    "\"\"\""
   ]
  },
  {
   "cell_type": "markdown",
   "id": "4f682fb8-cb4b-4ed9-8247-e4f394039e76",
   "metadata": {},
   "source": [
    " # Q8"
   ]
  },
  {
   "cell_type": "code",
   "execution_count": null,
   "id": "4c9da5ec-bf97-43f2-8d15-b9d368614c84",
   "metadata": {},
   "outputs": [],
   "source": [
    "\"\"\"\n",
    "Define p-value and explain its significance in hypothesis testing.\n",
    "\"\"\""
   ]
  },
  {
   "cell_type": "code",
   "execution_count": null,
   "id": "6aaab5fa-4d7b-4d5d-ad04-883bdc8792f9",
   "metadata": {},
   "outputs": [],
   "source": [
    "\"\"\"\n",
    "the p-value is the probability of obtaining a test statistic as extreme as or more extreme than the one observed, assuming that the null hypothesis is true.\n",
    "\n",
    "The p-value is significant in hypothesis testing because it is used as a criterion for deciding whether to reject or fail to reject the null hypothesis. \n",
    "Typically, a significance level (also known as alpha) is chosen before conducting the test, and if the p-value is less than the significance level, \n",
    "the null hypothesis is rejected in favor of the alternative hypothesis\n",
    "\"\"\""
   ]
  },
  {
   "cell_type": "markdown",
   "id": "dd941665-1bf2-4c41-923e-31defb9c2ad6",
   "metadata": {},
   "source": [
    " # Q9"
   ]
  },
  {
   "cell_type": "code",
   "execution_count": null,
   "id": "ff6d0e5e-8430-4582-901d-88a61b63039c",
   "metadata": {},
   "outputs": [],
   "source": [
    "\"\"\"\n",
    "Generate a Student's t-distribution plot using Python's matplotlib library, with the degrees of freedom parameter set to 10.\n",
    "\"\"\""
   ]
  },
  {
   "cell_type": "code",
   "execution_count": 6,
   "id": "89dc518b-664f-4a49-a09c-f17c8e1c0ff2",
   "metadata": {},
   "outputs": [
    {
     "data": {
      "image/png": "[encoded data removed]",
      "text/plain": [
       "<Figure size 640x480 with 1 Axes>"
      ]
     },
     "metadata": {},
     "output_type": "display_data"
    }
   ],
   "source": [
    "import numpy as np\n",
    "import matplotlib.pyplot as plt\n",
    "from scipy.stats import t\n",
    "\n",
    "df = 10\n",
    "x = np.linspace(-4, 4, 1000)\n",
    "y = t.pdf(x, df)\n",
    "\n",
    "plt.plot(x, y)\n",
    "plt.title(\"Student's t-Distribution (df=10)\")\n",
    "plt.xlabel('x')\n",
    "plt.ylabel('PDF')\n",
    "plt.show()"
   ]
  },
  {
   "cell_type": "markdown",
   "id": "3d750fb9-ada9-4fdc-bcba-502b70e9788b",
   "metadata": {},
   "source": [
    "# Q10"
   ]
  },
  {
   "cell_type": "code",
   "execution_count": null,
   "id": "17fcd645-d3b8-4ebc-9162-f35c78d67afb",
   "metadata": {},
   "outputs": [],
   "source": [
    "\"\"\"\n",
    "Write a Python program to calculate the two-sample t-test for independent samples, given two\n",
    "random samples of equal size and a null hypothesis that the population means are equal.\n",
    "\"\"\""
   ]
  },
  {
   "cell_type": "code",
   "execution_count": 10,
   "id": "ae113718-38d6-4ea2-ab0f-0873def52fc6",
   "metadata": {},
   "outputs": [
    {
     "name": "stdout",
     "output_type": "stream",
     "text": [
      "Sample 1 Mean: 9.86\n",
      "Sample 2 Mean: 11.89\n",
      "t-statistic: -4.84\n",
      "p-value: 0.0000\n"
     ]
    }
   ],
   "source": [
    "import numpy as np\n",
    "from scipy.stats import ttest_ind\n",
    "\n",
    "# Generate two random samples of equal size\n",
    "sample1 = np.random.normal(10, 2, 50)\n",
    "sample2 = np.random.normal(12, 2, 50)\n",
    "\n",
    "# Calculate the t-test and p-value\n",
    "t_stat, p_val = ttest_ind(sample1, sample2)\n",
    "\n",
    "# Print the results\n",
    "print(\"Sample 1 Mean: {:.2f}\".format(np.mean(sample1)))\n",
    "print(\"Sample 2 Mean: {:.2f}\".format(np.mean(sample2)))\n",
    "print(\"t-statistic: {:.2f}\".format(t_stat))\n",
    "print(\"p-value: {:.4f}\".format(p_val))\n"
   ]
  },
  {
   "cell_type": "markdown",
   "id": "6dafb7d2-3016-478c-b07e-08d1ca0a9ad3",
   "metadata": {},
   "source": [
    " # Q11"
   ]
  },
  {
   "cell_type": "code",
   "execution_count": null,
   "id": "1ea90770-9b6f-4199-b5f7-599053d554df",
   "metadata": {},
   "outputs": [],
   "source": [
    "\"\"\"\n",
    "What is Student’s t distribution? When to use the t-Distribution.\n",
    "\"\"\""
   ]
  },
  {
   "cell_type": "code",
   "execution_count": null,
   "id": "29e0cf2b-d7da-4363-95cc-5a0a05800524",
   "metadata": {},
   "outputs": [],
   "source": [
    "\"\"\"\n",
    "Student’s t-distribution is a probability distribution that is used to estimate the mean of a population when the sample size is small and/or the population variance is unknown. \n",
    "It is similar to the standard normal distribution but has heavier tails, meaning that it is more spread out and allows for more extreme values.\n",
    "\n",
    "The t-distribution is used in hypothesis testing when the population standard deviation is unknown, and is especially useful when the sample size is small (less than 30) or when the population is not normally distributed. \n",
    "In these situations, the t-distribution provides a more accurate estimate of the population mean compared to the standard normal distribution.\n",
    "\"\"\""
   ]
  },
  {
   "cell_type": "markdown",
   "id": "0b2a3c4c-4ab9-4c34-8d96-03ab9d868855",
   "metadata": {},
   "source": [
    " # Q12"
   ]
  },
  {
   "cell_type": "code",
   "execution_count": null,
   "id": "6df40f5e-8ffb-40b2-ac9f-643c47e1d837",
   "metadata": {},
   "outputs": [],
   "source": [
    "\"\"\"\n",
    "What is t-statistic? State the formula for t-statistic.\n",
    "\"\"\""
   ]
  },
  {
   "cell_type": "code",
   "execution_count": null,
   "id": "41dddb89-7d31-44cb-9a86-150ee322ecf7",
   "metadata": {},
   "outputs": [],
   "source": [
    "\"\"\"\n",
    "The t-statistic is a measure of how many standard errors the sample mean is away from the null hypothesis mean. \n",
    "It is used to test whether the difference between the sample mean and the null hypothesis mean is statistically significant. The formula for t-statistic is:\n",
    "\n",
    "t = (x̄ - μ) / (s / sqrt(n))\n",
    "\n",
    "where x̄ is the sample mean, μ is the null hypothesis mean, s is the sample standard deviation, and n is the sample size.\n",
    "\"\"\""
   ]
  },
  {
   "cell_type": "markdown",
   "id": "5d9d5d8d-dd83-40cf-babd-178766170f17",
   "metadata": {},
   "source": [
    " # Q13"
   ]
  },
  {
   "cell_type": "code",
   "execution_count": null,
   "id": "2f270571-1545-4c7c-8adb-f36ae3e3be08",
   "metadata": {},
   "outputs": [],
   "source": [
    "\"\"\"\n",
    "A coffee shop owner wants to estimate the average daily revenue for their shop. \n",
    "They take a random sample of 50 days and find the sample mean revenue to be $500 with a standard deviation of $50. \n",
    "Estimate the population mean revenue with a 95% confidence interval.\n",
    "\"\"\""
   ]
  },
  {
   "cell_type": "code",
   "execution_count": 12,
   "id": "ca955477-0d4e-4633-a67b-0e1c90ffd410",
   "metadata": {},
   "outputs": [
    {
     "name": "stdout",
     "output_type": "stream",
     "text": [
      "Sample mean: 500\n",
      "Standard deviation: 50\n",
      "95% confidence interval: [485.79, 514.21]\n",
      "the sample mean lies between the lower and upper bound so we can accept the null hypothesis\n"
     ]
    }
   ],
   "source": [
    "import numpy as np\n",
    "from scipy.stats import t\n",
    "\n",
    "# sample statistics\n",
    "n = 50\n",
    "sample_mean = 500\n",
    "sample_std = 50\n",
    "\n",
    "\"\"\"\n",
    "Null hypothesis --> sample mean = 500\n",
    "alternate hypothesis --> sample mean != 500\n",
    "\"\"\"\n",
    "\n",
    "# degrees of freedom\n",
    "df = n - 1\n",
    "\n",
    "# t-value for a 95% confidence interval with (n-1) degrees of freedom\n",
    "t_value = t.ppf(0.975, df)\n",
    "\n",
    "# margin of error\n",
    "margin_of_error = t_value * (sample_std / np.sqrt(n))\n",
    "\n",
    "# confidence interval\n",
    "lower_ci = sample_mean - margin_of_error\n",
    "upper_ci = sample_mean + margin_of_error\n",
    "\n",
    "# print results\n",
    "print(\"Sample mean:\", sample_mean)\n",
    "print(\"Standard deviation:\", sample_std)\n",
    "print(\"95% confidence interval: [{:.2f}, {:.2f}]\".format(lower_ci, upper_ci))\n",
    "\n",
    "print(\"the sample mean lies between the lower and upper bound so we can accept the null hypothesis\")"
   ]
  },
  {
   "cell_type": "markdown",
   "id": "6e9ffc1d-0c4a-47fb-9da6-5961ea31d143",
   "metadata": {},
   "source": [
    " # Q14"
   ]
  },
  {
   "cell_type": "code",
   "execution_count": null,
   "id": "9c33a76e-a752-44e9-88c1-b4b21a0142d4",
   "metadata": {},
   "outputs": [],
   "source": [
    "\"\"\"\n",
    "A researcher hypothesizes that a new drug will decrease blood pressure by 10 mmHg. \n",
    "They conduct a clinical trial with 100 patients and find that the sample mean decrease in blood pressure is 8 mmHg with a standard deviation of 3 mmHg. \n",
    "Test the hypothesis with a significance level of 0.05.\n",
    "\"\"\""
   ]
  },
  {
   "cell_type": "code",
   "execution_count": 13,
   "id": "eaf4e059-bb87-49b0-a94f-d76b44e6302a",
   "metadata": {},
   "outputs": [
    {
     "name": "stdout",
     "output_type": "stream",
     "text": [
      "Reject null hypothesis. The drug decreases blood pressure by 10 mmHg.\n"
     ]
    }
   ],
   "source": [
    "import scipy.stats as stats\n",
    "\n",
    "# Null hypothesis: The drug will not decrease blood pressure by 10 mmHg\n",
    "# Alternative hypothesis: The drug will decrease blood pressure by 10 mmHg\n",
    "null_mean = 0  # since we are testing if there is no decrease in blood pressure\n",
    "\n",
    "sample_mean = 8\n",
    "sample_std = 3\n",
    "n = 100\n",
    "\n",
    "# calculate the t-statistic\n",
    "t_stat = (sample_mean - null_mean) / (sample_std / (n ** 0.5))\n",
    "\n",
    "# calculate the p-value\n",
    "p_val = stats.t.sf(abs(t_stat), df=n-1) * 2\n",
    "\n",
    "# compare p-value with significance level alpha\n",
    "alpha = 0.05\n",
    "if p_val < alpha:\n",
    "    print(\"Reject null hypothesis. The drug decreases blood pressure by 10 mmHg.\")\n",
    "else:\n",
    "    print(\"Fail to reject null hypothesis. The drug does not decrease blood pressure by 10 mmHg.\")\n"
   ]
  },
  {
   "cell_type": "markdown",
   "id": "60563393-104e-4446-8e2f-153fc50b41db",
   "metadata": {},
   "source": [
    " # Q15"
   ]
  },
  {
   "cell_type": "code",
   "execution_count": null,
   "id": "0daaec5b-e8a1-4857-8806-2c9dad08fc97",
   "metadata": {},
   "outputs": [],
   "source": [
    "\"\"\"\n",
    "An electronics company produces a certain type of product with a mean weight of 5 pounds and a standard deviation of 0.5 pounds. \n",
    "A random sample of 25 products is taken, and the sample mean weight is found to be 4.8 pounds. \n",
    "Test the hypothesis that the true mean weight of the products is less than 5 pounds with a significance level of 0.01.\n",
    "\"\"\""
   ]
  },
  {
   "cell_type": "code",
   "execution_count": 15,
   "id": "7a362eb5-fa40-4c63-81eb-80136da80e73",
   "metadata": {},
   "outputs": [
    {
     "name": "stdout",
     "output_type": "stream",
     "text": [
      "Reject null hypothesis\n",
      "t-statistic: -10.000000000000009\n",
      "p-value: 2.4577627638376104e-10\n"
     ]
    }
   ],
   "source": [
    "\"\"\"\n",
    "Null Hypothesis: The true mean weight of the products is equal to 5 pounds.\n",
    "Alternative Hypothesis: The true mean weight of the products is less than 5 pounds.\n",
    "\"\"\"\n",
    "\n",
    "import scipy.stats as stats\n",
    "\n",
    "sample_mean = 4.8\n",
    "hypothesized_mean = 5\n",
    "sample_standard_deviation = 0.1\n",
    "sample_size = 25\n",
    "significance_level = 0.01\n",
    "\n",
    "t_statistic = (sample_mean - hypothesized_mean) / (sample_standard_deviation / sample_size ** 0.5)\n",
    "p_value = stats.t.sf(abs(t_statistic), sample_size - 1)\n",
    "\n",
    "if p_value < significance_level:\n",
    "    print(\"Reject null hypothesis\")\n",
    "else:\n",
    "    print(\"Fail to reject null hypothesis\")\n",
    "    \n",
    "print(\"t-statistic:\", t_statistic)\n",
    "print(\"p-value:\", p_value)\n"
   ]
  },
  {
   "cell_type": "markdown",
   "id": "b1a1200a-b0c3-46ca-bd2f-50a0014320f6",
   "metadata": {},
   "source": [
    " # Q16"
   ]
  },
  {
   "cell_type": "code",
   "execution_count": null,
   "id": "85bcef27-baa4-4111-917e-87f85b900987",
   "metadata": {},
   "outputs": [],
   "source": [
    "\"\"\"\n",
    "Two groups of students are given different study materials to prepare for a test. \n",
    "The first group (n1 = 30) has a mean score of 80 with a standard deviation of 10, and the second group (n2 = 40) has a mean score of 75 with a standard deviation of 8.\n",
    "Test the hypothesis that the population means for the two groups are equal with a significance level of 0.01.\n",
    "\"\"\""
   ]
  },
  {
   "cell_type": "code",
   "execution_count": 16,
   "id": "58627da3-2da9-46d9-987a-a2f0aa500c85",
   "metadata": {},
   "outputs": [
    {
     "name": "stdout",
     "output_type": "stream",
     "text": [
      "t-statistic: 2.25\n",
      "p-value: 0.0276\n",
      "Fail to reject null hypothesis: the population means may be equal\n"
     ]
    }
   ],
   "source": [
    "\"\"\"\n",
    "Null hypothesis: μ1 = μ2\n",
    "Alternative hypothesis: μ1 ≠ μ2\n",
    "\"\"\"\n",
    "\n",
    "import math\n",
    "from scipy.stats import t\n",
    "\n",
    "# Sample data\n",
    "n1 = 30\n",
    "n2 = 40\n",
    "x1 = 80\n",
    "x2 = 75\n",
    "s1 = 10\n",
    "s2 = 8\n",
    "\n",
    "# Calculate the t-statistic\n",
    "numerator = x1 - x2\n",
    "denominator = math.sqrt((s1**2 / n1) + (s2**2 / n2))\n",
    "t_stat = numerator / denominator\n",
    "\n",
    "# Calculate the degrees of freedom\n",
    "df = n1 + n2 - 2\n",
    "\n",
    "# Calculate the p-value\n",
    "p_value = 2 * (1 - t.cdf(abs(t_stat), df))\n",
    "\n",
    "# Print results\n",
    "print(\"t-statistic: {:.2f}\".format(t_stat))\n",
    "print(\"p-value: {:.4f}\".format(p_value))\n",
    "if p_value < 0.01:\n",
    "    print(\"Reject null hypothesis: the population means are not equal\")\n",
    "else:\n",
    "    print(\"Fail to reject null hypothesis: the population means may be equal\")\n"
   ]
  },
  {
   "cell_type": "markdown",
   "id": "97ee8f3a-b921-4483-ad67-5cf6410b3eb6",
   "metadata": {},
   "source": [
    " # Q17"
   ]
  },
  {
   "cell_type": "code",
   "execution_count": null,
   "id": "ba9ac1a7-5228-4d13-8c23-9256a665cd1a",
   "metadata": {},
   "outputs": [],
   "source": [
    "\"\"\"\n",
    "A marketing company wants to estimate the average number of ads watched by viewers during a TV program. \n",
    "They take a random sample of 50 viewers and find that the sample mean is 4 with a standard deviation of 1.5. \n",
    "Estimate the population mean with a 99% confidence interval.\n",
    "\"\"\""
   ]
  },
  {
   "cell_type": "code",
   "execution_count": 17,
   "id": "1f93e861-5bbe-47dd-bb5c-cf00b2809d83",
   "metadata": {},
   "outputs": [
    {
     "name": "stdout",
     "output_type": "stream",
     "text": [
      "The 99% confidence interval for the population mean is:\n",
      "(3.45, 4.55)\n"
     ]
    }
   ],
   "source": [
    "import scipy.stats as stats\n",
    "\n",
    "sample_mean = 4\n",
    "sample_std = 1.5\n",
    "sample_size = 50\n",
    "conf_level = 0.99\n",
    "\n",
    "# Calculate the standard error\n",
    "standard_error = sample_std / (sample_size ** 0.5)\n",
    "\n",
    "# Find the z-score for the confidence level\n",
    "z_score = stats.norm.ppf((1 + conf_level) / 2)\n",
    "\n",
    "# Calculate the lower and upper bounds of the confidence interval\n",
    "lower_bound = sample_mean - z_score * standard_error\n",
    "upper_bound = sample_mean + z_score * standard_error\n",
    "\n",
    "# Print the results\n",
    "print(\"The 99% confidence interval for the population mean is:\")\n",
    "print(\"({:.2f}, {:.2f})\".format(lower_bound, upper_bound))\n"
   ]
  }
 ],
 "metadata": {
  "kernelspec": {
   "display_name": "Python 3 (ipykernel)",
   "language": "python",
   "name": "python3"
  },
  "language_info": {
   "codemirror_mode": {
    "name": "ipython",
    "version": 3
   },
   "file_extension": ".py",
   "mimetype": "text/x-python",
   "name": "python",
   "nbconvert_exporter": "python",
   "pygments_lexer": "ipython3",
   "version": "3.10.8"
  }
 },
 "nbformat": 4,
 "nbformat_minor": 5
}
