{
 "cells": [
  {
   "cell_type": "markdown",
   "id": "b8f43b34-117e-4987-b57c-9668dae9fd6f",
   "metadata": {},
   "source": [
    "# Q1"
   ]
  },
  {
   "cell_type": "raw",
   "id": "7ff421a8-40d7-42fc-bfe0-b96deaa254dc",
   "metadata": {},
   "source": [
    "what are the characteristics of tuples? Is tuple immutable?\n",
    "Tuple is a collection of elements of different data types. The data inside a tuple is immutable."
   ]
  },
  {
   "cell_type": "markdown",
   "id": "ca6c20a6-4d22-4b14-bd1f-dc558d2cca37",
   "metadata": {},
   "source": [
    "# Q2"
   ]
  },
  {
   "cell_type": "raw",
   "id": "c7664af9-9058-4611-8b5f-4acbd2c42f91",
   "metadata": {},
   "source": [
    "what are the tuple methods in python? Give an example of each method. Give a reason why tuples have only two in-build methods compared to the lists.\n",
    "\n",
    "Count() and index() are the two inbuilt functions of tuple. Since tuple is a immutable data type only the function that helps to read the tuple are available."
   ]
  },
  {
   "cell_type": "markdown",
   "id": "65feea73-74f4-49e2-be6e-f0a53ac13cd1",
   "metadata": {},
   "source": [
    "# Q3"
   ]
  },
  {
   "cell_type": "code",
   "execution_count": 3,
   "id": "18882f75-a711-4750-b7b1-89f85a1193bb",
   "metadata": {},
   "outputs": [
    {
     "name": "stdout",
     "output_type": "stream",
     "text": [
      "{1, 2, 3, 4}\n"
     ]
    }
   ],
   "source": [
    "\"\"\"Which collection data type in python do not allow duplicate items? write a code using a set to remove\n",
    "duplicates from the given list.\n",
    "\n",
    "Sets doesn't allow duplicates. Sets are declared with {}\n",
    "\n",
    "\"\"\"\n",
    "sets = {1, 1, 1, 2, 1, 3, 1, 4, 2, 1, 2, 2, 2, 3, 2, 4, 3, 1, 3, 2, 3, 3, 3, 4, 4, 1, 4, 2, 4, 3, 4, 4}\n",
    "print(sets)"
   ]
  },
  {
   "cell_type": "markdown",
   "id": "7c0d3d5c-39d8-4ba3-856b-30be71eae281",
   "metadata": {},
   "source": [
    "# Q4"
   ]
  },
  {
   "cell_type": "markdown",
   "id": "4edff7e2-c875-42b7-af1c-3c09904c97d1",
   "metadata": {},
   "source": [
    "Explain the difference between the union() and update() methods for a set. Give an example of\n",
    "each method.\n",
    "\n",
    "Union function merges two different set values into a single set.\n",
    "update function adds additional values to the set."
   ]
  },
  {
   "cell_type": "markdown",
   "id": "bbab6225-3583-4b12-a4f5-8aba959f9e48",
   "metadata": {},
   "source": [
    "# Q5"
   ]
  },
  {
   "cell_type": "raw",
   "id": "6091a0d3-c59c-4ba0-b81f-d48e265deb92",
   "metadata": {},
   "source": [
    "What is a dictionary? Give an example. Also, state whether a dictionary is ordered or unordered.\n",
    "\n",
    "Dictionary is used to store values in key value pair. Dictionary is ordered."
   ]
  },
  {
   "cell_type": "markdown",
   "id": "c858edd2-4f2d-4167-b59b-0baf281e6f9a",
   "metadata": {},
   "source": [
    "# Q6"
   ]
  },
  {
   "cell_type": "code",
   "execution_count": 5,
   "id": "0682dd45-319e-4dd5-a886-11f9ff6a518a",
   "metadata": {},
   "outputs": [
    {
     "name": "stdout",
     "output_type": "stream",
     "text": [
      "{'Name': 'user 1', 'details': {'DOB': '505/05/2258', 'city': 'chennai'}}\n"
     ]
    }
   ],
   "source": [
    "\"\"\"\n",
    "Can we create a nested dictionary? If so, please give an example by creating a simple one-level\n",
    "nested dictionary.\n",
    "\n",
    "Dictionary can be created in nested format also. \n",
    "example:\n",
    "\"\"\"\n",
    "\n",
    "user = {\"Name\" :\"user 1\", \n",
    "       \"details\" : { \"DOB\" : \"505/05/2258\",\n",
    "                  \"city\" : \"chennai\"\n",
    "       }}\n",
    "print(user)"
   ]
  },
  {
   "cell_type": "markdown",
   "id": "f65eb1d0-2954-472d-bfb7-7c957b219608",
   "metadata": {},
   "source": [
    "# Q7"
   ]
  },
  {
   "cell_type": "raw",
   "id": "9dc95076-6a9c-4ddc-8936-ee0985358dda",
   "metadata": {},
   "source": [
    "Using setdefault() method, create key named topics in the given dictionary and also add the value of\n",
    "the key as this list ['Python', 'Machine Learning’, 'Deep Learning']"
   ]
  },
  {
   "cell_type": "code",
   "execution_count": 7,
   "id": "0c987f55-f39b-4136-b3ee-0c6a456c4b5a",
   "metadata": {},
   "outputs": [
    {
     "name": "stdout",
     "output_type": "stream",
     "text": [
      "{'language': 'Python', 'course': 'Data Science Masters', 'topics': ['Python', 'Machine Learning', 'Deep Learning']}\n"
     ]
    }
   ],
   "source": [
    "dict1 = {'language' : 'Python', 'course': 'Data Science Masters'}\n",
    "dict1.setdefault(\"topics\", ['Python', 'Machine Learning', 'Deep Learning'])\n",
    "\n",
    "print(dict1)"
   ]
  },
  {
   "cell_type": "markdown",
   "id": "769a0bef-0705-4934-86d7-7023ce91288a",
   "metadata": {},
   "source": [
    "# Q8 "
   ]
  },
  {
   "cell_type": "raw",
   "id": "3f5c1241-1fe6-4c10-bc97-b83a024c0237",
   "metadata": {},
   "source": [
    "What are the three view objects in dictionaries? Use the three in-built methods in python to display\n",
    "these three view objects for the given dictionary.\n",
    "\n",
    "\n",
    "dict1 = {'Sport': 'Cricket' , 'Teams': ['India', 'Australia', 'England', 'South Africa', 'Sri Lanka', 'New Zealand']}\n"
   ]
  },
  {
   "cell_type": "code",
   "execution_count": 12,
   "id": "5e23bcab-f03a-43a7-9d78-3c5ad52de7eb",
   "metadata": {},
   "outputs": [
    {
     "name": "stdout",
     "output_type": "stream",
     "text": [
      "dict_keys(['Sport', 'Teams'])\n",
      "dict_values(['Cricket', ['India', 'Australia', 'England', 'South Africa', 'Sri Lanka', 'New Zealand']])\n",
      "dict_items([('Sport', 'Cricket'), ('Teams', ['India', 'Australia', 'England', 'South Africa', 'Sri Lanka', 'New Zealand'])])\n"
     ]
    }
   ],
   "source": [
    "dict1 = {'Sport': 'Cricket' , 'Teams': ['India', 'Australia', 'England', 'South Africa', 'Sri Lanka', 'New Zealand']}\n",
    "\n",
    "print(dict1.keys())\n",
    "print(dict1.values())\n",
    "print(dict1.items())\n"
   ]
  },
  {
   "cell_type": "code",
   "execution_count": null,
   "id": "ed454305-b237-4feb-8a42-d5a1cd5c6811",
   "metadata": {},
   "outputs": [],
   "source": []
  }
 ],
 "metadata": {
  "kernelspec": {
   "display_name": "Python 3 (ipykernel)",
   "language": "python",
   "name": "python3"
  },
  "language_info": {
   "codemirror_mode": {
    "name": "ipython",
    "version": 3
   },
   "file_extension": ".py",
   "mimetype": "text/x-python",
   "name": "python",
   "nbconvert_exporter": "python",
   "pygments_lexer": "ipython3",
   "version": "3.10.8"
  }
 },
 "nbformat": 4,
 "nbformat_minor": 5
}
