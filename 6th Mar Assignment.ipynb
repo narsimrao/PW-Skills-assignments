{
 "cells": [
  {
   "cell_type": "markdown",
   "id": "577c994e-d4fa-4dd6-ab34-5278964c9a40",
   "metadata": {},
   "source": [
    "# Q1"
   ]
  },
  {
   "cell_type": "code",
   "execution_count": null,
   "id": "42a2ea94-6d45-430b-9fe8-58093c0db31d",
   "metadata": {},
   "outputs": [],
   "source": [
    "\"\"\"\n",
    "What is Statistics?\n",
    "\"\"\""
   ]
  },
  {
   "cell_type": "code",
   "execution_count": null,
   "id": "f9ab8069-6680-480b-8ec2-21f6174dd552",
   "metadata": {},
   "outputs": [],
   "source": [
    "\"\"\"\n",
    "Statistics is the science of collecting, organizing and analyzing the data\n",
    "\"\"\""
   ]
  },
  {
   "cell_type": "markdown",
   "id": "1f713efa-9aec-4dfa-91a1-ed3c0ceb2e06",
   "metadata": {},
   "source": [
    "# Q2"
   ]
  },
  {
   "cell_type": "code",
   "execution_count": null,
   "id": "cc25c147-baac-4b42-bd3d-799dca0d7244",
   "metadata": {},
   "outputs": [],
   "source": [
    "\"\"\"\n",
    "Define the different types of statistics and give an example of when each type might be used.\n",
    "\"\"\""
   ]
  },
  {
   "cell_type": "code",
   "execution_count": null,
   "id": "3d15472f-ca9f-42e3-85cd-229cc07b7e95",
   "metadata": {},
   "outputs": [],
   "source": [
    "\"\"\"\n",
    "types:\n",
    "1. Descriptive Statistics\n",
    "2. inferential Statistics\n",
    "\n",
    "Descriptive Statistics:\n",
    "Let's say a company wants to analyze the salaries of its employees. \n",
    "They would use descriptive statistics to calculate the mean, median, and mode of the salaries, as well as the range and standard deviation to understand the distribution of salaries in the company. \n",
    "This information can help the company determine whether the salaries are fairly distributed, identify any outliers or disparities, and make decisions about compensation.\n",
    "\n",
    "Inferential Statistics:\n",
    "Suppose a researcher is conducting a study on the effect of a new teaching method on student test scores. \n",
    "The researcher would use inferential statistics to analyze the data collected from a sample of students to draw conclusions about the larger population. \n",
    "They might use a t-test or ANOVA to compare the mean scores of the experimental group to those of the control group, and determine whether the difference is statistically significant. \n",
    "Based on the results, the researcher can make inferences about the effectiveness of the new teaching method and generalize the findings to the larger population of students.\n",
    "\"\"\""
   ]
  },
  {
   "cell_type": "markdown",
   "id": "80f134cc-bb57-4615-9c6b-2184325f547b",
   "metadata": {},
   "source": [
    "# Q3"
   ]
  },
  {
   "cell_type": "code",
   "execution_count": null,
   "id": "809d0755-def2-422b-99e7-ba484aff972b",
   "metadata": {},
   "outputs": [],
   "source": [
    "\"\"\"\n",
    "What are the different types of data and how do they differ from each other? Provide an example of each type of data.\n",
    "\"\"\""
   ]
  },
  {
   "cell_type": "code",
   "execution_count": null,
   "id": "456a2bd5-1c99-458d-9df5-6e00c19ce7b3",
   "metadata": {},
   "outputs": [],
   "source": [
    "\"\"\"\n",
    "Nominal Data:\n",
    "Nominal data is a categorical type of data in which the values represent different categories or names, and there is no inherent order or ranking among them. \n",
    "Examples of nominal data include gender, race, religion, and types of fruit. \n",
    "Nominal data can be represented using numbers or letters, but they do not have any numerical value.\n",
    "\n",
    "Ordinal Data:\n",
    "Ordinal data is a categorical type of data in which the values represent different categories or names that can be ranked in a specific order. \n",
    "The values have a natural order, but the intervals between them may not be equal. \n",
    "Examples of ordinal data include ratings, rankings, and levels of education. \n",
    "Ordinal data can be represented using numbers or letters, but the numerical values do not necessarily have a specific meaning.\n",
    "\n",
    "Interval Data:\n",
    "Interval data is a numerical type of data in which the values represent quantities that have a specific order and a fixed interval between them. \n",
    "However, there is no meaningful zero point, so ratios cannot be calculated. \n",
    "Examples of interval data include temperature, time, and pH levels. \n",
    "Interval data can be represented using decimal numbers, but they do not have a true zero point.\n",
    "\n",
    "Ratio Data:\n",
    "Ratio data is a numerical type of data in which the values represent quantities that have a specific order, a fixed interval between them, and a true zero point. \n",
    "Ratios can be calculated, and meaningful comparisons can be made between values. \n",
    "Examples of ratio data include weight, height, income, and age. \n",
    "Ratio data can be represented using decimal numbers, and the zero point represents an absence of the attribute being measured\n",
    "\"\"\""
   ]
  },
  {
   "cell_type": "markdown",
   "id": "ae4da55d-42d4-47ed-bf67-b0d29f8b4de5",
   "metadata": {},
   "source": [
    "# Q4"
   ]
  },
  {
   "cell_type": "code",
   "execution_count": null,
   "id": "a28ae3a3-5f2e-4c0e-8c82-8afcced42bb1",
   "metadata": {},
   "outputs": [],
   "source": [
    "\"\"\"\n",
    "Categorise the following datasets with respect to quantitative and qualitative data types:\n",
    "(i) Grading in exam: A+, A, B+, B, C+, C, D, E\n",
    "(ii) Colour of mangoes: yellow, green, orange, red\n",
    "(iii) Height data of a class: [178.9, 179, 179.5, 176, 177.2, 178.3, 175.8,...]\n",
    "(iv) Number of mangoes exported by a farm: [500, 600, 478, 672, ...]\n",
    "\"\"\""
   ]
  },
  {
   "cell_type": "code",
   "execution_count": null,
   "id": "2e3514c9-5d95-4e6f-847b-e450c44a910e",
   "metadata": {},
   "outputs": [],
   "source": [
    "\"\"\"\n",
    "(i) Grading in exam: Qualitative data (ordinal)\n",
    "(ii) Colour of mangoes: Qualitative data (nominal)\n",
    "(iii) Height data of a class: Quantitative data (continuous and ratio)\n",
    "(iv) Number of mangoes exported by a farm: Quantitative data (discrete and ratio)\n",
    "\"\"\""
   ]
  },
  {
   "cell_type": "markdown",
   "id": "6bfb72d5-07d3-4295-b74d-25034b6960ab",
   "metadata": {},
   "source": [
    "# Q5"
   ]
  },
  {
   "cell_type": "code",
   "execution_count": null,
   "id": "b4c14644-873e-42a6-8d0e-0ccee9a363af",
   "metadata": {},
   "outputs": [],
   "source": [
    "\"\"\"\n",
    "Explain the concept of levels of measurement and give an example of a variable for each level.\n",
    "\"\"\""
   ]
  },
  {
   "cell_type": "code",
   "execution_count": null,
   "id": "015c9253-2a41-4dd6-a876-1865b0e8cfe4",
   "metadata": {},
   "outputs": [],
   "source": [
    "\"\"\"\n",
    "Nominal Scale:\n",
    "Nominal scale refers to a type of measurement in which variables are classified into categories without any order or ranking. Nominal scale variables are categorical in nature and cannot be quantified. \n",
    "Examples of nominal scale variables include gender (male, female, non-binary), marital status (married, single, divorced, widowed), and political affiliation (Republican, Democrat, Independent).\n",
    "\n",
    "Ordinal Scale:\n",
    "Ordinal scale refers to a type of measurement in which variables are classified into categories with a natural order or ranking. \n",
    "However, the differences between the categories cannot be measured. \n",
    "Examples of ordinal scale variables include educational attainment (high school diploma, bachelor's degree, master's degree), movie ratings (poor, fair, good, excellent), and socioeconomic status (low, middle, high).\n",
    "\n",
    "Interval Scale:\n",
    "Interval scale refers to a type of measurement in which variables are measured on a scale with a fixed interval between the values, but there is no true zero point. \n",
    "The values are meaningful and can be added or subtracted, but ratios cannot be calculated. \n",
    "Examples of interval scale variables include temperature (in Celsius or Fahrenheit), time (in seconds or minutes), and IQ scores.\n",
    "\n",
    "Ratio Scale:\n",
    "Ratio scale refers to a type of measurement in which variables are measured on a scale with a true zero point. \n",
    "The values are meaningful and can be added, subtracted, multiplied, and divided. \n",
    "Examples of ratio scale variables include height (in inches or centimeters), weight (in pounds or kilograms), and income (in dollars or euros).\n",
    "\"\"\""
   ]
  },
  {
   "cell_type": "markdown",
   "id": "b1f5a3b6-fc67-482d-b9bc-9a053f72ab3d",
   "metadata": {},
   "source": [
    "# Q6"
   ]
  },
  {
   "cell_type": "code",
   "execution_count": null,
   "id": "0ef6a2d7-cbc1-4868-a093-8eeae481254d",
   "metadata": {},
   "outputs": [],
   "source": [
    "\"\"\"\n",
    "Why is it important to understand the level of measurement when analyzing data? Provide an example to illustrate your answer.\n",
    "\"\"\""
   ]
  },
  {
   "cell_type": "code",
   "execution_count": null,
   "id": "911b00cf-d787-43dd-9d20-5e28ad5cb7ca",
   "metadata": {},
   "outputs": [],
   "source": [
    "\"\"\"\n",
    "Understanding the level of measurement of a variable is important when analyzing data because it determines the type of statistical analysis that can be performed on the data. \n",
    "Different statistical tests and measures are appropriate for different levels of measurement, and using the wrong statistical method can result in inaccurate or misleading conclusions.\n",
    "\n",
    "For example, suppose we want to compare the average height of students in two different schools. \n",
    "If we measure height using a nominal scale (e.g., tall, medium, short), we cannot use a meaningful measure of central tendency (e.g., mean, median) to compare the two groups. \n",
    "\"\"\""
   ]
  },
  {
   "cell_type": "markdown",
   "id": "d41ed06e-1a54-4602-b725-ae1c72d8fde1",
   "metadata": {},
   "source": [
    "# Q7"
   ]
  },
  {
   "cell_type": "code",
   "execution_count": null,
   "id": "4da2e880-24ff-4081-b329-0718ec3289ec",
   "metadata": {},
   "outputs": [],
   "source": [
    "\"\"\"\n",
    "How nominal data type is different from ordinal data type.\n",
    "\"\"\""
   ]
  },
  {
   "cell_type": "code",
   "execution_count": null,
   "id": "cbb7349b-0d0a-44fb-bfaa-d2bf96d90dec",
   "metadata": {},
   "outputs": [],
   "source": [
    "\"\"\"\n",
    "Nominal data is just a way of categorizing things into groups without any particular order, \n",
    "while ordinal data is a way of categorizing things into groups that have a specific order, \n",
    "but the differences between the groups are not necessarily equal.\n",
    "\"\"\""
   ]
  },
  {
   "cell_type": "markdown",
   "id": "d8bc40ca-6938-4e5b-9918-b7596c44afaa",
   "metadata": {},
   "source": [
    "# Q8"
   ]
  },
  {
   "cell_type": "code",
   "execution_count": null,
   "id": "d24b70ed-43fc-4683-b16f-4089f346a46b",
   "metadata": {},
   "outputs": [],
   "source": [
    "\"\"\"\n",
    "Which type of plot can be used to display data in terms of range?\n",
    "\"\"\""
   ]
  },
  {
   "cell_type": "code",
   "execution_count": null,
   "id": "dd8cf5bb-3b14-440b-aaca-4fc4e9870256",
   "metadata": {},
   "outputs": [],
   "source": [
    "\"\"\"\n",
    "box-plot\n",
    "\"\"\""
   ]
  },
  {
   "cell_type": "markdown",
   "id": "9dc51b37-5257-4361-a226-dfd28e097260",
   "metadata": {},
   "source": [
    "# Q9"
   ]
  },
  {
   "cell_type": "code",
   "execution_count": null,
   "id": "3c249d8f-49b6-43a7-9c4d-9bd0a7c28fb9",
   "metadata": {},
   "outputs": [],
   "source": [
    "\"\"\"\n",
    "Describe the difference between descriptive and inferential statistics. Give an example of each type of statistics and explain how they are used.\n",
    "\"\"\""
   ]
  },
  {
   "cell_type": "code",
   "execution_count": null,
   "id": "a4184b2e-00f5-4e05-b076-125d1d9af983",
   "metadata": {},
   "outputs": [],
   "source": [
    "\"\"\"\n",
    "Descriptive statistics summarizes and describes features of a dataset, \n",
    "while inferential statistics makes predictions or inferences about a larger population based on a sample.\n",
    "\n",
    "Descriptive statistics:\n",
    "Suppose you have a dataset of the heights of students in a class, and you want to summarize the basic features of this dataset. \n",
    "You could use descriptive statistics to calculate the mean height, median height, and standard deviation of the heights of the students. \n",
    "This would provide a simple summary of the dataset and help identify any patterns or trends in the data.\n",
    "\n",
    "Inferential statistics:\n",
    "Suppose you want to determine whether there is a significant difference in the mean height of male and female students in the class. \n",
    "You could take a random sample of male and female students and use inferential statistics to determine whether the difference in mean height between the two groups is statistically significant\n",
    "\"\"\""
   ]
  },
  {
   "cell_type": "markdown",
   "id": "42d5ee78-b2f5-448e-b397-440e582fdb25",
   "metadata": {},
   "source": [
    "# Q10"
   ]
  },
  {
   "cell_type": "code",
   "execution_count": null,
   "id": "e8dc1a17-2ef7-4ce4-baff-86e0d8ad10ec",
   "metadata": {},
   "outputs": [],
   "source": [
    "\"\"\"\n",
    "What are some common measures of central tendency and variability used in statistics? Explain how each measure can be used to describe a dataset.\n",
    "\"\"\""
   ]
  },
  {
   "cell_type": "code",
   "execution_count": null,
   "id": "ed1bf1ca-e392-4114-8b98-33791c391a1a",
   "metadata": {},
   "outputs": [],
   "source": [
    "\"\"\"\n",
    "Measures of central tendency:\n",
    "a. Mean: The mean is the arithmetic average of a dataset. \n",
    "    It can be calculated by adding up all the values in the dataset and dividing by the total number of values. \n",
    "    The mean is a useful measure of central tendency when the data is normally distributed and there are no outliers.\n",
    "b. Median: The median is the middle value in a dataset when the values are arranged in order. \n",
    "    It is a useful measure of central tendency when the data contains outliers or is not normally distributed.\n",
    "c. Mode: The mode is the most frequent value in a dataset. \n",
    "    It is a useful measure of central tendency when the data contains discrete values or categorical variables.\n",
    "\n",
    "Measures of variability:\n",
    "a. Range: The range is the difference between the maximum and minimum values in a dataset. \n",
    "    It provides a measure of the spread of the data. \n",
    "    However, it is sensitive to outliers and may not be representative of the overall variability in the dataset.\n",
    "b. Variance: The variance measures how spread out the data is from the mean. \n",
    "    It can be calculated by taking the average of the squared differences between each value and the mean. \n",
    "    It is a useful measure of variability when the data is normally distributed and there are no outliers.\n",
    "c. Standard deviation: The standard deviation is the square root of the variance. \n",
    "    It measures the average distance of the data from the mean. \n",
    "    It is a useful measure of variability when the data is normally distributed and there are no outliers.\n",
    "\"\"\""
   ]
  }
 ],
 "metadata": {
  "kernelspec": {
   "display_name": "Python 3 (ipykernel)",
   "language": "python",
   "name": "python3"
  },
  "language_info": {
   "codemirror_mode": {
    "name": "ipython",
    "version": 3
   },
   "file_extension": ".py",
   "mimetype": "text/x-python",
   "name": "python",
   "nbconvert_exporter": "python",
   "pygments_lexer": "ipython3",
   "version": "3.10.8"
  }
 },
 "nbformat": 4,
 "nbformat_minor": 5
}
