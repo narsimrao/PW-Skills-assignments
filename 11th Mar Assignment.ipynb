{
 "cells": [
  {
   "cell_type": "markdown",
   "id": "78aed242-4e9c-4ab8-ba3f-095d11266066",
   "metadata": {},
   "source": [
    "# Q1"
   ]
  },
  {
   "cell_type": "code",
   "execution_count": null,
   "id": "7877d47b-0254-4939-b1d0-47f8b8b5bb00",
   "metadata": {},
   "outputs": [],
   "source": [
    "\"\"\"\n",
    "What is the difference between a t-test and a z-test? Provide an example scenario where you would use each type of test.\n",
    "\"\"\""
   ]
  },
  {
   "cell_type": "code",
   "execution_count": null,
   "id": "e400d57e-dee4-4100-b56b-16f4433b5aa2",
   "metadata": {},
   "outputs": [],
   "source": [
    "\"\"\"\n",
    "The main difference between a t-test and a z-test is the type of data being analyzed. \n",
    "A z-test is used when the population standard deviation is known, or the sample size is large (typically n > 30). \n",
    "A t-test is used when the population standard deviation is unknown, or the sample size is small (typically n < 30).\n",
    "\n",
    "An example scenario where a z-test might be used is when analyzing the height of a population of adult men. \n",
    "The mean height of adult men is well-known, and the standard deviation of heights is relatively small. \n",
    "A sample of heights from a group of adult men can be compared to the known population mean height using a z-test.\n",
    "\n",
    "An example scenario where a t-test might be used is when analyzing the effectiveness of a new drug treatment. \n",
    "The standard deviation of the population is typically unknown, and a small sample size is used in the study. \n",
    "A t-test can be used to determine if the mean effectiveness of the new drug is significantly different from the population mean.\n",
    "\"\"\""
   ]
  },
  {
   "cell_type": "markdown",
   "id": "dbe81f9b-8785-43d9-9c4b-c2e0cfe5e59f",
   "metadata": {},
   "source": [
    "# Q2"
   ]
  },
  {
   "cell_type": "code",
   "execution_count": null,
   "id": "975b6178-e606-4f9e-a6c7-05d30758a94a",
   "metadata": {},
   "outputs": [],
   "source": [
    "\"\"\"\n",
    "Differentiate between one-tailed and two-tailed tests.\n",
    "\"\"\""
   ]
  },
  {
   "cell_type": "code",
   "execution_count": null,
   "id": "34991dd3-3e60-466a-8c7b-c971915f1db0",
   "metadata": {},
   "outputs": [],
   "source": [
    "\"\"\"\n",
    "One-tailed tests are used when the alternative hypothesis is directional, meaning that we are only interested in one direction of difference from the null hypothesis. \n",
    "Two-tailed tests are used when the alternative hypothesis is non-directional, meaning that we are interested in any difference from the null hypothesis, regardless of direction. \n",
    "In a one-tailed test, the entire alpha level is allocated to one tail, while in a two-tailed test, the alpha level is split equally between the two tails.\n",
    "\"\"\""
   ]
  },
  {
   "cell_type": "markdown",
   "id": "f1de747a-2537-4da6-9152-e48de5989e81",
   "metadata": {},
   "source": [
    "# Q3"
   ]
  },
  {
   "cell_type": "code",
   "execution_count": null,
   "id": "d9483ee9-ad43-4819-bb36-4f15e44c9203",
   "metadata": {},
   "outputs": [],
   "source": [
    "\"\"\"\n",
    "Explain the concept of Type 1 and Type 2 errors in hypothesis testing. Provide an example scenario for each type of error.\n",
    "\"\"\""
   ]
  },
  {
   "cell_type": "code",
   "execution_count": null,
   "id": "a5aa80cc-2ada-45da-931f-7a66ee027b66",
   "metadata": {},
   "outputs": [],
   "source": [
    "\"\"\"\n",
    "Type 1 error: This occurs when we reject the null hypothesis when it is actually true. In other words, we conclude that there is a significant effect when there really isn't. The probability of committing a Type 1 error is denoted by alpha, which is the level of significance we choose for our hypothesis test. A lower alpha value means a lower probability of making a Type 1 error.\n",
    "Example: In a criminal trial, the null hypothesis is that the defendant is innocent. A Type 1 error occurs when the jury convicts the defendant even though they are actually innocent.\n",
    "\n",
    "Type 2 error: This occurs when we fail to reject the null hypothesis when it is actually false. In other words, we conclude that there is no significant effect when there actually is. The probability of committing a Type 2 error is denoted by beta. A lower beta value means a lower probability of making a Type 2 error.\n",
    "Example: In a medical trial, the null hypothesis is that a new drug has no effect on a disease. A Type 2 error occurs when the trial fails to detect a significant effect of the drug even though it actually has a positive effect.\n",
    "\"\"\""
   ]
  },
  {
   "cell_type": "markdown",
   "id": "a2554706-fa34-44b3-92a3-ba3e3b6a4f53",
   "metadata": {},
   "source": [
    "# Q4"
   ]
  },
  {
   "cell_type": "code",
   "execution_count": null,
   "id": "dd2c428a-21ef-4def-9994-470868eacd46",
   "metadata": {},
   "outputs": [],
   "source": [
    "\"\"\"\n",
    "Explain Bayes's theorem with an example.\n",
    "\"\"\""
   ]
  },
  {
   "cell_type": "code",
   "execution_count": null,
   "id": "a722d31b-5f2c-462a-a634-ba83ea0a3e03",
   "metadata": {},
   "outputs": [],
   "source": [
    "\"\"\"\n",
    "Bayes's theorem is a mathematical formula that helps to calculate the conditional probability of an event based on prior knowledge or evidence. \n",
    "It involves revising the probability of an event based on new information. The formula is as follows:\n",
    "\n",
    "P(A|B) = P(B|A) x P(A) / P(B)\n",
    "\n",
    "Where,\n",
    "P(A|B) is the probability of event A given event B has occurred.\n",
    "P(B|A) is the probability of event B given event A has occurred.\n",
    "P(A) is the prior probability of event A.\n",
    "P(B) is the prior probability of event B.\n",
    "\n",
    "Here is an example scenario to explain Bayes's theorem:\n",
    "\n",
    "Suppose a doctor administers a test for a certain disease. \n",
    "The test has a 99% accuracy rate, meaning it correctly identifies a person with the disease 99% of the time and a person without the disease 99% of the time. \n",
    "However, the disease is rare, and only 1% of the population has it.\n",
    "\n",
    "Now, suppose a patient tests positive for the disease. What is the probability that the patient actually has the disease?\n",
    "\n",
    "Here, we need to apply Bayes's theorem to find the conditional probability. Let's assume event A is having the disease, and event B is testing positive for the disease.\n",
    "\n",
    "P(A|B) = P(B|A) x P(A) / P(B)\n",
    "\n",
    "P(B|A) is the probability of testing positive given that the patient has the disease, which is 0.99.\n",
    "P(A) is the prior probability of having the disease, which is 0.01.\n",
    "P(B) is the prior probability of testing positive, which can be calculated as follows:\n",
    "\n",
    "P(B) = P(B|A) x P(A) + P(B|~A) x P(~A)\n",
    "where ~A denotes not having the disease.\n",
    "\n",
    "P(B|~A) is the probability of testing positive given that the patient does not have the disease, which is 0.01 (since the test has a 99% accuracy rate).\n",
    "P(~A) is the prior probability of not having the disease, which is 0.99.\n",
    "\n",
    "P(B) = 0.99 x 0.01 + 0.01 x 0.99 = 0.0198\n",
    "\n",
    "Now we can calculate the conditional probability:\n",
    "\n",
    "P(A|B) = 0.99 x 0.01 / 0.0198 = 0.5\n",
    "\n",
    "So the probability that the patient actually has the disease given a positive test result is only 50%. This example shows how Bayes's theorem can help to update the probability of an event based on new information.\n",
    "\"\"\""
   ]
  },
  {
   "cell_type": "markdown",
   "id": "b3aa79eb-af2c-4d4e-926d-2e06d1487287",
   "metadata": {},
   "source": [
    "# Q5"
   ]
  },
  {
   "cell_type": "code",
   "execution_count": null,
   "id": "0462a5df-2c16-4f70-9a1d-c01cdd3268c0",
   "metadata": {},
   "outputs": [],
   "source": [
    "\"\"\"\n",
    "What is a confidence interval? How to calculate the confidence interval, explain with an example.\n",
    "\"\"\""
   ]
  },
  {
   "cell_type": "code",
   "execution_count": null,
   "id": "20254c54-e00a-4c6d-9973-9ecaaa074cde",
   "metadata": {},
   "outputs": [],
   "source": [
    "\"\"\"\n",
    "A confidence interval is a range of values that is likely to contain the true population parameter, with a specified level of confidence. \n",
    "It is a statistical measure that helps us estimate how reliable our sample mean is in representing the true population mean.\n",
    "\n",
    "To calculate a confidence interval, we need three pieces of information: the sample mean, the sample standard deviation, and the desired level of confidence. The formula for a confidence interval is:\n",
    "\n",
    "Confidence interval = sample mean ± margin of error\n",
    "\n",
    "where the margin of error is calculated as:\n",
    "\n",
    "Margin of error = (critical value) x (standard error)\n",
    "\n",
    "The critical value is determined by the desired level of confidence and the degrees of freedom, while the standard error is calculated as the sample standard deviation divided by the square root of the sample size.\n",
    "\n",
    "For example, let's say we want to estimate the average height of adult men in a population with 95% confidence. \n",
    "We take a random sample of 100 men and find that their average height is 5'10\", with a standard deviation of 2 inches. \n",
    "Using a t-distribution with 99 degrees of freedom (100-1), we find the critical value to be 1.984 at a 95% confidence level. \n",
    "The standard error is calculated as 0.2 inches (2 / sqrt(100)). Therefore, the margin of error is 0.397 inches (1.984 x 0.2). \n",
    "The 95% confidence interval for the population mean height is then:\n",
    "\n",
    "5'10\" ± 0.397 inches\n",
    "\n",
    "which gives us a range of heights likely to contain the true population mean height with 95% confidence.\n",
    "\"\"\""
   ]
  },
  {
   "cell_type": "markdown",
   "id": "f580b177-259d-471f-ad7f-1095aea74779",
   "metadata": {},
   "source": [
    "# Q6"
   ]
  },
  {
   "cell_type": "code",
   "execution_count": null,
   "id": "7f4430bd-c656-4eec-8d6e-5947b4182d0b",
   "metadata": {},
   "outputs": [],
   "source": [
    "\"\"\"\n",
    "Use Bayes' Theorem to calculate the probability of an event occurring given prior knowledge of the event's probability and new evidence. \n",
    "Provide a sample problem and solution.\n",
    "\"\"\""
   ]
  },
  {
   "cell_type": "code",
   "execution_count": null,
   "id": "9edcd616-565c-4884-8e3b-39b252762810",
   "metadata": {},
   "outputs": [],
   "source": [
    "\"\"\"\n",
    "Suppose a medical test for a rare disease has a false positive rate of 5% and a false negative rate of 2%. \n",
    "The disease occurs in 1% of the population. If a patient tests positive for the disease, what is the probability that they actually have the disease?\n",
    "\n",
    "Solution:\n",
    "\n",
    "Let A be the event that a person has the disease, and B be the event that a person tests positive for the disease. \n",
    "We want to find P(A|B), the probability that a person has the disease given that they tested positive.\n",
    "\n",
    "Using Bayes' Theorem:\n",
    "\n",
    "P(A|B) = P(B|A) * P(A) / P(B)\n",
    "\n",
    "We know:\n",
    "\n",
    "P(B|A) = 1 - 0.02 = 0.98 (true positive rate)\n",
    "P(A) = 0.01 (prevalence of the disease)\n",
    "\n",
    "To find P(B), we need to use the law of total probability:\n",
    "\n",
    "P(B) = P(B|A) * P(A) + P(B|~A) * P(~A)\n",
    "\n",
    "where ~A is the complement of A, i.e., the event that a person does not have the disease.\n",
    "\n",
    "We know:\n",
    "\n",
    "P(B|~A) = 0.05 (false positive rate)\n",
    "P(~A) = 1 - P(A) = 0.99\n",
    "\n",
    "So,\n",
    "\n",
    "P(B) = 0.98 * 0.01 + 0.05 * 0.99 = 0.0586\n",
    "\n",
    "Now we can plug in all the values into Bayes' Theorem:\n",
    "\n",
    "P(A|B) = 0.98 * 0.01 / 0.0586 = 0.167\n",
    "\n",
    "So the probability that a person actually has the disease given a positive test result is only 16.7%, even though the test has a very low false positive rate (5%). \n",
    "This illustrates the importance of considering the base rate (prevalence) of a disease when interpreting test results.\n",
    "\"\"\""
   ]
  },
  {
   "cell_type": "markdown",
   "id": "57318d52-5e98-43d8-acef-96268051e7fd",
   "metadata": {},
   "source": [
    "# Q7"
   ]
  },
  {
   "cell_type": "code",
   "execution_count": null,
   "id": "bf2ce60b-6771-47e2-a67a-6186db75231d",
   "metadata": {},
   "outputs": [],
   "source": [
    "\"\"\"\n",
    "Calculate the 95% confidence interval for a sample of data with a mean of 50 and a standard deviation of 5. Interpret the results.\n",
    "\"\"\""
   ]
  },
  {
   "cell_type": "code",
   "execution_count": null,
   "id": "aade965c-0827-4271-a44b-29b56ebb03b3",
   "metadata": {},
   "outputs": [],
   "source": [
    "\"\"\"\n",
    "To calculate the 95% confidence interval, we need to use the following formula:\n",
    "\n",
    "Confidence interval = sample mean ± (critical value x standard error)\n",
    "\n",
    "where:\n",
    "\n",
    "- sample mean = 50\n",
    "- standard deviation = 5\n",
    "- sample size = unknown\n",
    "- critical value = 1.96 (for a 95% confidence level)\n",
    "- standard error = standard deviation / sqrt(sample size)\n",
    "\n",
    "Since we don't know the sample size, we cannot calculate the standard error or the confidence interval.\n",
    "\n",
    "However, if we assume a sample size of 100, then the standard error would be:\n",
    "\n",
    "standard error = 5 / sqrt(100) = 0.5\n",
    "\n",
    "The 95% confidence interval would then be:\n",
    "\n",
    "Confidence interval = 50 ± (1.96 x 0.5) = [49.05, 50.95]\n",
    "\n",
    "Interpretation: We can be 95% confident that the true population mean lies within the range of 49.05 to 50.95. \n",
    "This means that if we were to take many random samples from the population and calculate their means, 95% of those sample means would fall within this range.\n",
    "\"\"\""
   ]
  },
  {
   "cell_type": "markdown",
   "id": "2f5d1cf4-233d-43cb-8734-093000db856d",
   "metadata": {},
   "source": [
    "# Q8"
   ]
  },
  {
   "cell_type": "code",
   "execution_count": null,
   "id": "a8c3d568-0c99-4391-a993-442f9efc8165",
   "metadata": {},
   "outputs": [],
   "source": [
    "\"\"\"\n",
    "What is the margin of error in a confidence interval? How does sample size affect the margin of error? \n",
    "Provide an example of a scenario where a larger sample size would result in a smaller margin of error.\n",
    "\"\"\""
   ]
  },
  {
   "cell_type": "code",
   "execution_count": null,
   "id": "38f38320-c53f-4f87-9af1-3aec1405409e",
   "metadata": {},
   "outputs": [],
   "source": [
    "\"\"\"\n",
    "The margin of error is the range of values above and below the sample statistic that is likely to contain the true population parameter with a certain level of confidence. \n",
    "In other words, it is the degree of uncertainty in the estimate due to sampling variability.\n",
    "\n",
    "Sample size has a direct effect on the margin of error. As the sample size increases, the margin of error decreases because a larger sample provides a more accurate representation of the population. \n",
    "This reduces the sampling error, which is one of the factors that contribute to the margin of error.\n",
    "\n",
    "For example, consider a scenario where a company wants to estimate the average age of its customers with a 95% confidence interval and a margin of error of 2 years. \n",
    "With a sample size of 100 customers, the margin of error might be around 2.12 years. \n",
    "However, if the sample size is increased to 500 customers, the margin of error would decrease to around 0.90 years. \n",
    "This means that a larger sample size provides a more precise estimate of the population parameter with a smaller margin of error.\n",
    "\"\"\""
   ]
  },
  {
   "cell_type": "markdown",
   "id": "cad026ec-690d-4933-9165-f5fd9e4f18be",
   "metadata": {},
   "source": [
    "# Q9"
   ]
  },
  {
   "cell_type": "code",
   "execution_count": null,
   "id": "9cce7b25-afb8-4a93-8d40-fdb39b9d6bb8",
   "metadata": {},
   "outputs": [],
   "source": [
    "\"\"\"\n",
    "Calculate the z-score for a data point with a value of 75, a population mean of 70, and a population standard deviation of 5. Interpret the results.\n",
    "\"\"\""
   ]
  },
  {
   "cell_type": "code",
   "execution_count": null,
   "id": "5419627f-c74c-462d-834a-ea8277a94dfa",
   "metadata": {},
   "outputs": [],
   "source": [
    "\"\"\"\n",
    "To calculate the z-score, we can use the formula:\n",
    "\n",
    "z = (x - μ) / σ\n",
    "\n",
    "where:\n",
    "x = the data point value\n",
    "μ = the population mean\n",
    "σ = the population standard deviation\n",
    "\n",
    "Plugging in the values, we get:\n",
    "\n",
    "z = (75 - 70) / 5\n",
    "z = 1\n",
    "\n",
    "Interpreting the results, a z-score of 1 means that the data point is one standard deviation above the population mean.\n",
    "\"\"\""
   ]
  },
  {
   "cell_type": "markdown",
   "id": "6a03aab4-d313-471d-9f4c-2fc605337817",
   "metadata": {},
   "source": [
    "# Q10"
   ]
  },
  {
   "cell_type": "code",
   "execution_count": null,
   "id": "f109a58f-5b8b-4277-a33c-c4b76380d901",
   "metadata": {},
   "outputs": [],
   "source": [
    "\"\"\"\n",
    "In a study of the effectiveness of a new weight loss drug, a sample of 50 participants lost an average of 6 pounds with a standard deviation of 2.5 pounds. \n",
    "Conduct a hypothesis test to determine if the drug is significantly effective at a 95% confidence level using a t-test.\n",
    "\"\"\""
   ]
  },
  {
   "cell_type": "code",
   "execution_count": null,
   "id": "6791dd90-4418-40af-be4a-82ce96d8ce14",
   "metadata": {},
   "outputs": [],
   "source": [
    "\"\"\"\n",
    "Given:\n",
    "Sample size (n) = 50\n",
    "Sample mean (x̄) = 6\n",
    "Sample standard deviation (s) = 2.5\n",
    "Confidence level = 95%\n",
    "\n",
    "We can use a one-sample t-test to test the hypothesis:\n",
    "\n",
    "Null hypothesis: The new weight loss drug is not significantly effective, i.e. the true mean weight loss is 0.\n",
    "Alternative hypothesis: The new weight loss drug is significantly effective, i.e. the true mean weight loss is not 0.\n",
    "\n",
    "We will use a significance level (α) of 0.05, which corresponds to a 95% confidence level.\n",
    "\n",
    "The t-statistic can be calculated using the formula:\n",
    "\n",
    "t = (x̄ - μ) / (s / sqrt(n))\n",
    "\n",
    "where x̄ is the sample mean, μ is the hypothesized population mean (in this case, 0), s is the sample standard deviation, and n is the sample size.\n",
    "\n",
    "Plugging in the values, we get:\n",
    "\n",
    "t = (6 - 0) / (2.5 / sqrt(50)) = 21.21\n",
    "\n",
    "The degrees of freedom (df) for this test is n - 1 = 49. Using a t-distribution table or a calculator, we find the critical t-value for a two-tailed test with α = 0.05 and df = 49 to be ±2.01.\n",
    "\n",
    "Since our calculated t-value of 21.21 is outside the range of ±2.01, we reject the null hypothesis and conclude that the new weight loss drug is significantly effective at a 95% confidence level.\n",
    "\"\"\""
   ]
  },
  {
   "cell_type": "markdown",
   "id": "35f88785-940d-4b36-9918-773ab380621e",
   "metadata": {},
   "source": [
    "# Q11"
   ]
  },
  {
   "cell_type": "code",
   "execution_count": null,
   "id": "bd5788ec-2456-454a-afd4-779f19491baf",
   "metadata": {},
   "outputs": [],
   "source": [
    "\"\"\"\n",
    "In a survey of 500 people, 65% reported being satisfied with their current job. \n",
    "Calculate the 95% confidence interval for the true proportion of people who are satisfied with their job.\n",
    "\"\"\""
   ]
  },
  {
   "cell_type": "code",
   "execution_count": null,
   "id": "5201e1d3-3055-4d18-b43f-13bf70a99255",
   "metadata": {},
   "outputs": [],
   "source": [
    "\"\"\"\n",
    "To calculate the 95% confidence interval for the true proportion of people who are satisfied with their job, we can use the following formula:\n",
    "\n",
    "CI = p ± z*sqrt((p*(1-p))/n)\n",
    "\n",
    "where:\n",
    "- p is the sample proportion (0.65 in this case)\n",
    "- z is the z-score corresponding to the desired confidence level (1.96 for 95% confidence level)\n",
    "- n is the sample size (500 in this case)\n",
    "\n",
    "Substituting the values in the formula, we get:\n",
    "\n",
    "CI = 0.65 ± 1.96*sqrt((0.65*(1-0.65))/500)\n",
    "\n",
    "CI = 0.65 ± 0.047\n",
    "\n",
    "The 95% confidence interval for the true proportion of people who are satisfied with their job is (0.603, 0.697).\n",
    "\n",
    "Interpretation: We can be 95% confident that the true proportion of people who are satisfied with their job lies between 0.603 and 0.697.\n",
    "\"\"\""
   ]
  },
  {
   "cell_type": "markdown",
   "id": "d53b8f71-3f13-47de-8e50-69b55d8c6a41",
   "metadata": {},
   "source": [
    "# Q12"
   ]
  },
  {
   "cell_type": "code",
   "execution_count": null,
   "id": "369aa72d-a375-438e-bfc9-5ebea626d4e3",
   "metadata": {},
   "outputs": [],
   "source": [
    "\"\"\"\n",
    "A researcher is testing the effectiveness of two different teaching methods on student performance. \n",
    "Sample A has a mean score of 85 with a standard deviation of 6, while sample B has a mean score of 82 with a standard deviation of 5. \n",
    "Conduct a hypothesis test to determine if the two teaching methods have a significant difference in student performance using a t-test with a significance level of 0.01.\n",
    "\"\"\""
   ]
  },
  {
   "cell_type": "code",
   "execution_count": null,
   "id": "2e8e41c8-83e3-4082-8245-4ceced72b675",
   "metadata": {},
   "outputs": [],
   "source": [
    "\"\"\"\n",
    "To determine if there is a significant difference in student performance between the two teaching methods, we can conduct a two-sample t-test.\n",
    "\n",
    "The null hypothesis is that there is no significant difference between the mean scores of the two teaching methods, while the alternative hypothesis is that there is a significant difference between the two means.\n",
    "\n",
    "H0: μA = μB\n",
    "Ha: μA ≠ μB\n",
    "\n",
    "We will use a two-tailed t-test with a significance level of 0.01 and assume equal variances between the two samples.\n",
    "\n",
    "First, we calculate the pooled standard deviation:\n",
    "\n",
    "s_p = sqrt(((n1-1)*s1^2 + (n2-1)*s2^2) / (n1+n2-2))\n",
    "s_p = sqrt(((29)*(6)^2 + (39)*(5)^2) / (68))\n",
    "s_p = 5.52\n",
    "\n",
    "Next, we calculate the t-statistic:\n",
    "\n",
    "t = (x1 - x2) / (s_p * sqrt(1/n1 + 1/n2))\n",
    "t = (85 - 82) / (5.52 * sqrt(1/30 + 1/40))\n",
    "t = 2.49\n",
    "\n",
    "The degrees of freedom for this test is (n1 + n2 - 2) = 68.\n",
    "\n",
    "Using a t-distribution table or calculator with 68 degrees of freedom and a significance level of 0.01, the critical t-value is ±2.661.\n",
    "\n",
    "Since our calculated t-value of 2.49 does not exceed the critical t-value of 2.661, we fail to reject the null hypothesis. Therefore, we do not have enough evidence to conclude that there is a significant difference in student performance between the two teaching methods.\n",
    "\"\"\""
   ]
  },
  {
   "cell_type": "markdown",
   "id": "e40e509a-8eef-451f-9019-3720ff2b771d",
   "metadata": {},
   "source": [
    "# Q13"
   ]
  },
  {
   "cell_type": "code",
   "execution_count": null,
   "id": "16fe9dd1-4069-4d13-91d7-2b695c9d518f",
   "metadata": {},
   "outputs": [],
   "source": [
    "\"\"\"\n",
    "A population has a mean of 60 and a standard deviation of 8. A sample of 50 observations has a mean of 65. \n",
    "Calculate the 90% confidence interval for the true population mean.\n",
    "\"\"\""
   ]
  },
  {
   "cell_type": "code",
   "execution_count": null,
   "id": "7c1c47cc-be97-44c8-a26d-9470ea8ad0e2",
   "metadata": {},
   "outputs": [],
   "source": [
    "\"\"\"\n",
    "To calculate the 90% confidence interval for the true population mean, we can use the formula:\n",
    "\n",
    "Confidence interval = sample mean ± (z-value * standard error)\n",
    "\n",
    "where the standard error is equal to the population standard deviation divided by the square root of the sample size:\n",
    "\n",
    "Standard error = σ / √n\n",
    "\n",
    "First, let's calculate the standard error:\n",
    "\n",
    "Standard error = 8 / √50 = 1.131\n",
    "\n",
    "Next, we need to find the z-value for the 90% confidence level. We can look this up in a standard normal distribution table or use a calculator. The z-value for a 90% confidence level is approximately 1.645.\n",
    "\n",
    "Now we can calculate the confidence interval:\n",
    "\n",
    "Confidence interval = 65 ± (1.645 * 1.131) = 65 ± 1.859\n",
    "\n",
    "Therefore, the 90% confidence interval for the true population mean is (63.141, 66.859). We can interpret this as there is a 90% chance that the true population mean falls within this range.\n",
    "\"\"\""
   ]
  },
  {
   "cell_type": "markdown",
   "id": "df809b7e-4c7c-4460-9f21-239513b91624",
   "metadata": {},
   "source": [
    "# Q14"
   ]
  },
  {
   "cell_type": "code",
   "execution_count": null,
   "id": "a0546b2a-17c6-489d-b136-24f2b959f42a",
   "metadata": {},
   "outputs": [],
   "source": [
    "\"\"\"\n",
    "In a study of the effects of caffeine on reaction time, a sample of 30 participants had an average reaction time of 0.25 seconds with a standard deviation of 0.05 seconds. \n",
    "Conduct a hypothesis test to determine if the caffeine has a significant effect on reaction time at a 90% confidence level using a t-test.\n",
    "\"\"\""
   ]
  },
  {
   "cell_type": "code",
   "execution_count": null,
   "id": "5472ee58-7d1d-4f54-9cbe-1e3a4a8eca2d",
   "metadata": {},
   "outputs": [],
   "source": [
    "\"\"\"\n",
    "Null hypothesis: The caffeine has no significant effect on reaction time. The population mean reaction time is equal to 0.25 seconds.\n",
    "Alternative hypothesis: The caffeine has a significant effect on reaction time. The population mean reaction time is not equal to 0.25 seconds.\n",
    "\n",
    "We will use a two-tailed t-test with a significance level of 0.10 (90% confidence level).\n",
    "\n",
    "First, we calculate the t-value:\n",
    "\n",
    "t = (sample mean - hypothesized mean) / (sample standard deviation / sqrt(sample size))\n",
    "t = (0.25 - 0) / (0.05 / sqrt(30))\n",
    "t = 7.746\n",
    "\n",
    "Next, we find the critical t-value from the t-distribution table with 29 degrees of freedom (df = sample size - 1) and a significance level of 0.05 (two-tailed test):\n",
    "\n",
    "t_critical = ±2.045\n",
    "\n",
    "Since our calculated t-value (7.746) is greater than the critical t-value (2.045), we reject the null hypothesis.\n",
    "\n",
    "Therefore, we can conclude that the caffeine has a significant effect on reaction time at a 90% confidence level.\n",
    "\"\"\""
   ]
  }
 ],
 "metadata": {
  "kernelspec": {
   "display_name": "Python 3 (ipykernel)",
   "language": "python",
   "name": "python3"
  },
  "language_info": {
   "codemirror_mode": {
    "name": "ipython",
    "version": 3
   },
   "file_extension": ".py",
   "mimetype": "text/x-python",
   "name": "python",
   "nbconvert_exporter": "python",
   "pygments_lexer": "ipython3",
   "version": "3.10.8"
  }
 },
 "nbformat": 4,
 "nbformat_minor": 5
}
