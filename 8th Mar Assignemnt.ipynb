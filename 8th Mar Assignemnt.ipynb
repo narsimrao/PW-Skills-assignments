{
 "cells": [
  {
   "cell_type": "markdown",
   "id": "dfb34390-6b27-44fb-abc3-cf1d62c72d4c",
   "metadata": {},
   "source": [
    "# Q1"
   ]
  },
  {
   "cell_type": "code",
   "execution_count": null,
   "id": "d8e44255-88a1-4220-a9fe-f20d0860b012",
   "metadata": {},
   "outputs": [],
   "source": [
    "\"\"\"\n",
    "What is the Probability density function?\n",
    "\"\"\""
   ]
  },
  {
   "cell_type": "code",
   "execution_count": null,
   "id": "aff7cd47-812f-403c-95ab-44d6033465c4",
   "metadata": {},
   "outputs": [],
   "source": [
    "\"\"\"\n",
    "The probability density function (PDF) is a function that describes the relative likelihood of a random variable taking on a given value. \n",
    "In other words, it specifies the probability that a random variable falls within a particular range of values, as opposed to taking on any specific value. \n",
    "The PDF is often used to describe continuous random variables, and can be used to calculate probabilities for a range of outcomes.\n",
    "\"\"\""
   ]
  },
  {
   "cell_type": "markdown",
   "id": "c04c2998-11ec-4d37-81b5-cfe464a2b1f5",
   "metadata": {},
   "source": [
    "# Q2"
   ]
  },
  {
   "cell_type": "code",
   "execution_count": null,
   "id": "d78c090a-2878-4929-b844-c7c853b3e159",
   "metadata": {},
   "outputs": [],
   "source": [
    "\"\"\"\n",
    "What are the types of Probability distribution?\n",
    "\"\"\""
   ]
  },
  {
   "cell_type": "code",
   "execution_count": null,
   "id": "5b90d611-9a4e-42c1-aa03-fa9871d563f7",
   "metadata": {},
   "outputs": [],
   "source": [
    "\"\"\"\n",
    "Normal distribution\n",
    "Binomial distribution\n",
    "Poisson distribution\n",
    "Uniform distribution\n",
    "Bernoulli distribution\n",
    "Log normal distribution\n",
    "Power law distribution\n",
    "\"\"\""
   ]
  },
  {
   "cell_type": "markdown",
   "id": "e03e5d1a-17d5-4781-985d-77f50c0084a5",
   "metadata": {},
   "source": [
    "# Q3"
   ]
  },
  {
   "cell_type": "code",
   "execution_count": null,
   "id": "2ae1c96d-fda7-431e-986b-be8547adaaf4",
   "metadata": {},
   "outputs": [],
   "source": [
    "\"\"\"\n",
    "Write a Python function to calculate the probability density function of a normal distribution with\n",
    "given mean and standard deviation at a given point.\n",
    "\"\"\""
   ]
  },
  {
   "cell_type": "code",
   "execution_count": 1,
   "id": "a5dd9feb-b4b1-4a2f-ba1d-78f481738e0d",
   "metadata": {},
   "outputs": [
    {
     "name": "stdout",
     "output_type": "stream",
     "text": [
      "0.0804410163156249\n"
     ]
    }
   ],
   "source": [
    "from scipy.stats import norm\n",
    "import numpy as np\n",
    "\n",
    "data_start = -5\n",
    "data_end = 5\n",
    "data_points = 11\n",
    "data = np.linspace(data_start, data_end, data_points)\n",
    "\n",
    "mean = np.mean(data)\n",
    "std = np.std(data)\n",
    "\n",
    "probability_pdf = norm.pdf(3, loc=mean, scale=std)\n",
    "print(probability_pdf)\n"
   ]
  },
  {
   "cell_type": "markdown",
   "id": "81978cac-d469-4da3-9bd0-96feb5dcaabf",
   "metadata": {},
   "source": [
    "# Q4"
   ]
  },
  {
   "cell_type": "code",
   "execution_count": null,
   "id": "08cbdd7c-f5dc-4a7b-917e-70636ae2a9c1",
   "metadata": {},
   "outputs": [],
   "source": [
    "\"\"\"\n",
    "What are the properties of Binomial distribution? Give two examples of events where binomial\n",
    "distribution can be applied.\n",
    "\"\"\""
   ]
  },
  {
   "cell_type": "code",
   "execution_count": null,
   "id": "1595d0da-36af-4cdf-80cc-2cf85edc7efb",
   "metadata": {},
   "outputs": [],
   "source": [
    "\"\"\"\n",
    "The Binomial distribution has several important properties:\n",
    "\n",
    "1. It models the number of successes in a fixed number of independent trials, where each trial has the same probability of success.\n",
    "2. It is a discrete probability distribution, meaning that it only takes on integer values.\n",
    "3. It has two parameters: n, the number of trials, and p, the probability of success on each trial.\n",
    "4. The mean of a Binomial distribution is np, and the variance is np(1-p).\n",
    "\n",
    "Two examples of events where the Binomial distribution can be applied are:\n",
    "\n",
    "1. Flipping a coin a fixed number of times and counting the number of heads. \n",
    "    This is a classic example of a Binomial distribution, where each flip is an independent trial with a probability of success (i.e., landing on heads) of 0.5.\n",
    "2. Testing a new medication on a fixed number of patients and counting the number of patients who experience a positive outcome. \n",
    "    This can also be modeled as a Binomial distribution, where each patient is an independent trial with a probability of success (i.e., experiencing a positive outcome) determined by the effectiveness of the medication.\n",
    "\"\"\""
   ]
  },
  {
   "cell_type": "markdown",
   "id": "a1646ead-595f-46a5-b272-fd0487fc6a2a",
   "metadata": {},
   "source": [
    "# Q5"
   ]
  },
  {
   "cell_type": "code",
   "execution_count": null,
   "id": "3a60adcb-8845-4fb0-98c4-9efea147e0c5",
   "metadata": {},
   "outputs": [],
   "source": [
    "\"\"\"\n",
    "Generate a random sample of size 1000 from a binomial distribution with probability of success 0.4\n",
    "and plot a histogram of the results using matplotlib.\n",
    "\"\"\""
   ]
  },
  {
   "cell_type": "code",
   "execution_count": 2,
   "id": "4c75398e-8664-407b-b6f9-d529a0bd236a",
   "metadata": {},
   "outputs": [
    {
     "data": {
      "image/png": "[encoded data removed]",
      "text/plain": [
       "<Figure size 640x480 with 1 Axes>"
      ]
     },
     "metadata": {},
     "output_type": "display_data"
    }
   ],
   "source": [
    "import numpy as np\n",
    "import matplotlib.pyplot as plt\n",
    "\n",
    "n = 10  \n",
    "p = 0.4  \n",
    "\n",
    "sample = np.random.binomial(n, p, size=1000)\n",
    "\n",
    "plt.hist(sample, bins='auto', density=True)\n",
    "plt.xlabel('Number of successes')\n",
    "plt.ylabel('Probability')\n",
    "plt.title('Binomial Distribution (n=10, p=0.4)')\n",
    "plt.show()\n"
   ]
  },
  {
   "cell_type": "markdown",
   "id": "965305fe-b103-4261-95ac-59602f9ea6a0",
   "metadata": {},
   "source": [
    "# Q6"
   ]
  },
  {
   "cell_type": "code",
   "execution_count": null,
   "id": "f30d3ae7-924c-444a-b985-e8e6b38cc248",
   "metadata": {},
   "outputs": [],
   "source": [
    "\"\"\"\n",
    "Write a Python function to calculate the cumulative distribution function of a Poisson distribution\n",
    "with given mean at a given point.\n",
    "\"\"\""
   ]
  },
  {
   "cell_type": "code",
   "execution_count": 3,
   "id": "15cc12f3-371a-493f-9a8c-864b159f9812",
   "metadata": {},
   "outputs": [
    {
     "name": "stdout",
     "output_type": "stream",
     "text": [
      "0.42319008112684353\n"
     ]
    }
   ],
   "source": [
    "import math\n",
    "\n",
    "def poisson_cdf(x, mu):\n",
    "    \"\"\"\n",
    "    Returns the value of the cumulative distribution function of a Poisson distribution\n",
    "    with mean mu at the point x.\n",
    "    \"\"\"\n",
    "    cdf_value = 0\n",
    "    for i in range(x + 1):\n",
    "        cdf_value += math.exp(-mu) * mu**i / math.factorial(i)\n",
    "    return cdf_value\n",
    "\n",
    "\n",
    "cdf_value = poisson_cdf(x=2, mu=3)\n",
    "print(cdf_value)"
   ]
  },
  {
   "cell_type": "markdown",
   "id": "99810ffa-a847-49c0-b96b-39ef63bac904",
   "metadata": {},
   "source": [
    "# Q7"
   ]
  },
  {
   "cell_type": "code",
   "execution_count": null,
   "id": "1a65bcdd-b167-432a-8cb7-095d5b9d48c2",
   "metadata": {},
   "outputs": [],
   "source": [
    "\"\"\"\n",
    "How Binomial distribution different from Poisson distribution?\n",
    "\"\"\""
   ]
  },
  {
   "cell_type": "code",
   "execution_count": null,
   "id": "7afefe55-3c82-4359-8143-734076650c87",
   "metadata": {},
   "outputs": [],
   "source": [
    "\"\"\"\n",
    "the Binomial distribution is used to model the number of successes in a fixed number of independent trials with a constant probability of success, \n",
    "while the Poisson distribution is used to model the number of events occurring in a fixed time or space interval,\n",
    "where the events occur randomly and independently of each other.\n",
    "\"\"\""
   ]
  },
  {
   "cell_type": "markdown",
   "id": "abbfcf38-74d1-424e-9b2e-7369945a969f",
   "metadata": {},
   "source": [
    "# Q8"
   ]
  },
  {
   "cell_type": "code",
   "execution_count": null,
   "id": "4b850860-1612-40c9-98e7-5cc15b6c586b",
   "metadata": {},
   "outputs": [],
   "source": [
    "\"\"\"\n",
    "Generate a random sample of size 1000 from a Poisson distribution with mean 5 and calculate the\n",
    "sample mean and variance.\n",
    "\"\"\""
   ]
  },
  {
   "cell_type": "code",
   "execution_count": 4,
   "id": "c9a11a09-5886-441c-996f-fc4e524e33cb",
   "metadata": {},
   "outputs": [
    {
     "name": "stdout",
     "output_type": "stream",
     "text": [
      "Sample mean: 4.884\n",
      "Sample variance: 4.900544000000001\n"
     ]
    }
   ],
   "source": [
    "import numpy as np\n",
    "\n",
    "mu = 5\n",
    "\n",
    "sample = np.random.poisson(mu, size=1000)\n",
    "\n",
    "sample_mean = np.mean(sample)\n",
    "sample_variance = np.var(sample)\n",
    "\n",
    "print(\"Sample mean:\", sample_mean)\n",
    "print(\"Sample variance:\", sample_variance)\n"
   ]
  },
  {
   "cell_type": "markdown",
   "id": "4112d121-57b0-4521-bd25-2fdf0b1db1a2",
   "metadata": {},
   "source": [
    "# Q9"
   ]
  },
  {
   "cell_type": "code",
   "execution_count": null,
   "id": "12e7b801-9562-4f6f-ac88-6dbdb1778260",
   "metadata": {},
   "outputs": [],
   "source": [
    "\"\"\"\n",
    "How mean and variance are related in Binomial distribution and Poisson distribution?\n",
    "\"\"\""
   ]
  },
  {
   "cell_type": "code",
   "execution_count": null,
   "id": "e42a68a2-ac5d-4c20-bb82-5592f7fd2122",
   "metadata": {},
   "outputs": [],
   "source": [
    "\"\"\"\n",
    "In the Binomial distribution, the mean and variance are related by the formula:\n",
    "mean = np\n",
    "variance = np(1-p)\n",
    "\n",
    "where n is the number of trials and p is the probability of success\n",
    "\n",
    "In the Poisson distribution, the mean and variance are equal and are both equal to the parameter λ, which represents the average number of events per unit time or space\n",
    "\n",
    "\n",
    "In the Binomial distribution, the variance increases as the probability of success becomes more uncertain, \n",
    "while in the Poisson distribution, the variance is equal to the mean because the events occur randomly and independently of each other.\n",
    "\"\"\""
   ]
  },
  {
   "cell_type": "markdown",
   "id": "89c0405e-d605-4498-90c9-469af84fd550",
   "metadata": {},
   "source": [
    "# Q10"
   ]
  },
  {
   "cell_type": "code",
   "execution_count": null,
   "id": "18b3e9aa-2c09-4621-8ea0-1f0c00e5d025",
   "metadata": {},
   "outputs": [],
   "source": [
    "\"\"\"\n",
    "In normal distribution with respect to mean position, where does the least frequent data appear?\n",
    "\"\"\""
   ]
  },
  {
   "cell_type": "code",
   "execution_count": null,
   "id": "669a7a18-d892-487f-a3f1-719298cb51fb",
   "metadata": {},
   "outputs": [],
   "source": [
    "\"\"\"\n",
    "In a normal distribution, the least frequent data points appear in the tails of the distribution\n",
    "\"\"\""
   ]
  }
 ],
 "metadata": {
  "kernelspec": {
   "display_name": "Python 3 (ipykernel)",
   "language": "python",
   "name": "python3"
  },
  "language_info": {
   "codemirror_mode": {
    "name": "ipython",
    "version": 3
   },
   "file_extension": ".py",
   "mimetype": "text/x-python",
   "name": "python",
   "nbconvert_exporter": "python",
   "pygments_lexer": "ipython3",
   "version": "3.10.8"
  }
 },
 "nbformat": 4,
 "nbformat_minor": 5
}
