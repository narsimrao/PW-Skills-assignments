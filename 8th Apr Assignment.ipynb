{
 "cells": [
  {
   "cell_type": "code",
   "execution_count": 1,
   "id": "71b897db-02d1-4548-8b78-77ecf20d1b60",
   "metadata": {},
   "outputs": [
    {
     "data": {
      "text/html": [
       "<div>\n",
       "<style scoped>\n",
       "    .dataframe tbody tr th:only-of-type {\n",
       "        vertical-align: middle;\n",
       "    }\n",
       "\n",
       "    .dataframe tbody tr th {\n",
       "        vertical-align: top;\n",
       "    }\n",
       "\n",
       "    .dataframe thead th {\n",
       "        text-align: right;\n",
       "    }\n",
       "</style>\n",
       "<table border=\"1\" class=\"dataframe\">\n",
       "  <thead>\n",
       "    <tr style=\"text-align: right;\">\n",
       "      <th></th>\n",
       "      <th>area_type</th>\n",
       "      <th>availability</th>\n",
       "      <th>location</th>\n",
       "      <th>size</th>\n",
       "      <th>society</th>\n",
       "      <th>total_sqft</th>\n",
       "      <th>bath</th>\n",
       "      <th>balcony</th>\n",
       "      <th>price</th>\n",
       "    </tr>\n",
       "  </thead>\n",
       "  <tbody>\n",
       "    <tr>\n",
       "      <th>0</th>\n",
       "      <td>Super built-up  Area</td>\n",
       "      <td>19-Dec</td>\n",
       "      <td>Electronic City Phase II</td>\n",
       "      <td>2 BHK</td>\n",
       "      <td>Coomee</td>\n",
       "      <td>1056</td>\n",
       "      <td>2.0</td>\n",
       "      <td>1.0</td>\n",
       "      <td>39.07</td>\n",
       "    </tr>\n",
       "    <tr>\n",
       "      <th>1</th>\n",
       "      <td>Plot  Area</td>\n",
       "      <td>Ready To Move</td>\n",
       "      <td>Chikka Tirupathi</td>\n",
       "      <td>4 Bedroom</td>\n",
       "      <td>Theanmp</td>\n",
       "      <td>2600</td>\n",
       "      <td>5.0</td>\n",
       "      <td>3.0</td>\n",
       "      <td>120.00</td>\n",
       "    </tr>\n",
       "    <tr>\n",
       "      <th>2</th>\n",
       "      <td>Built-up  Area</td>\n",
       "      <td>Ready To Move</td>\n",
       "      <td>Uttarahalli</td>\n",
       "      <td>3 BHK</td>\n",
       "      <td>NaN</td>\n",
       "      <td>1440</td>\n",
       "      <td>2.0</td>\n",
       "      <td>3.0</td>\n",
       "      <td>62.00</td>\n",
       "    </tr>\n",
       "    <tr>\n",
       "      <th>3</th>\n",
       "      <td>Super built-up  Area</td>\n",
       "      <td>Ready To Move</td>\n",
       "      <td>Lingadheeranahalli</td>\n",
       "      <td>3 BHK</td>\n",
       "      <td>Soiewre</td>\n",
       "      <td>1521</td>\n",
       "      <td>3.0</td>\n",
       "      <td>1.0</td>\n",
       "      <td>95.00</td>\n",
       "    </tr>\n",
       "    <tr>\n",
       "      <th>4</th>\n",
       "      <td>Super built-up  Area</td>\n",
       "      <td>Ready To Move</td>\n",
       "      <td>Kothanur</td>\n",
       "      <td>2 BHK</td>\n",
       "      <td>NaN</td>\n",
       "      <td>1200</td>\n",
       "      <td>2.0</td>\n",
       "      <td>1.0</td>\n",
       "      <td>51.00</td>\n",
       "    </tr>\n",
       "  </tbody>\n",
       "</table>\n",
       "</div>"
      ],
      "text/plain": [
       "              area_type   availability                  location       size  \\\n",
       "0  Super built-up  Area         19-Dec  Electronic City Phase II      2 BHK   \n",
       "1            Plot  Area  Ready To Move          Chikka Tirupathi  4 Bedroom   \n",
       "2        Built-up  Area  Ready To Move               Uttarahalli      3 BHK   \n",
       "3  Super built-up  Area  Ready To Move        Lingadheeranahalli      3 BHK   \n",
       "4  Super built-up  Area  Ready To Move                  Kothanur      2 BHK   \n",
       "\n",
       "   society total_sqft  bath  balcony   price  \n",
       "0  Coomee        1056   2.0      1.0   39.07  \n",
       "1  Theanmp       2600   5.0      3.0  120.00  \n",
       "2      NaN       1440   2.0      3.0   62.00  \n",
       "3  Soiewre       1521   3.0      1.0   95.00  \n",
       "4      NaN       1200   2.0      1.0   51.00  "
      ]
     },
     "execution_count": 1,
     "metadata": {},
     "output_type": "execute_result"
    }
   ],
   "source": [
    "# https://raw.githubusercontent.com/narsimrao/PW-Skills-assignments/main/Bengaluru_House_Data.csv\n",
    "import pandas as pd\n",
    "df = pd.read_csv(\"https://raw.githubusercontent.com/narsimrao/PW-Skills-assignments/main/Bengaluru_House_Data.csv\")\n",
    "df.head()"
   ]
  },
  {
   "cell_type": "code",
   "execution_count": 2,
   "id": "eb0b3098-6983-4df4-b2b8-0bc7e9ed51aa",
   "metadata": {},
   "outputs": [
    {
     "data": {
      "text/plain": [
       "(13320, 9)"
      ]
     },
     "execution_count": 2,
     "metadata": {},
     "output_type": "execute_result"
    }
   ],
   "source": [
    "df.shape"
   ]
  },
  {
   "cell_type": "code",
   "execution_count": 3,
   "id": "c3c274ca-31d5-458f-bb82-c5752258e04a",
   "metadata": {},
   "outputs": [
    {
     "data": {
      "text/plain": [
       "Super built-up  Area    8790\n",
       "Built-up  Area          2418\n",
       "Plot  Area              2025\n",
       "Carpet  Area              87\n",
       "Name: area_type, dtype: int64"
      ]
     },
     "execution_count": 3,
     "metadata": {},
     "output_type": "execute_result"
    }
   ],
   "source": [
    "df[\"area_type\"].value_counts()"
   ]
  },
  {
   "cell_type": "code",
   "execution_count": 4,
   "id": "74d5deb9-f4fb-46d5-98dd-72d3f4f92512",
   "metadata": {},
   "outputs": [],
   "source": [
    "# no of bedrooms will be added to the bedroom column\n",
    "df[\"bedrooms\"] = df[\"size\"].str.split(\" \").str[0]"
   ]
  },
  {
   "cell_type": "code",
   "execution_count": 5,
   "id": "6e2ec336-284b-47bf-bcb8-90967d868105",
   "metadata": {},
   "outputs": [
    {
     "data": {
      "text/plain": [
       "area_type          4\n",
       "availability      81\n",
       "location        1305\n",
       "size              31\n",
       "society         2688\n",
       "total_sqft      2117\n",
       "bath              19\n",
       "balcony            4\n",
       "price           1994\n",
       "bedrooms          19\n",
       "dtype: int64"
      ]
     },
     "execution_count": 5,
     "metadata": {},
     "output_type": "execute_result"
    }
   ],
   "source": [
    "df.nunique()"
   ]
  },
  {
   "cell_type": "code",
   "execution_count": 6,
   "id": "4aacdea7-d0a8-445f-88fd-7ada07520cb0",
   "metadata": {},
   "outputs": [
    {
     "data": {
      "text/plain": [
       "area_type          0\n",
       "availability       0\n",
       "location           1\n",
       "size              16\n",
       "society         5502\n",
       "total_sqft         0\n",
       "bath              73\n",
       "balcony          609\n",
       "price              0\n",
       "bedrooms          16\n",
       "dtype: int64"
      ]
     },
     "execution_count": 6,
     "metadata": {},
     "output_type": "execute_result"
    }
   ],
   "source": [
    "df.isna().sum()"
   ]
  },
  {
   "cell_type": "code",
   "execution_count": 7,
   "id": "1d6f1826-4bd6-4f4f-8b03-521b043b4963",
   "metadata": {},
   "outputs": [],
   "source": [
    "df.drop_duplicates(inplace=True)"
   ]
  },
  {
   "cell_type": "code",
   "execution_count": 8,
   "id": "21dd1134-cfeb-4600-9aef-5a3094acb59c",
   "metadata": {},
   "outputs": [
    {
     "data": {
      "text/plain": [
       "(12791, 10)"
      ]
     },
     "execution_count": 8,
     "metadata": {},
     "output_type": "execute_result"
    }
   ],
   "source": [
    "df.shape"
   ]
  },
  {
   "cell_type": "code",
   "execution_count": 9,
   "id": "c19df36f-c703-46a2-9b2b-40b95055217e",
   "metadata": {},
   "outputs": [],
   "source": [
    "# dropping this columns since most of its values are nan\n",
    "df.drop(labels=[\"society\"],axis=1,inplace=True)"
   ]
  },
  {
   "cell_type": "code",
   "execution_count": 10,
   "id": "f5adb63e-5909-4b84-85f8-104964c45778",
   "metadata": {},
   "outputs": [],
   "source": [
    "df.drop(labels=[\"availability\"],axis=1,inplace=True)"
   ]
  },
  {
   "cell_type": "code",
   "execution_count": 11,
   "id": "204d6d76-a358-4eff-ab4f-0857fce71cfb",
   "metadata": {},
   "outputs": [
    {
     "data": {
      "text/plain": [
       "Index(['area_type', 'location', 'size', 'total_sqft', 'bath', 'balcony',\n",
       "       'price', 'bedrooms'],\n",
       "      dtype='object')"
      ]
     },
     "execution_count": 11,
     "metadata": {},
     "output_type": "execute_result"
    }
   ],
   "source": [
    "df.columns"
   ]
  },
  {
   "cell_type": "code",
   "execution_count": 12,
   "id": "72fe1fb8-5b9d-4a3c-aef5-0746718ba245",
   "metadata": {},
   "outputs": [
    {
     "data": {
      "text/plain": [
       "area_type       0\n",
       "location        1\n",
       "size           16\n",
       "total_sqft      0\n",
       "bath           73\n",
       "balcony       605\n",
       "price           0\n",
       "bedrooms       16\n",
       "dtype: int64"
      ]
     },
     "execution_count": 12,
     "metadata": {},
     "output_type": "execute_result"
    }
   ],
   "source": [
    "df.isna().sum()"
   ]
  },
  {
   "cell_type": "code",
   "execution_count": 13,
   "id": "1c27f020-a3b6-43a6-bd81-e9ec5b673e1c",
   "metadata": {},
   "outputs": [
    {
     "name": "stdout",
     "output_type": "stream",
     "text": [
      "<class 'pandas.core.frame.DataFrame'>\n",
      "Int64Index: 12791 entries, 0 to 13318\n",
      "Data columns (total 8 columns):\n",
      " #   Column      Non-Null Count  Dtype  \n",
      "---  ------      --------------  -----  \n",
      " 0   area_type   12791 non-null  object \n",
      " 1   location    12790 non-null  object \n",
      " 2   size        12775 non-null  object \n",
      " 3   total_sqft  12791 non-null  object \n",
      " 4   bath        12718 non-null  float64\n",
      " 5   balcony     12186 non-null  float64\n",
      " 6   price       12791 non-null  float64\n",
      " 7   bedrooms    12775 non-null  object \n",
      "dtypes: float64(3), object(5)\n",
      "memory usage: 899.4+ KB\n"
     ]
    }
   ],
   "source": [
    "df.info()"
   ]
  },
  {
   "cell_type": "code",
   "execution_count": 14,
   "id": "812a5e47-532a-479d-a7d8-cc1b56c1e10b",
   "metadata": {},
   "outputs": [],
   "source": [
    "df[\"sqft\"] = df[\"total_sqft\"].str.split(\" \").str[0]"
   ]
  },
  {
   "cell_type": "code",
   "execution_count": 15,
   "id": "04300f3c-b3e3-4740-8c5d-409ceb1e65ec",
   "metadata": {},
   "outputs": [],
   "source": [
    "df[\"sqft\"] = df[\"sqft\"].str.split(\"S\").str[0]"
   ]
  },
  {
   "cell_type": "code",
   "execution_count": 16,
   "id": "60df2808-f911-4dab-aea6-d15737cb209f",
   "metadata": {},
   "outputs": [],
   "source": [
    "df[\"sqft\"] = df[\"sqft\"].str.split(\"P\").str[0]"
   ]
  },
  {
   "cell_type": "code",
   "execution_count": 17,
   "id": "1c314328-3226-4be7-8efd-8dc044babe8e",
   "metadata": {},
   "outputs": [],
   "source": [
    "df[\"sqft\"] = df[\"sqft\"].str.split(\"A\").str[0]"
   ]
  },
  {
   "cell_type": "code",
   "execution_count": 18,
   "id": "2757ac28-970e-437b-8cff-ba7a1a592ed1",
   "metadata": {},
   "outputs": [],
   "source": [
    "df[\"sqft\"] = df[\"sqft\"].str.split(\"C\").str[0]"
   ]
  },
  {
   "cell_type": "code",
   "execution_count": 19,
   "id": "9faa18fa-d8e3-4544-8b59-02b36ba7af0a",
   "metadata": {},
   "outputs": [],
   "source": [
    "df[\"sqft\"] = df[\"sqft\"].str.split(\"G\").str[0]"
   ]
  },
  {
   "cell_type": "code",
   "execution_count": 20,
   "id": "efafc267-9c3d-48ed-b299-626a198971eb",
   "metadata": {},
   "outputs": [],
   "source": [
    "df[\"sqft\"] = df[\"sqft\"].astype(\"float\")"
   ]
  },
  {
   "cell_type": "code",
   "execution_count": 21,
   "id": "962ecc0f-e460-4c41-9937-4da74adcd36c",
   "metadata": {},
   "outputs": [],
   "source": [
    "df.dropna(subset=[\"bedrooms\",\"balcony\",\"bath\",\"location\"],axis=0,inplace=True)"
   ]
  },
  {
   "cell_type": "code",
   "execution_count": 22,
   "id": "a0d6dc71-cf80-4219-9fcf-e054a05453e7",
   "metadata": {},
   "outputs": [
    {
     "data": {
      "text/plain": [
       "array(['2', '4', '3', '1', '6', '8', '7', '5', '11', '9', '27', '43',\n",
       "       '14', '12', '10', '13'], dtype=object)"
      ]
     },
     "execution_count": 22,
     "metadata": {},
     "output_type": "execute_result"
    }
   ],
   "source": [
    "df[\"bedrooms\"].unique()"
   ]
  },
  {
   "cell_type": "code",
   "execution_count": 23,
   "id": "c5df0b4a-dad5-4a8e-b871-c9583a2bae2d",
   "metadata": {},
   "outputs": [],
   "source": [
    "df[\"bedrooms\"] = df[\"bedrooms\"].astype(\"int\")"
   ]
  },
  {
   "cell_type": "code",
   "execution_count": 24,
   "id": "3ecc8987-8ad1-4337-b073-8adcee98fc19",
   "metadata": {},
   "outputs": [
    {
     "name": "stdout",
     "output_type": "stream",
     "text": [
      "<class 'pandas.core.frame.DataFrame'>\n",
      "Int64Index: 12185 entries, 0 to 13318\n",
      "Data columns (total 9 columns):\n",
      " #   Column      Non-Null Count  Dtype  \n",
      "---  ------      --------------  -----  \n",
      " 0   area_type   12185 non-null  object \n",
      " 1   location    12185 non-null  object \n",
      " 2   size        12185 non-null  object \n",
      " 3   total_sqft  12185 non-null  object \n",
      " 4   bath        12185 non-null  float64\n",
      " 5   balcony     12185 non-null  float64\n",
      " 6   price       12185 non-null  float64\n",
      " 7   bedrooms    12185 non-null  int64  \n",
      " 8   sqft        12185 non-null  float64\n",
      "dtypes: float64(4), int64(1), object(4)\n",
      "memory usage: 952.0+ KB\n"
     ]
    }
   ],
   "source": [
    "df.info()"
   ]
  },
  {
   "cell_type": "code",
   "execution_count": 25,
   "id": "673b19ab-eb85-4ca0-9e67-6556bd7ac6f6",
   "metadata": {
    "tags": []
   },
   "outputs": [],
   "source": [
    "df.drop(labels=\"size\",axis=1,inplace=True)"
   ]
  },
  {
   "cell_type": "code",
   "execution_count": 26,
   "id": "ed6fe8a8-38c2-4ee3-bbb3-3e86bf6d0065",
   "metadata": {},
   "outputs": [
    {
     "data": {
      "text/html": [
       "<div>\n",
       "<style scoped>\n",
       "    .dataframe tbody tr th:only-of-type {\n",
       "        vertical-align: middle;\n",
       "    }\n",
       "\n",
       "    .dataframe tbody tr th {\n",
       "        vertical-align: top;\n",
       "    }\n",
       "\n",
       "    .dataframe thead th {\n",
       "        text-align: right;\n",
       "    }\n",
       "</style>\n",
       "<table border=\"1\" class=\"dataframe\">\n",
       "  <thead>\n",
       "    <tr style=\"text-align: right;\">\n",
       "      <th></th>\n",
       "      <th>area_type</th>\n",
       "      <th>location</th>\n",
       "      <th>total_sqft</th>\n",
       "      <th>bath</th>\n",
       "      <th>balcony</th>\n",
       "      <th>price</th>\n",
       "      <th>bedrooms</th>\n",
       "      <th>sqft</th>\n",
       "    </tr>\n",
       "  </thead>\n",
       "  <tbody>\n",
       "    <tr>\n",
       "      <th>0</th>\n",
       "      <td>Super built-up  Area</td>\n",
       "      <td>Electronic City Phase II</td>\n",
       "      <td>1056</td>\n",
       "      <td>2.0</td>\n",
       "      <td>1.0</td>\n",
       "      <td>39.07</td>\n",
       "      <td>2</td>\n",
       "      <td>1056.0</td>\n",
       "    </tr>\n",
       "    <tr>\n",
       "      <th>1</th>\n",
       "      <td>Plot  Area</td>\n",
       "      <td>Chikka Tirupathi</td>\n",
       "      <td>2600</td>\n",
       "      <td>5.0</td>\n",
       "      <td>3.0</td>\n",
       "      <td>120.00</td>\n",
       "      <td>4</td>\n",
       "      <td>2600.0</td>\n",
       "    </tr>\n",
       "    <tr>\n",
       "      <th>2</th>\n",
       "      <td>Built-up  Area</td>\n",
       "      <td>Uttarahalli</td>\n",
       "      <td>1440</td>\n",
       "      <td>2.0</td>\n",
       "      <td>3.0</td>\n",
       "      <td>62.00</td>\n",
       "      <td>3</td>\n",
       "      <td>1440.0</td>\n",
       "    </tr>\n",
       "    <tr>\n",
       "      <th>3</th>\n",
       "      <td>Super built-up  Area</td>\n",
       "      <td>Lingadheeranahalli</td>\n",
       "      <td>1521</td>\n",
       "      <td>3.0</td>\n",
       "      <td>1.0</td>\n",
       "      <td>95.00</td>\n",
       "      <td>3</td>\n",
       "      <td>1521.0</td>\n",
       "    </tr>\n",
       "    <tr>\n",
       "      <th>4</th>\n",
       "      <td>Super built-up  Area</td>\n",
       "      <td>Kothanur</td>\n",
       "      <td>1200</td>\n",
       "      <td>2.0</td>\n",
       "      <td>1.0</td>\n",
       "      <td>51.00</td>\n",
       "      <td>2</td>\n",
       "      <td>1200.0</td>\n",
       "    </tr>\n",
       "  </tbody>\n",
       "</table>\n",
       "</div>"
      ],
      "text/plain": [
       "              area_type                  location total_sqft  bath  balcony  \\\n",
       "0  Super built-up  Area  Electronic City Phase II       1056   2.0      1.0   \n",
       "1            Plot  Area          Chikka Tirupathi       2600   5.0      3.0   \n",
       "2        Built-up  Area               Uttarahalli       1440   2.0      3.0   \n",
       "3  Super built-up  Area        Lingadheeranahalli       1521   3.0      1.0   \n",
       "4  Super built-up  Area                  Kothanur       1200   2.0      1.0   \n",
       "\n",
       "    price  bedrooms    sqft  \n",
       "0   39.07         2  1056.0  \n",
       "1  120.00         4  2600.0  \n",
       "2   62.00         3  1440.0  \n",
       "3   95.00         3  1521.0  \n",
       "4   51.00         2  1200.0  "
      ]
     },
     "execution_count": 26,
     "metadata": {},
     "output_type": "execute_result"
    }
   ],
   "source": [
    "df.head()"
   ]
  },
  {
   "cell_type": "code",
   "execution_count": 27,
   "id": "e8c2c971-c702-434f-be33-741a52a4f95b",
   "metadata": {},
   "outputs": [
    {
     "data": {
      "text/plain": [
       "area_type     0\n",
       "location      0\n",
       "total_sqft    0\n",
       "bath          0\n",
       "balcony       0\n",
       "price         0\n",
       "bedrooms      0\n",
       "sqft          0\n",
       "dtype: int64"
      ]
     },
     "execution_count": 27,
     "metadata": {},
     "output_type": "execute_result"
    }
   ],
   "source": [
    "df.isna().sum()"
   ]
  },
  {
   "cell_type": "code",
   "execution_count": 28,
   "id": "d6f9845f-1d65-4a0a-95bb-9c83c170ce4c",
   "metadata": {},
   "outputs": [],
   "source": [
    "df.drop(labels=\"total_sqft\",axis=1,inplace=True)"
   ]
  },
  {
   "cell_type": "code",
   "execution_count": 29,
   "id": "2f55d7d4-bc20-429e-97af-dbfe613663a5",
   "metadata": {},
   "outputs": [
    {
     "data": {
      "text/html": [
       "<div>\n",
       "<style scoped>\n",
       "    .dataframe tbody tr th:only-of-type {\n",
       "        vertical-align: middle;\n",
       "    }\n",
       "\n",
       "    .dataframe tbody tr th {\n",
       "        vertical-align: top;\n",
       "    }\n",
       "\n",
       "    .dataframe thead th {\n",
       "        text-align: right;\n",
       "    }\n",
       "</style>\n",
       "<table border=\"1\" class=\"dataframe\">\n",
       "  <thead>\n",
       "    <tr style=\"text-align: right;\">\n",
       "      <th></th>\n",
       "      <th>area_type</th>\n",
       "      <th>location</th>\n",
       "      <th>bath</th>\n",
       "      <th>balcony</th>\n",
       "      <th>price</th>\n",
       "      <th>bedrooms</th>\n",
       "      <th>sqft</th>\n",
       "    </tr>\n",
       "  </thead>\n",
       "  <tbody>\n",
       "    <tr>\n",
       "      <th>0</th>\n",
       "      <td>Super built-up  Area</td>\n",
       "      <td>Electronic City Phase II</td>\n",
       "      <td>2.0</td>\n",
       "      <td>1.0</td>\n",
       "      <td>39.07</td>\n",
       "      <td>2</td>\n",
       "      <td>1056.0</td>\n",
       "    </tr>\n",
       "    <tr>\n",
       "      <th>1</th>\n",
       "      <td>Plot  Area</td>\n",
       "      <td>Chikka Tirupathi</td>\n",
       "      <td>5.0</td>\n",
       "      <td>3.0</td>\n",
       "      <td>120.00</td>\n",
       "      <td>4</td>\n",
       "      <td>2600.0</td>\n",
       "    </tr>\n",
       "    <tr>\n",
       "      <th>2</th>\n",
       "      <td>Built-up  Area</td>\n",
       "      <td>Uttarahalli</td>\n",
       "      <td>2.0</td>\n",
       "      <td>3.0</td>\n",
       "      <td>62.00</td>\n",
       "      <td>3</td>\n",
       "      <td>1440.0</td>\n",
       "    </tr>\n",
       "    <tr>\n",
       "      <th>3</th>\n",
       "      <td>Super built-up  Area</td>\n",
       "      <td>Lingadheeranahalli</td>\n",
       "      <td>3.0</td>\n",
       "      <td>1.0</td>\n",
       "      <td>95.00</td>\n",
       "      <td>3</td>\n",
       "      <td>1521.0</td>\n",
       "    </tr>\n",
       "    <tr>\n",
       "      <th>4</th>\n",
       "      <td>Super built-up  Area</td>\n",
       "      <td>Kothanur</td>\n",
       "      <td>2.0</td>\n",
       "      <td>1.0</td>\n",
       "      <td>51.00</td>\n",
       "      <td>2</td>\n",
       "      <td>1200.0</td>\n",
       "    </tr>\n",
       "  </tbody>\n",
       "</table>\n",
       "</div>"
      ],
      "text/plain": [
       "              area_type                  location  bath  balcony   price  \\\n",
       "0  Super built-up  Area  Electronic City Phase II   2.0      1.0   39.07   \n",
       "1            Plot  Area          Chikka Tirupathi   5.0      3.0  120.00   \n",
       "2        Built-up  Area               Uttarahalli   2.0      3.0   62.00   \n",
       "3  Super built-up  Area        Lingadheeranahalli   3.0      1.0   95.00   \n",
       "4  Super built-up  Area                  Kothanur   2.0      1.0   51.00   \n",
       "\n",
       "   bedrooms    sqft  \n",
       "0         2  1056.0  \n",
       "1         4  2600.0  \n",
       "2         3  1440.0  \n",
       "3         3  1521.0  \n",
       "4         2  1200.0  "
      ]
     },
     "execution_count": 29,
     "metadata": {},
     "output_type": "execute_result"
    }
   ],
   "source": [
    "df.head()"
   ]
  },
  {
   "cell_type": "code",
   "execution_count": 30,
   "id": "7c175399-0960-48a5-a37d-e8159f15e980",
   "metadata": {},
   "outputs": [
    {
     "name": "stdout",
     "output_type": "stream",
     "text": [
      "<class 'pandas.core.frame.DataFrame'>\n",
      "Int64Index: 12185 entries, 0 to 13318\n",
      "Data columns (total 7 columns):\n",
      " #   Column     Non-Null Count  Dtype  \n",
      "---  ------     --------------  -----  \n",
      " 0   area_type  12185 non-null  object \n",
      " 1   location   12185 non-null  object \n",
      " 2   bath       12185 non-null  float64\n",
      " 3   balcony    12185 non-null  float64\n",
      " 4   price      12185 non-null  float64\n",
      " 5   bedrooms   12185 non-null  int64  \n",
      " 6   sqft       12185 non-null  float64\n",
      "dtypes: float64(4), int64(1), object(2)\n",
      "memory usage: 761.6+ KB\n"
     ]
    }
   ],
   "source": [
    "df.info()"
   ]
  },
  {
   "cell_type": "code",
   "execution_count": 31,
   "id": "2a38d8c7-ce1d-45e5-bd49-f541375d8975",
   "metadata": {},
   "outputs": [
    {
     "name": "stderr",
     "output_type": "stream",
     "text": [
      "/tmp/ipykernel_1655/1950383679.py:2: FutureWarning: The default value of numeric_only in DataFrame.corr is deprecated. In a future version, it will default to False. Select only valid columns or specify the value of numeric_only to silence this warning.\n",
      "  sns.heatmap(df.corr(),annot=True)\n"
     ]
    },
    {
     "data": {
      "text/plain": [
       "<AxesSubplot: >"
      ]
     },
     "execution_count": 31,
     "metadata": {},
     "output_type": "execute_result"
    },
    {
     "data": {
      "image/png": "[encoded data removed]",
      "text/plain": [
       "<Figure size 640x480 with 2 Axes>"
      ]
     },
     "metadata": {},
     "output_type": "display_data"
    }
   ],
   "source": [
    "import seaborn as sns\n",
    "sns.heatmap(df.corr(),annot=True)"
   ]
  },
  {
   "cell_type": "code",
   "execution_count": 32,
   "id": "200ff453-fc45-4270-ac2f-707a9ee7fd53",
   "metadata": {},
   "outputs": [
    {
     "data": {
      "text/plain": [
       "area_type       4\n",
       "location     1265\n",
       "bath           16\n",
       "balcony         4\n",
       "price        1924\n",
       "bedrooms       16\n",
       "sqft         1855\n",
       "dtype: int64"
      ]
     },
     "execution_count": 32,
     "metadata": {},
     "output_type": "execute_result"
    }
   ],
   "source": [
    "df.nunique()"
   ]
  },
  {
   "cell_type": "code",
   "execution_count": 33,
   "id": "da06fe97-5772-4846-9f82-7b3a83d4317c",
   "metadata": {},
   "outputs": [],
   "source": [
    "df = pd.get_dummies(data=df,columns=[\"area_type\"])"
   ]
  },
  {
   "cell_type": "code",
   "execution_count": 34,
   "id": "52a9c44f-35f3-476f-8fc2-2eb3a0c20fa9",
   "metadata": {},
   "outputs": [
    {
     "data": {
      "text/html": [
       "<div>\n",
       "<style scoped>\n",
       "    .dataframe tbody tr th:only-of-type {\n",
       "        vertical-align: middle;\n",
       "    }\n",
       "\n",
       "    .dataframe tbody tr th {\n",
       "        vertical-align: top;\n",
       "    }\n",
       "\n",
       "    .dataframe thead th {\n",
       "        text-align: right;\n",
       "    }\n",
       "</style>\n",
       "<table border=\"1\" class=\"dataframe\">\n",
       "  <thead>\n",
       "    <tr style=\"text-align: right;\">\n",
       "      <th></th>\n",
       "      <th>location</th>\n",
       "      <th>bath</th>\n",
       "      <th>balcony</th>\n",
       "      <th>price</th>\n",
       "      <th>bedrooms</th>\n",
       "      <th>sqft</th>\n",
       "      <th>area_type_Built-up  Area</th>\n",
       "      <th>area_type_Carpet  Area</th>\n",
       "      <th>area_type_Plot  Area</th>\n",
       "      <th>area_type_Super built-up  Area</th>\n",
       "    </tr>\n",
       "  </thead>\n",
       "  <tbody>\n",
       "    <tr>\n",
       "      <th>0</th>\n",
       "      <td>Electronic City Phase II</td>\n",
       "      <td>2.0</td>\n",
       "      <td>1.0</td>\n",
       "      <td>39.07</td>\n",
       "      <td>2</td>\n",
       "      <td>1056.0</td>\n",
       "      <td>0</td>\n",
       "      <td>0</td>\n",
       "      <td>0</td>\n",
       "      <td>1</td>\n",
       "    </tr>\n",
       "    <tr>\n",
       "      <th>1</th>\n",
       "      <td>Chikka Tirupathi</td>\n",
       "      <td>5.0</td>\n",
       "      <td>3.0</td>\n",
       "      <td>120.00</td>\n",
       "      <td>4</td>\n",
       "      <td>2600.0</td>\n",
       "      <td>0</td>\n",
       "      <td>0</td>\n",
       "      <td>1</td>\n",
       "      <td>0</td>\n",
       "    </tr>\n",
       "    <tr>\n",
       "      <th>2</th>\n",
       "      <td>Uttarahalli</td>\n",
       "      <td>2.0</td>\n",
       "      <td>3.0</td>\n",
       "      <td>62.00</td>\n",
       "      <td>3</td>\n",
       "      <td>1440.0</td>\n",
       "      <td>1</td>\n",
       "      <td>0</td>\n",
       "      <td>0</td>\n",
       "      <td>0</td>\n",
       "    </tr>\n",
       "    <tr>\n",
       "      <th>3</th>\n",
       "      <td>Lingadheeranahalli</td>\n",
       "      <td>3.0</td>\n",
       "      <td>1.0</td>\n",
       "      <td>95.00</td>\n",
       "      <td>3</td>\n",
       "      <td>1521.0</td>\n",
       "      <td>0</td>\n",
       "      <td>0</td>\n",
       "      <td>0</td>\n",
       "      <td>1</td>\n",
       "    </tr>\n",
       "    <tr>\n",
       "      <th>4</th>\n",
       "      <td>Kothanur</td>\n",
       "      <td>2.0</td>\n",
       "      <td>1.0</td>\n",
       "      <td>51.00</td>\n",
       "      <td>2</td>\n",
       "      <td>1200.0</td>\n",
       "      <td>0</td>\n",
       "      <td>0</td>\n",
       "      <td>0</td>\n",
       "      <td>1</td>\n",
       "    </tr>\n",
       "  </tbody>\n",
       "</table>\n",
       "</div>"
      ],
      "text/plain": [
       "                   location  bath  balcony   price  bedrooms    sqft  \\\n",
       "0  Electronic City Phase II   2.0      1.0   39.07         2  1056.0   \n",
       "1          Chikka Tirupathi   5.0      3.0  120.00         4  2600.0   \n",
       "2               Uttarahalli   2.0      3.0   62.00         3  1440.0   \n",
       "3        Lingadheeranahalli   3.0      1.0   95.00         3  1521.0   \n",
       "4                  Kothanur   2.0      1.0   51.00         2  1200.0   \n",
       "\n",
       "   area_type_Built-up  Area  area_type_Carpet  Area  area_type_Plot  Area  \\\n",
       "0                         0                       0                     0   \n",
       "1                         0                       0                     1   \n",
       "2                         1                       0                     0   \n",
       "3                         0                       0                     0   \n",
       "4                         0                       0                     0   \n",
       "\n",
       "   area_type_Super built-up  Area  \n",
       "0                               1  \n",
       "1                               0  \n",
       "2                               0  \n",
       "3                               1  \n",
       "4                               1  "
      ]
     },
     "execution_count": 34,
     "metadata": {},
     "output_type": "execute_result"
    }
   ],
   "source": [
    "df.head()"
   ]
  },
  {
   "cell_type": "code",
   "execution_count": 35,
   "id": "5ab76973-5e6b-479e-9184-03d11e6e3eda",
   "metadata": {},
   "outputs": [],
   "source": [
    "from sklearn import preprocessing\n",
    "\n",
    "label_encoder = preprocessing.LabelEncoder()\n",
    "\n",
    "df[\"coded_location\"] = label_encoder.fit_transform(df[\"location\"])"
   ]
  },
  {
   "cell_type": "code",
   "execution_count": 36,
   "id": "c0f12f89-fca2-4961-be3c-1ac62eb2b49f",
   "metadata": {},
   "outputs": [
    {
     "data": {
      "text/plain": [
       "0         407\n",
       "1         306\n",
       "2        1141\n",
       "3         738\n",
       "4         697\n",
       "         ... \n",
       "13312     228\n",
       "13314     462\n",
       "13315    1213\n",
       "13317     943\n",
       "13318     882\n",
       "Name: coded_location, Length: 12185, dtype: int64"
      ]
     },
     "execution_count": 36,
     "metadata": {},
     "output_type": "execute_result"
    }
   ],
   "source": [
    "df[\"coded_location\"]"
   ]
  },
  {
   "cell_type": "code",
   "execution_count": 37,
   "id": "883c10ea-66f1-4103-8d91-722600049239",
   "metadata": {},
   "outputs": [
    {
     "data": {
      "text/html": [
       "<div>\n",
       "<style scoped>\n",
       "    .dataframe tbody tr th:only-of-type {\n",
       "        vertical-align: middle;\n",
       "    }\n",
       "\n",
       "    .dataframe tbody tr th {\n",
       "        vertical-align: top;\n",
       "    }\n",
       "\n",
       "    .dataframe thead th {\n",
       "        text-align: right;\n",
       "    }\n",
       "</style>\n",
       "<table border=\"1\" class=\"dataframe\">\n",
       "  <thead>\n",
       "    <tr style=\"text-align: right;\">\n",
       "      <th></th>\n",
       "      <th>location</th>\n",
       "      <th>bath</th>\n",
       "      <th>balcony</th>\n",
       "      <th>price</th>\n",
       "      <th>bedrooms</th>\n",
       "      <th>sqft</th>\n",
       "      <th>area_type_Built-up  Area</th>\n",
       "      <th>area_type_Carpet  Area</th>\n",
       "      <th>area_type_Plot  Area</th>\n",
       "      <th>area_type_Super built-up  Area</th>\n",
       "      <th>coded_location</th>\n",
       "    </tr>\n",
       "  </thead>\n",
       "  <tbody>\n",
       "    <tr>\n",
       "      <th>0</th>\n",
       "      <td>Electronic City Phase II</td>\n",
       "      <td>2.0</td>\n",
       "      <td>1.0</td>\n",
       "      <td>39.07</td>\n",
       "      <td>2</td>\n",
       "      <td>1056.0</td>\n",
       "      <td>0</td>\n",
       "      <td>0</td>\n",
       "      <td>0</td>\n",
       "      <td>1</td>\n",
       "      <td>407</td>\n",
       "    </tr>\n",
       "    <tr>\n",
       "      <th>1</th>\n",
       "      <td>Chikka Tirupathi</td>\n",
       "      <td>5.0</td>\n",
       "      <td>3.0</td>\n",
       "      <td>120.00</td>\n",
       "      <td>4</td>\n",
       "      <td>2600.0</td>\n",
       "      <td>0</td>\n",
       "      <td>0</td>\n",
       "      <td>1</td>\n",
       "      <td>0</td>\n",
       "      <td>306</td>\n",
       "    </tr>\n",
       "    <tr>\n",
       "      <th>2</th>\n",
       "      <td>Uttarahalli</td>\n",
       "      <td>2.0</td>\n",
       "      <td>3.0</td>\n",
       "      <td>62.00</td>\n",
       "      <td>3</td>\n",
       "      <td>1440.0</td>\n",
       "      <td>1</td>\n",
       "      <td>0</td>\n",
       "      <td>0</td>\n",
       "      <td>0</td>\n",
       "      <td>1141</td>\n",
       "    </tr>\n",
       "    <tr>\n",
       "      <th>3</th>\n",
       "      <td>Lingadheeranahalli</td>\n",
       "      <td>3.0</td>\n",
       "      <td>1.0</td>\n",
       "      <td>95.00</td>\n",
       "      <td>3</td>\n",
       "      <td>1521.0</td>\n",
       "      <td>0</td>\n",
       "      <td>0</td>\n",
       "      <td>0</td>\n",
       "      <td>1</td>\n",
       "      <td>738</td>\n",
       "    </tr>\n",
       "    <tr>\n",
       "      <th>4</th>\n",
       "      <td>Kothanur</td>\n",
       "      <td>2.0</td>\n",
       "      <td>1.0</td>\n",
       "      <td>51.00</td>\n",
       "      <td>2</td>\n",
       "      <td>1200.0</td>\n",
       "      <td>0</td>\n",
       "      <td>0</td>\n",
       "      <td>0</td>\n",
       "      <td>1</td>\n",
       "      <td>697</td>\n",
       "    </tr>\n",
       "  </tbody>\n",
       "</table>\n",
       "</div>"
      ],
      "text/plain": [
       "                   location  bath  balcony   price  bedrooms    sqft  \\\n",
       "0  Electronic City Phase II   2.0      1.0   39.07         2  1056.0   \n",
       "1          Chikka Tirupathi   5.0      3.0  120.00         4  2600.0   \n",
       "2               Uttarahalli   2.0      3.0   62.00         3  1440.0   \n",
       "3        Lingadheeranahalli   3.0      1.0   95.00         3  1521.0   \n",
       "4                  Kothanur   2.0      1.0   51.00         2  1200.0   \n",
       "\n",
       "   area_type_Built-up  Area  area_type_Carpet  Area  area_type_Plot  Area  \\\n",
       "0                         0                       0                     0   \n",
       "1                         0                       0                     1   \n",
       "2                         1                       0                     0   \n",
       "3                         0                       0                     0   \n",
       "4                         0                       0                     0   \n",
       "\n",
       "   area_type_Super built-up  Area  coded_location  \n",
       "0                               1             407  \n",
       "1                               0             306  \n",
       "2                               0            1141  \n",
       "3                               1             738  \n",
       "4                               1             697  "
      ]
     },
     "execution_count": 37,
     "metadata": {},
     "output_type": "execute_result"
    }
   ],
   "source": [
    "df.head()"
   ]
  },
  {
   "cell_type": "code",
   "execution_count": 38,
   "id": "104680f0-a047-451e-93ca-d934f66b29b0",
   "metadata": {},
   "outputs": [
    {
     "data": {
      "text/plain": [
       "Index(['location', 'bath', 'balcony', 'price', 'bedrooms', 'sqft',\n",
       "       'area_type_Built-up  Area', 'area_type_Carpet  Area',\n",
       "       'area_type_Plot  Area', 'area_type_Super built-up  Area',\n",
       "       'coded_location'],\n",
       "      dtype='object')"
      ]
     },
     "execution_count": 38,
     "metadata": {},
     "output_type": "execute_result"
    }
   ],
   "source": [
    "df.columns"
   ]
  },
  {
   "cell_type": "code",
   "execution_count": 40,
   "id": "95b98ef5-ded5-4f6c-8620-ba5dcc50d15c",
   "metadata": {},
   "outputs": [],
   "source": [
    "df_main = df[['bath', 'balcony', 'price', 'bedrooms', 'sqft',\n",
    "       'area_type_Built-up  Area', 'area_type_Carpet  Area',\n",
    "       'area_type_Plot  Area', 'area_type_Super built-up  Area',\n",
    "       'coded_location']]"
   ]
  },
  {
   "cell_type": "code",
   "execution_count": 41,
   "id": "7c9f0be2-3a35-44a3-911f-10cfd335657e",
   "metadata": {},
   "outputs": [
    {
     "name": "stdout",
     "output_type": "stream",
     "text": [
      "<class 'pandas.core.frame.DataFrame'>\n",
      "Int64Index: 12185 entries, 0 to 13318\n",
      "Data columns (total 10 columns):\n",
      " #   Column                          Non-Null Count  Dtype  \n",
      "---  ------                          --------------  -----  \n",
      " 0   bath                            12185 non-null  float64\n",
      " 1   balcony                         12185 non-null  float64\n",
      " 2   price                           12185 non-null  float64\n",
      " 3   bedrooms                        12185 non-null  int64  \n",
      " 4   sqft                            12185 non-null  float64\n",
      " 5   area_type_Built-up  Area        12185 non-null  uint8  \n",
      " 6   area_type_Carpet  Area          12185 non-null  uint8  \n",
      " 7   area_type_Plot  Area            12185 non-null  uint8  \n",
      " 8   area_type_Super built-up  Area  12185 non-null  uint8  \n",
      " 9   coded_location                  12185 non-null  int64  \n",
      "dtypes: float64(4), int64(2), uint8(4)\n",
      "memory usage: 714.0 KB\n"
     ]
    }
   ],
   "source": [
    "df_main.info()"
   ]
  },
  {
   "cell_type": "code",
   "execution_count": 42,
   "id": "48e981a1-f17a-4c9c-8998-9c33f7e1d6e8",
   "metadata": {},
   "outputs": [],
   "source": [
    "X = df_main[['bath', 'balcony', 'bedrooms', 'sqft',\n",
    "       'area_type_Built-up  Area', 'area_type_Carpet  Area',\n",
    "       'area_type_Plot  Area', 'area_type_Super built-up  Area',\n",
    "       'coded_location']]\n",
    "y=df_main[\"price\"]"
   ]
  },
  {
   "cell_type": "code",
   "execution_count": 43,
   "id": "07a75917-ecb2-4afa-ad6c-810cd61c01c9",
   "metadata": {},
   "outputs": [],
   "source": [
    "from sklearn.model_selection import train_test_split\n",
    "X_train,X_test,y_train,y_test=train_test_split(X,y,test_size=0.25,random_state=10)"
   ]
  },
  {
   "cell_type": "code",
   "execution_count": 44,
   "id": "725e6fec-6071-4d60-9883-862e79f5e734",
   "metadata": {},
   "outputs": [
    {
     "data": {
      "text/plain": [
       "1380      65.00\n",
       "9886     559.00\n",
       "7207     138.00\n",
       "7567      75.00\n",
       "6879      57.00\n",
       "          ...  \n",
       "813       42.79\n",
       "1111      62.00\n",
       "1905      90.00\n",
       "1827     125.00\n",
       "13191     69.76\n",
       "Name: price, Length: 3047, dtype: float64"
      ]
     },
     "execution_count": 44,
     "metadata": {},
     "output_type": "execute_result"
    }
   ],
   "source": [
    "y_test"
   ]
  },
  {
   "cell_type": "code",
   "execution_count": 45,
   "id": "6f2957f5-3c09-4544-bc79-ac3d9f8e7e8d",
   "metadata": {},
   "outputs": [],
   "source": [
    "from sklearn.svm import SVR\n",
    "from sklearn.model_selection import GridSearchCV\n",
    " \n",
    "# defining parameter range\n",
    "param_grid = {'C': [0.1, 1, 10, 100, 1000],\n",
    "              'gamma': [1, 0.1, 0.01, 0.001, 0.0001],\n",
    "              'kernel':['linear'],\n",
    "              'epsilon':[0.1,0.2,0.3]\n",
    "              }"
   ]
  },
  {
   "cell_type": "code",
   "execution_count": null,
   "id": "0006a64c-51e3-48a7-bd76-002d3e0e6d9e",
   "metadata": {},
   "outputs": [
    {
     "name": "stdout",
     "output_type": "stream",
     "text": [
      "Fitting 5 folds for each of 75 candidates, totalling 375 fits\n",
      "[CV 1/5] END C=0.1, epsilon=0.1, gamma=1, kernel=linear;, score=0.200 total time= 4.2min\n"
     ]
    }
   ],
   "source": [
    "grid=GridSearchCV(SVR(),param_grid=param_grid,refit=True,cv=5,verbose=3)\n",
    "grid.fit(X_train,y_train)"
   ]
  },
  {
   "cell_type": "code",
   "execution_count": null,
   "id": "0c311dea-02fa-40b8-897b-6ed6ccfba4d1",
   "metadata": {},
   "outputs": [],
   "source": [
    "grid.best_params_"
   ]
  },
  {
   "cell_type": "code",
   "execution_count": null,
   "id": "82467c6a-3de5-4f7f-a11f-03967055177d",
   "metadata": {},
   "outputs": [],
   "source": [
    "## Prediction\n",
    "y_pred4=grid.predict(X_test)\n",
    "print(r2_score(y_test,y_pred4))"
   ]
  },
  {
   "cell_type": "markdown",
   "id": "291822d8-5b87-425e-87e0-592bfe1d710b",
   "metadata": {},
   "source": [
    "# Q1"
   ]
  },
  {
   "cell_type": "code",
   "execution_count": 39,
   "id": "696006d4-bd6e-4303-9937-8696b295d2cb",
   "metadata": {},
   "outputs": [
    {
     "data": {
      "text/plain": [
       "'\\nIn order to predict house price based on several characteristics, such as location, square footage,\\nnumber of bedrooms, etc., you are developing an SVM regression model. Which regression metric in this\\nsituation would be the best to employ?\\n'"
      ]
     },
     "execution_count": 39,
     "metadata": {},
     "output_type": "execute_result"
    }
   ],
   "source": [
    "\"\"\"\n",
    "In order to predict house price based on several characteristics, such as location, square footage, number of bedrooms, etc., you are developing an SVM regression model. Which regression metric in this situation would be the best to employ?\n",
    "\"\"\""
   ]
  },
  {
   "cell_type": "code",
   "execution_count": null,
   "id": "bed7c8c6-3324-47cd-8840-6acf3568c99d",
   "metadata": {},
   "outputs": [],
   "source": [
    "\"\"\"\n",
    "By using MSE as the evaluation metric, you can assess the accuracy of the SVM regression model in terms of predicting house prices. The model with the lowest MSE would be considered the best-performing model, as it exhibits the smallest average squared difference between predicted and actual house prices, indicating better predictive accuracy.\n",
    "\"\"\""
   ]
  },
  {
   "cell_type": "markdown",
   "id": "c36a6f5a-6d93-42df-96b4-c8e9cd9f25cd",
   "metadata": {},
   "source": [
    "# Q2"
   ]
  },
  {
   "cell_type": "code",
   "execution_count": null,
   "id": "331a086d-9253-4ac3-8b13-c2dda5c95a12",
   "metadata": {},
   "outputs": [],
   "source": [
    "\"\"\"\n",
    "You have built an SVM regression model and are trying to decide between using MSE or R-squared as your evaluation metric. Which metric would be more appropriate if your goal is to predict the actual price of a house as accurately as possible?\n",
    "\"\"\""
   ]
  },
  {
   "cell_type": "code",
   "execution_count": null,
   "id": "e470fe2c-ae19-43ab-8144-bfa7cdc08275",
   "metadata": {},
   "outputs": [],
   "source": [
    "\"\"\"\n",
    "MSE measures the average squared difference between the predicted and actual values. It penalizes large errors more than smaller errors due to the squared term. In the context of house price prediction, MSE provides a direct measure of the average prediction error in terms of the price units (e.g., dollars). Minimizing MSE means reducing the overall prediction error and getting closer to the actual prices.\n",
    "\n",
    "R-squared, on the other hand, measures the proportion of the variance in the target variable (house prices) that is explained by the model. It represents the goodness-of-fit of the model. However, R-squared does not provide a direct measure of prediction accuracy or the magnitude of prediction errors. It is more useful for understanding the percentage of the total variability in the target variable that can be accounted for by the model's predictions.\n",
    "\n",
    "In the case of predicting house prices, the main focus is on minimizing the prediction error and accurately estimating the actual prices. Therefore, MSE would be a more suitable metric to evaluate the performance of the SVM regression model.\n",
    "\"\"\""
   ]
  },
  {
   "cell_type": "markdown",
   "id": "9d1c7619-7c9c-47e9-a2e7-a8ebb9bb40be",
   "metadata": {},
   "source": [
    "# Q3"
   ]
  },
  {
   "cell_type": "code",
   "execution_count": null,
   "id": "7a6abc8e-86d8-4cbf-8e1a-168db5700cae",
   "metadata": {},
   "outputs": [],
   "source": [
    "\"\"\"\n",
    "You have a dataset with a significant number of outliers and are trying to select an appropriate regression metric to use with your SVM model. Which metric would be the most appropriate in this scenario?\n",
    "\"\"\""
   ]
  },
  {
   "cell_type": "code",
   "execution_count": null,
   "id": "c0f3125b-0db7-454d-bbba-b52f6a08d0bd",
   "metadata": {},
   "outputs": [],
   "source": [
    "\"\"\"\n",
    "when dealing with a dataset that contains a significant number of outliers, the Median Absolute Error (MAE) is a suitable regression metric to use with an SVM model.\n",
    "\"\"\""
   ]
  },
  {
   "cell_type": "markdown",
   "id": "a0e9a614-f0cc-43d9-b3d7-b66da1e7c739",
   "metadata": {},
   "source": [
    "# Q4"
   ]
  },
  {
   "cell_type": "code",
   "execution_count": null,
   "id": "61430d96-bea8-4b7c-9db2-0acbc0578032",
   "metadata": {},
   "outputs": [],
   "source": [
    "\"\"\"\n",
    "You have built an SVM regression model using a polynomial kernel and are trying to select the best metric to evaluate its performance. You have calculated both MSE and RMSE and found that both values are very close. Which metric should you choose to use in this case?\n",
    "\"\"\""
   ]
  },
  {
   "cell_type": "code",
   "execution_count": null,
   "id": "41d78307-d554-4b71-addc-60249d6d09b3",
   "metadata": {},
   "outputs": [],
   "source": [
    "\"\"\"\n",
    "MSE measures the average squared difference between the predicted and actual values, while RMSE is the square root of MSE and provides a more interpretable measure in the original units of the target variable.\n",
    "\n",
    "Since both MSE and RMSE are close in this case, you can choose either metric based on your specific needs and preferences. If you prefer a metric that is easier to interpret and directly comparable to the scale of the target variable, you may choose RMSE. On the other hand, if you want to work with a metric that penalizes larger errors more, you can choose MSE.\n",
    "\n",
    "It's important to note that the choice of evaluation metric depends on the context and the specific requirements of your problem. Consider the nature of the data, the implications of the errors, and the overall goals of your analysis to make an informed decision.\n",
    "\"\"\""
   ]
  },
  {
   "cell_type": "markdown",
   "id": "05889c4e-1b3f-41c3-b0cf-87246c61934c",
   "metadata": {},
   "source": [
    "# Q5"
   ]
  },
  {
   "cell_type": "code",
   "execution_count": null,
   "id": "47956f16-2267-41a1-86cd-6eb6547c40ca",
   "metadata": {},
   "outputs": [],
   "source": [
    "\"\"\"\n",
    "You are comparing the performance of different SVM regression models using different kernels (linear, polynomial, and RBF) and are trying to select the best evaluation metric. Which metric would be most appropriate if your goal is to measure how well the model explains the variance in the target variable?\n",
    "\"\"\""
   ]
  },
  {
   "cell_type": "code",
   "execution_count": null,
   "id": "5775cb11-01c3-4eb8-b836-6e7f0ff41d89",
   "metadata": {},
   "outputs": [],
   "source": [
    "\"\"\"\n",
    "R-squared quantifies the proportion of the variance in the target variable that is explained by the model. It measures the goodness-of-fit of the model and indicates the percentage of the total variability in the target variable that can be accounted for by the predictor variables.\n",
    "\n",
    "R-squared ranges from 0 to 1, where a value of 1 indicates that the model perfectly explains the variance in the target variable, and a value of 0 indicates that the model does not explain any of the variance beyond the mean of the target variable.\n",
    "\n",
    "By comparing the R-squared values of different SVM regression models with different kernels, you can determine which model provides the best explanation of the variance in the target variable. The model with the highest R-squared value would indicate the best fit to the data in terms of explaining the variability.\n",
    "\"\"\""
   ]
  }
 ],
 "metadata": {
  "kernelspec": {
   "display_name": "Python 3 (ipykernel)",
   "language": "python",
   "name": "python3"
  },
  "language_info": {
   "codemirror_mode": {
    "name": "ipython",
    "version": 3
   },
   "file_extension": ".py",
   "mimetype": "text/x-python",
   "name": "python",
   "nbconvert_exporter": "python",
   "pygments_lexer": "ipython3",
   "version": "3.10.8"
  }
 },
 "nbformat": 4,
 "nbformat_minor": 5
}
