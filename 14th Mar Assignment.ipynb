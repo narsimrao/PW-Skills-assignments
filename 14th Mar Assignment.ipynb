{
 "cells": [
  {
   "cell_type": "markdown",
   "id": "7819e289-343c-45bc-ba82-498712a018bd",
   "metadata": {},
   "source": [
    "# Q1"
   ]
  },
  {
   "cell_type": "code",
   "execution_count": null,
   "id": "fff22077-7eab-421a-94e2-fcc3038e4191",
   "metadata": {},
   "outputs": [],
   "source": [
    "\"\"\"\n",
    "Write a Python function that takes in two arrays of data and calculates the F-value for a variance ratio test. The function should return the F-value and the corresponding p-value for the test.\n",
    "\"\"\""
   ]
  },
  {
   "cell_type": "code",
   "execution_count": 2,
   "id": "3f0cceb8-8baf-428a-af62-3aeba8984670",
   "metadata": {},
   "outputs": [
    {
     "name": "stdout",
     "output_type": "stream",
     "text": [
      "F-value: 0.25\n",
      "p-value: 0.10400000000000002\n"
     ]
    }
   ],
   "source": [
    "import scipy.stats as stats\n",
    "import numpy as np\n",
    "\n",
    "def variance_ratio_test(data1, data2):\n",
    "    # Calculate the sample variances\n",
    "    var1 = np.var(data1, ddof=1)\n",
    "    var2 = np.var(data2, ddof=1)\n",
    "\n",
    "    # Calculate the F-value and p-value\n",
    "    f_value = var1 / var2\n",
    "    p_value = stats.f.cdf(f_value, len(data1) - 1, len(data2) - 1)\n",
    "\n",
    "    return f_value, p_value\n",
    "\n",
    "data1 = [1, 2, 3, 4, 5]\n",
    "data2 = [2, 4, 6, 8, 10]\n",
    "\n",
    "f_value, p_value = variance_ratio_test(data1, data2)\n",
    "print(\"F-value:\", f_value)\n",
    "print(\"p-value:\", p_value)\n"
   ]
  },
  {
   "cell_type": "markdown",
   "id": "7ce1dcd0-43f3-4d5a-9607-fe4c9910e026",
   "metadata": {},
   "source": [
    "# Q2"
   ]
  },
  {
   "cell_type": "code",
   "execution_count": null,
   "id": "bbbc07bb-0af1-47e1-adb1-3a808006d738",
   "metadata": {},
   "outputs": [],
   "source": [
    "\"\"\"\n",
    "Given a significance level of 0.05 and the degrees of freedom for the numerator and denominator of an F-distribution, write a Python function that returns the critical F-value for a two-tailed test.\n",
    "\"\"\""
   ]
  },
  {
   "cell_type": "code",
   "execution_count": 3,
   "id": "22bf4207-0c89-47b2-92c5-8e2f5d50425e",
   "metadata": {},
   "outputs": [
    {
     "name": "stdout",
     "output_type": "stream",
     "text": [
      "Critical F-value: 3.8586986662732143\n"
     ]
    }
   ],
   "source": [
    "import scipy.stats as stats\n",
    "\n",
    "def critical_f_value(alpha, dfn, dfd):\n",
    "    # Calculate the critical F-value\n",
    "    f_critical = stats.f.ppf(1 - alpha / 2, dfn, dfd)\n",
    "    \n",
    "    return f_critical\n",
    "\n",
    "alpha = 0.05\n",
    "dfn = 3\n",
    "dfd = 20\n",
    "\n",
    "f_critical = critical_f_value(alpha, dfn, dfd)\n",
    "print(\"Critical F-value:\", f_critical)\n"
   ]
  },
  {
   "cell_type": "markdown",
   "id": "967ae2b3-0c69-4630-b637-6a947cde5016",
   "metadata": {},
   "source": [
    "# Q3"
   ]
  },
  {
   "cell_type": "code",
   "execution_count": null,
   "id": "2e3b2315-c909-4774-95d2-9b35ec529c23",
   "metadata": {},
   "outputs": [],
   "source": [
    "\"\"\"\n",
    "Write a Python program that generates random samples from two normal distributions with known variances and uses an F-test to determine if the variances are equal. The program should output the F-value, degrees of freedom, and p-value for the test.\n",
    "\"\"\""
   ]
  },
  {
   "cell_type": "code",
   "execution_count": 4,
   "id": "0185a133-79b5-4fec-b61c-3ad6b1196299",
   "metadata": {},
   "outputs": [
    {
     "name": "stdout",
     "output_type": "stream",
     "text": [
      "F-value: 1.0703279764826834\n",
      "Degrees of Freedom (numerator, denominator): 99 149\n",
      "p-value: 0.7016954883352828\n"
     ]
    }
   ],
   "source": [
    "import numpy as np\n",
    "import scipy.stats as stats\n",
    "\n",
    "def f_test(sample1, sample2, var1, var2):\n",
    "    # Calculate the F-value\n",
    "    f_value = np.var(sample1) / np.var(sample2)\n",
    "\n",
    "    # Calculate the degrees of freedom\n",
    "    dfn = len(sample1) - 1\n",
    "    dfd = len(sample2) - 1\n",
    "\n",
    "    # Calculate the p-value\n",
    "    p_value = 2 * min(stats.f.cdf(f_value, dfn, dfd), 1 - stats.f.cdf(f_value, dfn, dfd))\n",
    "\n",
    "    return f_value, dfn, dfd, p_value\n",
    "\n",
    "# Generate random samples from two normal distributions\n",
    "sample1 = np.random.normal(0, 1, size=100)\n",
    "sample2 = np.random.normal(0, 1, size=150)\n",
    "\n",
    "# Known variances\n",
    "var1 = 1\n",
    "var2 = 1\n",
    "\n",
    "# Perform the F-test\n",
    "f_value, dfn, dfd, p_value = f_test(sample1, sample2, var1, var2)\n",
    "\n",
    "# Output the results\n",
    "print(\"F-value:\", f_value)\n",
    "print(\"Degrees of Freedom (numerator, denominator):\", dfn, dfd)\n",
    "print(\"p-value:\", p_value)\n"
   ]
  },
  {
   "cell_type": "markdown",
   "id": "07aaf510-05e9-4bc5-848b-d34c7959edfe",
   "metadata": {},
   "source": [
    "# Q4"
   ]
  },
  {
   "cell_type": "code",
   "execution_count": null,
   "id": "29035bbf-e257-4a3c-992b-c9f8d26f2c4c",
   "metadata": {},
   "outputs": [],
   "source": [
    "\"\"\"\n",
    "The variances of two populations are known to be 10 and 15. A sample of 12 observations is taken from each population. Conduct an F-test at the 5% significance level to determine if the variances are significantly different.\n",
    "\"\"\""
   ]
  },
  {
   "cell_type": "code",
   "execution_count": 5,
   "id": "0d66321c-7871-4495-ab2a-718cf9bcd35c",
   "metadata": {},
   "outputs": [
    {
     "name": "stdout",
     "output_type": "stream",
     "text": [
      "Fail to reject the null hypothesis. No significant difference in variances.\n"
     ]
    }
   ],
   "source": [
    "import scipy.stats as stats\n",
    "\n",
    "def f_test(sample_var1, sample_var2, n1, n2, alpha):\n",
    "    # Calculate the F-value\n",
    "    f_value = sample_var1 / sample_var2\n",
    "\n",
    "    # Calculate the degrees of freedom\n",
    "    dfn = n1 - 1\n",
    "    dfd = n2 - 1\n",
    "\n",
    "    # Calculate the critical F-value\n",
    "    f_critical = stats.f.ppf(1 - alpha / 2, dfn, dfd)\n",
    "\n",
    "    # Perform the hypothesis test\n",
    "    if f_value > f_critical:\n",
    "        return \"Reject the null hypothesis. Variances are significantly different.\"\n",
    "    else:\n",
    "        return \"Fail to reject the null hypothesis. No significant difference in variances.\"\n",
    "\n",
    "# Given data\n",
    "sample_var1 = 10\n",
    "sample_var2 = 15\n",
    "n1 = 12\n",
    "n2 = 12\n",
    "alpha = 0.05\n",
    "\n",
    "# Perform the F-test\n",
    "result = f_test(sample_var1, sample_var2, n1, n2, alpha)\n",
    "\n",
    "# Output the result\n",
    "print(result)\n"
   ]
  },
  {
   "cell_type": "markdown",
   "id": "37a41344-2bb5-45f4-a57d-a8dcc96402b5",
   "metadata": {},
   "source": [
    "# Q5"
   ]
  },
  {
   "cell_type": "code",
   "execution_count": null,
   "id": "beaafa1f-b4fb-4720-82a4-11b2e7662106",
   "metadata": {},
   "outputs": [],
   "source": [
    "\"\"\"\n",
    "A manufacturer claims that the variance of the diameter of a certain product is 0.005. A sample of 25 products is taken, and the sample variance is found to be 0.006. Conduct an F-test at the 1% significance level to determine if the claim is justified.\n",
    "\"\"\""
   ]
  },
  {
   "cell_type": "code",
   "execution_count": 6,
   "id": "f326f990-e38b-4d43-8f6b-4b6aa4c3e02e",
   "metadata": {},
   "outputs": [
    {
     "name": "stdout",
     "output_type": "stream",
     "text": [
      "Fail to reject the null hypothesis. The claim is justified.\n"
     ]
    }
   ],
   "source": [
    "# Null hypothesis (H0): The population variance is equal to the claimed value (0.005).\n",
    "# Alternative hypothesis (Ha): The population variance is not equal to the claimed value.\n",
    "\n",
    "import scipy.stats as stats\n",
    "\n",
    "def f_test(sample_variance, claimed_variance, n, alpha):\n",
    "    # Calculate the F-value\n",
    "    f_value = sample_variance / claimed_variance\n",
    "\n",
    "    # Calculate the degrees of freedom\n",
    "    dfn = n - 1\n",
    "    dfd = n - 1\n",
    "\n",
    "    # Calculate the critical F-values\n",
    "    f_critical_lower = stats.f.ppf(alpha / 2, dfn, dfd)\n",
    "    f_critical_upper = stats.f.ppf(1 - alpha / 2, dfn, dfd)\n",
    "\n",
    "    # Perform the hypothesis test\n",
    "    if f_value > f_critical_upper or f_value < 1 / f_critical_upper:\n",
    "        return \"Reject the null hypothesis. The claim is not justified.\"\n",
    "    else:\n",
    "        return \"Fail to reject the null hypothesis. The claim is justified.\"\n",
    "\n",
    "# Given data\n",
    "sample_variance = 0.006\n",
    "claimed_variance = 0.005\n",
    "n = 25\n",
    "alpha = 0.01\n",
    "\n",
    "# Perform the F-test\n",
    "result = f_test(sample_variance, claimed_variance, n, alpha)\n",
    "\n",
    "# Output the result\n",
    "print(result)\n"
   ]
  },
  {
   "cell_type": "markdown",
   "id": "6532b5d3-ba0c-417b-ae08-c37efc8d06f6",
   "metadata": {},
   "source": [
    "# Q6"
   ]
  },
  {
   "cell_type": "code",
   "execution_count": null,
   "id": "b92a4380-2c3b-4742-ba8b-d2719f2be858",
   "metadata": {},
   "outputs": [],
   "source": [
    "\"\"\"\n",
    "Write a Python function that takes in the degrees of freedom for the numerator and denominator of an F-distribution and calculates the mean and variance of the distribution. The function should return the mean and variance as a tuple.\n",
    "\"\"\""
   ]
  },
  {
   "cell_type": "code",
   "execution_count": 7,
   "id": "a9ef2a2a-347e-4882-b50f-bbf58e657cfa",
   "metadata": {},
   "outputs": [
    {
     "name": "stdout",
     "output_type": "stream",
     "text": [
      "Mean: 1.2857142857142858\n",
      "Variance: 1.4326530612244899\n"
     ]
    }
   ],
   "source": [
    "def f_distribution_stats(dfn, dfd):\n",
    "    # Calculate the mean\n",
    "    if dfd > 2:\n",
    "        mean = dfd / (dfd - 2)\n",
    "    else:\n",
    "        mean = float('inf')\n",
    "\n",
    "    # Calculate the variance\n",
    "    if dfd > 4:\n",
    "        variance = (2 * (dfd ** 2) * (dfn + dfd - 2)) / ((dfn * (dfd - 2) ** 2 * (dfd - 4)))\n",
    "    else:\n",
    "        variance = float('inf')\n",
    "\n",
    "    return mean, variance\n",
    "\n",
    "dfn = 6\n",
    "dfd = 9\n",
    "\n",
    "mean, variance = f_distribution_stats(dfn, dfd)\n",
    "\n",
    "print(\"Mean:\", mean)\n",
    "print(\"Variance:\", variance)\n"
   ]
  },
  {
   "cell_type": "markdown",
   "id": "8ea78b24-ac42-4300-bd26-3ff0b58deb15",
   "metadata": {},
   "source": [
    "# Q7"
   ]
  },
  {
   "cell_type": "code",
   "execution_count": null,
   "id": "11996cf3-35f0-4a92-b662-93c63d93c8ad",
   "metadata": {},
   "outputs": [],
   "source": [
    "\"\"\"\n",
    "A random sample of 10 measurements is taken from a normal population with unknown variance. The sample variance is found to be 25. Another random sample of 15 measurements is taken from another normal population with unknown variance, and the sample variance is found to be 20. Conduct an F-test at the 10% significance level to determine if the variances are significantly different.\n",
    "\"\"\""
   ]
  },
  {
   "cell_type": "code",
   "execution_count": 8,
   "id": "e205afee-9ac5-4940-93b0-5e33265cb04c",
   "metadata": {},
   "outputs": [
    {
     "name": "stdout",
     "output_type": "stream",
     "text": [
      "F-value: 1.25\n",
      "Critical F-value: 2.6457907352338195\n",
      "p-value: 0.6832194382585954\n",
      "The variances are not significantly different.\n"
     ]
    }
   ],
   "source": [
    "# The null hypothesis (H0) assumes that the variances are equal\n",
    "# The alternative hypothesis (H1) assumes that the variances are significantly different.\n",
    "\n",
    "\n",
    "import scipy.stats as stats\n",
    "\n",
    "def f_test(sample1_var, sample1_size, sample2_var, sample2_size, alpha):\n",
    "    # Calculate the F-value\n",
    "    f_value = sample1_var / sample2_var\n",
    "    \n",
    "    # Calculate the degrees of freedom\n",
    "    df1 = sample1_size - 1\n",
    "    df2 = sample2_size - 1\n",
    "    \n",
    "    # Calculate the critical F-value\n",
    "    critical_f = stats.f.ppf(1 - alpha / 2, df1, df2)\n",
    "    \n",
    "    # Calculate the p-value\n",
    "    p_value = 2 * (1 - stats.f.cdf(f_value, df1, df2))\n",
    "\n",
    "    return f_value, critical_f, p_value\n",
    "\n",
    "# Given data\n",
    "sample1_var = 25\n",
    "sample1_size = 10\n",
    "sample2_var = 20\n",
    "sample2_size = 15\n",
    "alpha = 0.10\n",
    "\n",
    "f_value, critical_f, p_value = f_test(sample1_var, sample1_size, sample2_var, sample2_size, alpha)\n",
    "\n",
    "print(\"F-value:\", f_value)\n",
    "print(\"Critical F-value:\", critical_f)\n",
    "print(\"p-value:\", p_value)\n",
    "\n",
    "# Check if the variances are significantly different\n",
    "if f_value > critical_f:\n",
    "    print(\"The variances are significantly different.\")\n",
    "else:\n",
    "    print(\"The variances are not significantly different.\")\n"
   ]
  },
  {
   "cell_type": "markdown",
   "id": "773deeb3-b377-4207-aee9-95229ce611c0",
   "metadata": {},
   "source": [
    "# Q8"
   ]
  },
  {
   "cell_type": "code",
   "execution_count": null,
   "id": "9fcda430-82da-4638-9b63-bf20f64ade3b",
   "metadata": {},
   "outputs": [],
   "source": [
    "\"\"\"\n",
    "The following data represent the waiting times in minutes at two different restaurants on a Saturday night: Restaurant A: 24, 25, 28, 23, 22, 20, 27; Restaurant B: 31, 33, 35, 30, 32, 36. Conduct an F-test at the 5% significance level to determine if the variances are significantly different.\n",
    "\"\"\""
   ]
  },
  {
   "cell_type": "code",
   "execution_count": 9,
   "id": "1e9a7826-8f5c-4478-8de7-9c6e31a20a0c",
   "metadata": {},
   "outputs": [
    {
     "name": "stdout",
     "output_type": "stream",
     "text": [
      "F-value: 1.4551907719609583\n",
      "Critical F-value: 6.977701858535566\n",
      "p-value: 0.6974815747937484\n",
      "The variances are not significantly different.\n"
     ]
    }
   ],
   "source": [
    "import numpy as np\n",
    "import scipy.stats as stats\n",
    "\n",
    "def f_test(data1, data2, alpha):\n",
    "    # Calculate the sample variances\n",
    "    var1 = np.var(data1, ddof=1)\n",
    "    var2 = np.var(data2, ddof=1)\n",
    "    \n",
    "    # Calculate the sample sizes\n",
    "    n1 = len(data1)\n",
    "    n2 = len(data2)\n",
    "    \n",
    "    # Calculate the F-value\n",
    "    f_value = var1 / var2\n",
    "    \n",
    "    # Calculate the degrees of freedom\n",
    "    df1 = n1 - 1\n",
    "    df2 = n2 - 1\n",
    "    \n",
    "    # Calculate the critical F-value\n",
    "    critical_f = stats.f.ppf(1 - alpha / 2, df1, df2)\n",
    "    \n",
    "    # Calculate the p-value\n",
    "    p_value = 2 * (1 - stats.f.cdf(f_value, df1, df2))\n",
    "\n",
    "    return f_value, critical_f, p_value\n",
    "\n",
    "# Given data\n",
    "restaurant_a = [24, 25, 28, 23, 22, 20, 27]\n",
    "restaurant_b = [31, 33, 35, 30, 32, 36]\n",
    "alpha = 0.05\n",
    "\n",
    "f_value, critical_f, p_value = f_test(restaurant_a, restaurant_b, alpha)\n",
    "\n",
    "print(\"F-value:\", f_value)\n",
    "print(\"Critical F-value:\", critical_f)\n",
    "print(\"p-value:\", p_value)\n",
    "\n",
    "# Check if the variances are significantly different\n",
    "if f_value > critical_f:\n",
    "    print(\"The variances are significantly different.\")\n",
    "else:\n",
    "    print(\"The variances are not significantly different.\")\n"
   ]
  },
  {
   "cell_type": "markdown",
   "id": "439744d6-cee1-40c9-8d69-e969ae718a08",
   "metadata": {},
   "source": [
    "# Q9"
   ]
  },
  {
   "cell_type": "code",
   "execution_count": null,
   "id": "86f4cd98-97b8-430a-89c9-b901a14b6585",
   "metadata": {},
   "outputs": [],
   "source": [
    "\"\"\"\n",
    "The following data represent the test scores of two groups of students: Group A: 80, 85, 90, 92, 87, 83; Group B: 75, 78, 82, 79, 81, 84. Conduct an F-test at the 1% significance level to determine if the variances are significantly different.\n",
    "\"\"\""
   ]
  },
  {
   "cell_type": "code",
   "execution_count": 10,
   "id": "80cd2a99-db02-4400-a41c-c41b80a67cec",
   "metadata": {},
   "outputs": [
    {
     "name": "stdout",
     "output_type": "stream",
     "text": [
      "F-value: 1.9442622950819677\n",
      "Critical F-value: 14.939605459912224\n",
      "p-value: 0.4831043549070688\n",
      "The variances are not significantly different.\n"
     ]
    }
   ],
   "source": [
    "import numpy as np\n",
    "import scipy.stats as stats\n",
    "\n",
    "def f_test(data1, data2, alpha):\n",
    "    # Calculate the sample variances\n",
    "    var1 = np.var(data1, ddof=1)\n",
    "    var2 = np.var(data2, ddof=1)\n",
    "    \n",
    "    # Calculate the sample sizes\n",
    "    n1 = len(data1)\n",
    "    n2 = len(data2)\n",
    "    \n",
    "    # Calculate the F-value\n",
    "    f_value = var1 / var2\n",
    "    \n",
    "    # Calculate the degrees of freedom\n",
    "    df1 = n1 - 1\n",
    "    df2 = n2 - 1\n",
    "    \n",
    "    # Calculate the critical F-value\n",
    "    critical_f = stats.f.ppf(1 - alpha / 2, df1, df2)\n",
    "    \n",
    "    # Calculate the p-value\n",
    "    p_value = 2 * (1 - stats.f.cdf(f_value, df1, df2))\n",
    "\n",
    "    return f_value, critical_f, p_value\n",
    "\n",
    "# Given data\n",
    "group_a = [80, 85, 90, 92, 87, 83]\n",
    "group_b = [75, 78, 82, 79, 81, 84]\n",
    "alpha = 0.01\n",
    "\n",
    "f_value, critical_f, p_value = f_test(group_a, group_b, alpha)\n",
    "\n",
    "print(\"F-value:\", f_value)\n",
    "print(\"Critical F-value:\", critical_f)\n",
    "print(\"p-value:\", p_value)\n",
    "\n",
    "# Check if the variances are significantly different\n",
    "if f_value > critical_f:\n",
    "    print(\"The variances are significantly different.\")\n",
    "else:\n",
    "    print(\"The variances are not significantly different.\")\n"
   ]
  }
 ],
 "metadata": {
  "kernelspec": {
   "display_name": "Python 3 (ipykernel)",
   "language": "python",
   "name": "python3"
  },
  "language_info": {
   "codemirror_mode": {
    "name": "ipython",
    "version": 3
   },
   "file_extension": ".py",
   "mimetype": "text/x-python",
   "name": "python",
   "nbconvert_exporter": "python",
   "pygments_lexer": "ipython3",
   "version": "3.10.8"
  }
 },
 "nbformat": 4,
 "nbformat_minor": 5
}
