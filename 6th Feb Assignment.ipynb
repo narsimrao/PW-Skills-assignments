{
 "cells": [
  {
   "cell_type": "markdown",
   "id": "13ac8ac4-c4a2-4f5e-95e6-a5d9494c10b1",
   "metadata": {},
   "source": [
    "# Q1"
   ]
  },
  {
   "cell_type": "code",
   "execution_count": null,
   "id": "efddcde3-b012-40d0-836d-9407502688e3",
   "metadata": {},
   "outputs": [],
   "source": [
    "\"\"\"\n",
    "Q1. Create a function which will take a list as an argument and return the product of all the numbers\n",
    "after creating a flat list. Use the below-given list as an argument for your function.\n",
    "\n",
    "list1 = [1,2,3,4, [44,55,66, True], False, (34,56,78,89,34), {1,2,3,3,2,1}, {1:34, \"key2\": [55, 67, 78, 89], 4: (45,\n",
    "22, 61, 34)}, [56, 'data science'], 'Machine Learning']\n",
    "\n",
    "\n",
    "Note: you must extract numeric keys and values of the dictionary also.\n",
    "\"\"\""
   ]
  },
  {
   "cell_type": "code",
   "execution_count": 105,
   "id": "500b48d4-e91e-47d6-b62a-c265ef30bfee",
   "metadata": {},
   "outputs": [],
   "source": [
    "# this function flattens two level nested list\n",
    "def flatten_lst(lst):\n",
    "    List_flat = []\n",
    "    for i in range(len(lst)): \n",
    "        if type(lst[i]) == list:\n",
    "            for j in range (len(lst[i])): \n",
    "                List_flat.append(lst[i][j])\n",
    "        else:\n",
    "            List_flat.append(lst[i])\n",
    "    return List_flat\n",
    "\n",
    "# returns product of the list\n",
    "def product_lst(lst):\n",
    "    from functools import reduce\n",
    "    return reduce(lambda x,y: x*y, lst)"
   ]
  },
  {
   "cell_type": "code",
   "execution_count": 106,
   "id": "27784b76-f1be-4b51-a4fc-c58f7802b8d4",
   "metadata": {},
   "outputs": [],
   "source": [
    "list1 = [1,2,3,4, [44,55,66, True], False, (34,56,78,89,34), {1,2,3,3,2,1}, {1:34, \"key2\": [55, 67, 78, 89], 4: (45,22, 61, 34)}, [56, 'data science'], 'Machine Learning']\n",
    "\n",
    "\n",
    "for i in range(0,len(list1)):\n",
    "    # filtering the dictionary type\n",
    "    if type(list1[i]) == dict:\n",
    "        #assingment to temp variable\n",
    "        dic = list1[i]\n",
    "        \n",
    "        # converting the keys and values to list\n",
    "        keys_lst = list(dic.keys())\n",
    "        value_lst = list(dic.values())\n",
    "        \n",
    "        #Replace the tuple inside the list with type as list\n",
    "        for j in range(0,len(value_lst)):\n",
    "            if type(value_lst[j]) == tuple:\n",
    "                value_lst[j] = list(value_lst[j])\n",
    "        \n",
    "        #Concatenating it to single list\n",
    "        dic_lst = keys_lst + value_lst\n",
    "        dic_lst_flatten = flatten_lst(dic_lst)\n",
    "        \n",
    "        # replacing the dictionary with list\n",
    "        list1[i] = dic_lst_flatten\n",
    "        \n",
    "        \n",
    "    # filtering the tuple type\n",
    "    if type(list1[i]) == tuple:\n",
    "        # Converting tuple to list and replacing it to the original list\n",
    "        list1[i] = list(list1[i])\n",
    "        \n",
    "        \n",
    "    # filtering the set type\n",
    "    if type(list1[i]) == set:\n",
    "        # Converting set to list and replacing it to the original list\n",
    "        list1[i] = list(list1[i])\n",
    "        \n",
    "\n",
    "        \n",
    "    "
   ]
  },
  {
   "cell_type": "code",
   "execution_count": 107,
   "id": "b5940a1b-5bf6-4120-9413-c7c73eb55f56",
   "metadata": {
    "tags": []
   },
   "outputs": [],
   "source": [
    "list_flat = flatten_lst(list1)"
   ]
  },
  {
   "cell_type": "code",
   "execution_count": 108,
   "id": "2e04c1ac-c259-40eb-965f-7b6a016f7a0b",
   "metadata": {
    "tags": []
   },
   "outputs": [],
   "source": [
    "temp_lst=[]\n",
    "\n",
    "# Remove the strings and bool from the list\n",
    "for i in range(0,len(list_flat)):\n",
    "    if type(list_flat[i]) == str:\n",
    "        temp_lst.append(list_flat[i])\n",
    "    if type(list_flat[i]) == bool:\n",
    "        temp_lst.append(list_flat[i])\n",
    "for i in temp_lst:\n",
    "    list_flat.remove(i)"
   ]
  },
  {
   "cell_type": "code",
   "execution_count": 109,
   "id": "ab25b9c4-6b9f-40f6-83fa-b7dd40dc286a",
   "metadata": {},
   "outputs": [
    {
     "name": "stdout",
     "output_type": "stream",
     "text": [
      "4134711838987085478833841242112000\n"
     ]
    }
   ],
   "source": [
    "print(product_lst(list_flat))"
   ]
  },
  {
   "cell_type": "markdown",
   "id": "1a31959d-0dd7-4b62-a752-47f08a890be9",
   "metadata": {},
   "source": [
    "# Q2"
   ]
  },
  {
   "cell_type": "code",
   "execution_count": null,
   "id": "9565298f-1eae-42a6-a066-fb554d180e3f",
   "metadata": {},
   "outputs": [],
   "source": [
    "\"\"\"\n",
    "Q2. Write a python program for encrypting a message sent to you by your friend. The logic of encryption\n",
    "should be such that, for a the output should be z. For b, the output should be y. For c, the output should\n",
    "be x respectively. Also, the whitespace should be replaced with a dollar sign. Keep the punctuation\n",
    "marks unchanged.\n",
    "\n",
    "Input Sentence: I want to become a Data Scientist.\n",
    "Encrypt the above input sentence using the program you just created.\n",
    "\n",
    "\n",
    "Note: Convert the given input sentence into lowercase before encrypting. The final output should be\n",
    "lowercase.\n",
    "\"\"\""
   ]
  },
  {
   "cell_type": "code",
   "execution_count": 102,
   "id": "ea2dad85-9cfb-440e-b14e-1534a79bd8e4",
   "metadata": {},
   "outputs": [
    {
     "name": "stdout",
     "output_type": "stream",
     "text": [
      "i wznt to yexome z dztz sxientist.\n"
     ]
    }
   ],
   "source": [
    "sentence = \"I want to become a Data Scientist.\"\n",
    "\n",
    "print(sentence.lower().replace('a','z').replace('b','y').replace('c','x'))"
   ]
  }
 ],
 "metadata": {
  "kernelspec": {
   "display_name": "Python 3 (ipykernel)",
   "language": "python",
   "name": "python3"
  },
  "language_info": {
   "codemirror_mode": {
    "name": "ipython",
    "version": 3
   },
   "file_extension": ".py",
   "mimetype": "text/x-python",
   "name": "python",
   "nbconvert_exporter": "python",
   "pygments_lexer": "ipython3",
   "version": "3.10.8"
  }
 },
 "nbformat": 4,
 "nbformat_minor": 5
}
