{
 "cells": [
  {
   "cell_type": "markdown",
   "id": "26101ce6-7259-4782-96a4-cac5f2809205",
   "metadata": {},
   "source": [
    "# Q1"
   ]
  },
  {
   "cell_type": "code",
   "execution_count": 3,
   "id": "1a461cbf-2937-4bf7-85c9-5faa48efdc78",
   "metadata": {},
   "outputs": [
    {
     "name": "stdout",
     "output_type": "stream",
     "text": [
      "bark\n",
      "purr\n"
     ]
    }
   ],
   "source": [
    "\"\"\"\n",
    "Explain Class and Object with respect to Object-Oriented Programming. Give a suitable example.\n",
    "\"\"\"\n",
    "\n",
    "\"\"\"\n",
    "class is a user-defined structure which holds the data members and user defined functions which can be accessed \n",
    "by creating a instance. A class is like a bluprint of an object.\n",
    "\n",
    "--classes can be created by using the keyword class\n",
    "--attibutes are the variables that belong to a class\n",
    "--attributes can be accessed by using the (.) dot operator.\n",
    "\n",
    "Object is an instance of an class. object can access the functions of the class by creating a instance.\n",
    "\n",
    "\"\"\"\n",
    "\n",
    "# Example\n",
    "\n",
    "class animal:\n",
    "    def dog(self):\n",
    "        print(\"bark\")\n",
    "    def cat(self):\n",
    "        print(\"purr\")\n",
    "    \n",
    "animal_obj = animal()\n",
    "animal_obj.dog()\n",
    "animal_obj.cat()\n"
   ]
  },
  {
   "cell_type": "markdown",
   "id": "8bb7b0e8-0b91-442d-b1c9-7f2984b185dc",
   "metadata": {},
   "source": [
    "# Q2"
   ]
  },
  {
   "cell_type": "code",
   "execution_count": null,
   "id": "8e070447-5729-4f60-9dd1-b8009474570d",
   "metadata": {},
   "outputs": [],
   "source": [
    "\"\"\"\n",
    "Name the four pillars of OOPs.\n",
    "\"\"\"\n",
    "\n",
    "\"\"\"\n",
    "inheritance, polymorphism, abstraction and Encapsulation\n",
    "\"\"\""
   ]
  },
  {
   "cell_type": "markdown",
   "id": "026141e5-1415-4fe2-a70f-55588710e107",
   "metadata": {},
   "source": [
    "# Q3"
   ]
  },
  {
   "cell_type": "code",
   "execution_count": 4,
   "id": "0ce0291e-dc20-4a01-8ef6-18b6002d606e",
   "metadata": {},
   "outputs": [
    {
     "name": "stdout",
     "output_type": "stream",
     "text": [
      "John\n",
      "36\n"
     ]
    }
   ],
   "source": [
    "\"\"\"\n",
    "Explain why the __init__() function is used. Give a suitable example.\n",
    "\"\"\"\n",
    "\n",
    "\"\"\"\n",
    "Use the __init__() function to assign values to object properties, or other \n",
    "operations that are necessary to do when the object is being created\n",
    "\"\"\"\n",
    "\n",
    "# example\n",
    "class Person:\n",
    "  def __init__(self, name, age):\n",
    "    self.name = name\n",
    "    self.age = age\n",
    "\n",
    "p1 = Person(\"John\", 36)\n",
    "\n",
    "print(p1.name)\n",
    "print(p1.age)"
   ]
  },
  {
   "cell_type": "markdown",
   "id": "ddc99075-5a11-415e-924a-98ee1e69357e",
   "metadata": {},
   "source": [
    "# Q4"
   ]
  },
  {
   "cell_type": "code",
   "execution_count": null,
   "id": "0416ea1b-864d-4b55-8ea6-5ca1c9fb6121",
   "metadata": {},
   "outputs": [],
   "source": [
    "\"\"\"\n",
    "Why self is used in OOPs?\n",
    "\"\"\"\n",
    "\n",
    "\"\"\"\n",
    "Class methods must have an extra parameter as self. This parameter doesn't need an values.\n",
    "No value needs to be passed when the method has been invoked. The self is a pointer variable.\n",
    "Self points that the aregument received belongs to the class. So the other methods in the class can\n",
    "access the class arguments.\n",
    "\"\"\""
   ]
  },
  {
   "cell_type": "markdown",
   "id": "1d1e82ac-0fe7-452d-b582-ef8f97908d1d",
   "metadata": {},
   "source": [
    "# Q5"
   ]
  },
  {
   "cell_type": "code",
   "execution_count": 5,
   "id": "555e7a58-edae-4d17-a980-74b68178162d",
   "metadata": {},
   "outputs": [
    {
     "name": "stdout",
     "output_type": "stream",
     "text": [
      "This function is in parent class.\n",
      "This function is in child class.\n"
     ]
    }
   ],
   "source": [
    "\"\"\"\n",
    "What is inheritance? Give an example for each type of inheritance.\n",
    "\"\"\"\n",
    "\n",
    "\"\"\"\n",
    "Inhertance basically means accessing the properties of the base classs from the child class.\n",
    "\n",
    "types : single inheritance, Multiple inheritance, multilevel inhertance, Hierarchical Inheritance, Hybrid Inheritance\n",
    "\n",
    "\"\"\"\n",
    "\n",
    "# single inheritance\n",
    "\n",
    "# Base class\n",
    "class Parent:\n",
    "\tdef func1(self):\n",
    "\t\tprint(\"This function is in parent class.\")\n",
    "\n",
    "# Derived class\n",
    "class Child(Parent):\n",
    "\tdef func2(self):\n",
    "\t\tprint(\"This function is in child class.\")\n",
    "\n",
    "\n",
    "# Driver's code\n",
    "object = Child()\n",
    "object.func1()\n",
    "object.func2()\n"
   ]
  },
  {
   "cell_type": "code",
   "execution_count": 6,
   "id": "f87e3f3f-e64c-40f9-b30b-a517e84fe774",
   "metadata": {},
   "outputs": [
    {
     "name": "stdout",
     "output_type": "stream",
     "text": [
      "Father : RAM\n",
      "Mother : SITA\n"
     ]
    }
   ],
   "source": [
    "# multiple inheritance\n",
    "\n",
    "# Base class1\n",
    "class Mother:\n",
    "\tmothername = \"\"\n",
    "\n",
    "\tdef mother(self):\n",
    "\t\tprint(self.mothername)\n",
    "\n",
    "# Base class2\n",
    "class Father:\n",
    "\tfathername = \"\"\n",
    "\n",
    "\tdef father(self):\n",
    "\t\tprint(self.fathername)\n",
    "\n",
    "# Derived class\n",
    "class Son(Mother, Father):\n",
    "\tdef parents(self):\n",
    "\t\tprint(\"Father :\", self.fathername)\n",
    "\t\tprint(\"Mother :\", self.mothername)\n",
    "\n",
    "\n",
    "# Driver's code\n",
    "s1 = Son()\n",
    "s1.fathername = \"RAM\"\n",
    "s1.mothername = \"SITA\"\n",
    "s1.parents()\n"
   ]
  },
  {
   "cell_type": "code",
   "execution_count": 7,
   "id": "8f9913a4-411f-463d-b821-c58cd8ff3e00",
   "metadata": {},
   "outputs": [
    {
     "name": "stdout",
     "output_type": "stream",
     "text": [
      "Lal mani\n",
      "Grandfather name : Lal mani\n",
      "Father name : Rampal\n",
      "Son name : Prince\n"
     ]
    }
   ],
   "source": [
    "# multilevel inheritance\n",
    "\n",
    "# Base class\n",
    "class Grandfather:\n",
    "\n",
    "\tdef __init__(self, grandfathername):\n",
    "\t\tself.grandfathername = grandfathername\n",
    "\n",
    "# Intermediate class\n",
    "class Father(Grandfather):\n",
    "\tdef __init__(self, fathername, grandfathername):\n",
    "\t\tself.fathername = fathername\n",
    "\n",
    "\t\t# invoking constructor of Grandfather class\n",
    "\t\tGrandfather.__init__(self, grandfathername)\n",
    "\n",
    "# Derived class\n",
    "class Son(Father):\n",
    "\tdef __init__(self, sonname, fathername, grandfathername):\n",
    "\t\tself.sonname = sonname\n",
    "\n",
    "\t\t# invoking constructor of Father class\n",
    "\t\tFather.__init__(self, fathername, grandfathername)\n",
    "\n",
    "\tdef print_name(self):\n",
    "\t\tprint('Grandfather name :', self.grandfathername)\n",
    "\t\tprint(\"Father name :\", self.fathername)\n",
    "\t\tprint(\"Son name :\", self.sonname)\n",
    "\n",
    "\n",
    "# Driver code\n",
    "s1 = Son('Prince', 'Rampal', 'Lal mani')\n",
    "print(s1.grandfathername)\n",
    "s1.print_name()\n"
   ]
  },
  {
   "cell_type": "code",
   "execution_count": 8,
   "id": "cd56ce91-713d-4efc-9f9a-ddf0324c88e5",
   "metadata": {},
   "outputs": [
    {
     "name": "stdout",
     "output_type": "stream",
     "text": [
      "This function is in parent class.\n",
      "This function is in child 1.\n",
      "This function is in parent class.\n",
      "This function is in child 2.\n"
     ]
    }
   ],
   "source": [
    "# Hierarchical inheritance\n",
    "\n",
    "\n",
    "# Base class\n",
    "class Parent:\n",
    "\tdef func1(self):\n",
    "\t\tprint(\"This function is in parent class.\")\n",
    "\n",
    "# Derived class1\n",
    "class Child1(Parent):\n",
    "\tdef func2(self):\n",
    "\t\tprint(\"This function is in child 1.\")\n",
    "\n",
    "# Derivied class2\n",
    "class Child2(Parent):\n",
    "\tdef func3(self):\n",
    "\t\tprint(\"This function is in child 2.\")\n",
    "\n",
    "\n",
    "# Driver's code\n",
    "object1 = Child1()\n",
    "object2 = Child2()\n",
    "object1.func1()\n",
    "object1.func2()\n",
    "object2.func1()\n",
    "object2.func3()\n"
   ]
  },
  {
   "cell_type": "code",
   "execution_count": 13,
   "id": "aa09ab87-13fb-4ece-8c90-8d5bec565c08",
   "metadata": {},
   "outputs": [
    {
     "name": "stdout",
     "output_type": "stream",
     "text": [
      "This is Student class inheriting PC and Laptop\n",
      "This is Mouse class inheriting Laptop class\n"
     ]
    }
   ],
   "source": [
    "#Hybrid_inheritance\n",
    "class PC:\n",
    "    def fun1(self):\n",
    "        print(\"This is PC class\")\n",
    "\n",
    "class Laptop(PC):\n",
    "    def fun2(self):\n",
    "        print(\"This is Laptop class inheriting PC class\")\n",
    "\n",
    "class Mouse(Laptop):\n",
    "    def fun3(self):\n",
    "        print(\"This is Mouse class inheriting Laptop class\")\n",
    "\n",
    "class Student(Mouse, Laptop):\n",
    "    def fun4(self):\n",
    "        print(\"This is Student class inheriting PC and Laptop\")\n",
    "\n",
    "# Driver’s code\n",
    "obj = Student()\n",
    "obj1 = Mouse()\n",
    "obj.fun4()\n",
    "obj.fun3()"
   ]
  }
 ],
 "metadata": {
  "kernelspec": {
   "display_name": "Python 3 (ipykernel)",
   "language": "python",
   "name": "python3"
  },
  "language_info": {
   "codemirror_mode": {
    "name": "ipython",
    "version": 3
   },
   "file_extension": ".py",
   "mimetype": "text/x-python",
   "name": "python",
   "nbconvert_exporter": "python",
   "pygments_lexer": "ipython3",
   "version": "3.10.8"
  }
 },
 "nbformat": 4,
 "nbformat_minor": 5
}
