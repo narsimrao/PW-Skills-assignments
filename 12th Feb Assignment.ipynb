{
 "cells": [
  {
   "cell_type": "markdown",
   "id": "98dafc73-f21a-4548-835d-f10a23b668d2",
   "metadata": {},
   "source": [
    "# Q1"
   ]
  },
  {
   "cell_type": "code",
   "execution_count": null,
   "id": "558c20e6-a504-411d-9724-bd06cbfa8245",
   "metadata": {},
   "outputs": [],
   "source": [
    "\"\"\"\n",
    "What is an Exception in python? Write the difference \n",
    "between Exceptions and syntax errors.\n",
    "\"\"\"\n",
    "\n",
    "\"\"\"\n",
    "Answer : \n",
    "an exception is a condition that interrupts the normal flow of the program\n",
    "An error is an issue in a program that prevents the program from completing its task. \n",
    "\"\"\""
   ]
  },
  {
   "cell_type": "markdown",
   "id": "a7bd6b1e-1c9d-4f7d-b75b-068d67a0adc9",
   "metadata": {},
   "source": [
    "# Q2"
   ]
  },
  {
   "cell_type": "code",
   "execution_count": 1,
   "id": "b9a4b233-3abd-4237-a3d6-2a897305e44a",
   "metadata": {},
   "outputs": [
    {
     "name": "stdout",
     "output_type": "stream",
     "text": [
      "[Errno 2] No such file or directory: 'nofile.txt'\n"
     ]
    }
   ],
   "source": [
    "\"\"\"\n",
    "What happens when an exception is not handled? Explain with an example\n",
    "\"\"\"\n",
    "\n",
    "\n",
    "\"\"\"\n",
    "exception will allow the code to run the code when a interruption by an error happens.\n",
    "\"\"\"\n",
    "\n",
    "# Example reading a file that is not availble\n",
    "# The Exception handling can provide the details of the error occured\n",
    "\n",
    "try:\n",
    "    f = open('nofile.txt','r')\n",
    "except Exception as e:\n",
    "    print(e)"
   ]
  },
  {
   "cell_type": "markdown",
   "id": "778a07bb-3dbe-4651-aa7f-08974c15608f",
   "metadata": {},
   "source": [
    "# Q3"
   ]
  },
  {
   "cell_type": "code",
   "execution_count": null,
   "id": "e54a1b7e-8c98-4d5b-88d0-d3269d301442",
   "metadata": {},
   "outputs": [],
   "source": [
    "\"\"\"\n",
    "Which Python statements are used to catch and handle exceptions? \n",
    "Explain with an example\n",
    "\"\"\""
   ]
  },
  {
   "cell_type": "code",
   "execution_count": 2,
   "id": "3c0a1d08-9c0e-422f-b072-4c508a2995a0",
   "metadata": {},
   "outputs": [
    {
     "name": "stdout",
     "output_type": "stream",
     "text": [
      "[Errno 2] No such file or directory: 'nofile.txt'\n"
     ]
    }
   ],
   "source": [
    "# The try and catch block statements are used to handle exceptions\n",
    "try:\n",
    "    f = open('nofile.txt','r')\n",
    "except Exception as e:\n",
    "    print(e)"
   ]
  },
  {
   "cell_type": "markdown",
   "id": "95ba6ae0-e0a5-41ec-92fc-0bdae55a64a0",
   "metadata": {},
   "source": [
    "# Q4"
   ]
  },
  {
   "cell_type": "code",
   "execution_count": null,
   "id": "0e34f3fe-023b-4079-98d9-6ab6cd099597",
   "metadata": {},
   "outputs": [],
   "source": [
    "\"\"\"\n",
    "Explain with an example:\n",
    "\n",
    "a.try and else\n",
    "b.finally\n",
    "c.raise\n",
    "\"\"\""
   ]
  },
  {
   "cell_type": "code",
   "execution_count": 17,
   "id": "920d46d0-4ffe-4a5e-aa9b-118fddd6afae",
   "metadata": {},
   "outputs": [
    {
     "name": "stdout",
     "output_type": "stream",
     "text": [
      "age is ok\n",
      "age was ok\n",
      "The age was : 45\n"
     ]
    }
   ],
   "source": [
    "# Custome exception class\n",
    "class validateage(Exception):\n",
    "    def __init__(self,msg):\n",
    "        self.msg = msg\n",
    "\n",
    "age = 45\n",
    "try: # try blocks lets to test a block of code\n",
    "    if age < 18:\n",
    "        raise validateage(\"too young\")\n",
    "    elif age > 50:\n",
    "        raise validateage(\"too old\")\n",
    "    else:\n",
    "        print(\"age is ok\")\n",
    "except Exception as e: # executes if there is any exceptions and captures the exception details\n",
    "    print(e)\n",
    "else: # Executes if there are no exceptions\n",
    "    print(\"age was ok\")\n",
    "finally: #Exceutes everytime whether exception occurs or not\n",
    "    print(\"The age was :\",age)"
   ]
  },
  {
   "cell_type": "markdown",
   "id": "adc45249-74e7-4787-a6b6-0d11a43b4da7",
   "metadata": {},
   "source": [
    "# Q5"
   ]
  },
  {
   "cell_type": "code",
   "execution_count": null,
   "id": "ad97db7c-7bcb-406b-a5c0-fd7e8a5837be",
   "metadata": {},
   "outputs": [],
   "source": [
    "\"\"\"\n",
    "What are Custom Exceptions in python? Why do we need Custom Exceptions? Explain with an example\n",
    "\"\"\""
   ]
  },
  {
   "cell_type": "code",
   "execution_count": 5,
   "id": "d28be6d2-72df-470f-b254-fada4c896045",
   "metadata": {
    "tags": []
   },
   "outputs": [],
   "source": [
    "#Custom Exceptions are user created exception classes. \n",
    "#These classes are used when there is a need to throw a specific message for that exception\n"
   ]
  },
  {
   "cell_type": "code",
   "execution_count": 6,
   "id": "a2688f0a-f42f-461b-b179-15e62a6debb5",
   "metadata": {},
   "outputs": [],
   "source": [
    "# Custome exception class\n",
    "class validateage(Exception):\n",
    "    def __init__(self,msg):\n",
    "        self.msg = msg\n",
    "        \n",
    "def validate_age(age):\n",
    "    if age <0:\n",
    "        raise validateage(\"age should be grater than 0\")\n",
    "    elif age > 200:\n",
    "        raise validateage(\"age is too high\")\n",
    "    else:\n",
    "        print(\"age is valid\")"
   ]
  },
  {
   "cell_type": "code",
   "execution_count": 9,
   "id": "850dcc6c-e36a-4515-925d-8f15e8bd15b1",
   "metadata": {},
   "outputs": [
    {
     "name": "stdin",
     "output_type": "stream",
     "text": [
      "enter the age 43\n"
     ]
    },
    {
     "name": "stdout",
     "output_type": "stream",
     "text": [
      "age is valid\n"
     ]
    }
   ],
   "source": [
    "try:\n",
    "    age = int(input(\"enter the age\"))\n",
    "    validate_age(age)\n",
    "except validateage as e:\n",
    "    print(e)"
   ]
  },
  {
   "cell_type": "markdown",
   "id": "ee01d95c-c66e-4d5f-9126-37fcac1d8f95",
   "metadata": {},
   "source": [
    "# Q6"
   ]
  },
  {
   "cell_type": "code",
   "execution_count": 18,
   "id": "a60d29ad-558e-4035-b0d8-4cc007a3d93b",
   "metadata": {},
   "outputs": [
    {
     "data": {
      "text/plain": [
       "'\\nCreate custom exception class. Use this class to handle an exception.\\n'"
      ]
     },
     "execution_count": 18,
     "metadata": {},
     "output_type": "execute_result"
    }
   ],
   "source": [
    "\"\"\"\n",
    "Create custom exception class. Use this class to handle an exception.\n",
    "\"\"\""
   ]
  },
  {
   "cell_type": "code",
   "execution_count": 19,
   "id": "082d74d1-c3b7-4471-8094-e8e1ff34034d",
   "metadata": {},
   "outputs": [],
   "source": [
    "# Custome exception class\n",
    "class validateage(Exception):\n",
    "    def __init__(self,msg):\n",
    "        self.msg = msg\n",
    "        \n",
    "def validate_age(age):\n",
    "    if age <0:\n",
    "        raise validateage(\"age should be grater than 0\")\n",
    "    elif age > 200:\n",
    "        raise validateage(\"age is too high\")\n",
    "    else:\n",
    "        print(\"age is valid\")"
   ]
  },
  {
   "cell_type": "code",
   "execution_count": 20,
   "id": "52d3753b-220f-42ca-afa7-c4d7f5d74507",
   "metadata": {},
   "outputs": [
    {
     "name": "stdin",
     "output_type": "stream",
     "text": [
      "enter the age 555\n"
     ]
    },
    {
     "name": "stdout",
     "output_type": "stream",
     "text": [
      "age is too high\n"
     ]
    }
   ],
   "source": [
    "try:\n",
    "    age = int(input(\"enter the age\"))\n",
    "    validate_age(age)\n",
    "except validateage as e:\n",
    "    print(e)"
   ]
  }
 ],
 "metadata": {
  "kernelspec": {
   "display_name": "Python 3 (ipykernel)",
   "language": "python",
   "name": "python3"
  },
  "language_info": {
   "codemirror_mode": {
    "name": "ipython",
    "version": 3
   },
   "file_extension": ".py",
   "mimetype": "text/x-python",
   "name": "python",
   "nbconvert_exporter": "python",
   "pygments_lexer": "ipython3",
   "version": "3.10.8"
  }
 },
 "nbformat": 4,
 "nbformat_minor": 5
}
