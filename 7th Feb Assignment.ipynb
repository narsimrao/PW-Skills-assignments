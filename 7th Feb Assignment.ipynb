{
 "cells": [
  {
   "cell_type": "markdown",
   "id": "285cdd92-9ea0-4841-95f2-4bf5e5619e18",
   "metadata": {},
   "source": [
    "# Q1"
   ]
  },
  {
   "cell_type": "code",
   "execution_count": null,
   "id": "5118c9c9-50d7-46b3-9503-890b1dc57c27",
   "metadata": {},
   "outputs": [],
   "source": [
    "\"\"\"\n",
    "Q1. You are writing code for a company. The requirement of the company is that you create a python\n",
    "function that will check whether the password entered by the user is correct or not. The function should\n",
    "take the password as input and return the string “Valid Password” if the entered password follows the\n",
    "below-given password guidelines else it should return “Invalid Password”.\n",
    "\n",
    "Note: \n",
    "1. The Password should contain at least two uppercase letters and at least two lowercase letters.\n",
    "2. The Password should contain at least a number and three special characters.\n",
    "3. The length of the password should be 10 characters long.\n",
    "\"\"\""
   ]
  },
  {
   "cell_type": "code",
   "execution_count": 14,
   "id": "3b04eba1-034b-4848-b055-50911c52b7fc",
   "metadata": {},
   "outputs": [
    {
     "name": "stdin",
     "output_type": "stream",
     "text": [
      "enter the password :  PassWorD@123!!!\n"
     ]
    },
    {
     "name": "stdout",
     "output_type": "stream",
     "text": [
      "Valid Password\n"
     ]
    }
   ],
   "source": [
    "def Password_checker(password):\n",
    "    \n",
    "    upper_count = 0\n",
    "    lower_count = 0\n",
    "    numeric_count = 0\n",
    "    al_num_count = 0\n",
    "    \n",
    "    for i in password:\n",
    "        if i.isupper():\n",
    "            upper_count += 1\n",
    "        if i.islower():\n",
    "            lower_count += 1\n",
    "        if i.isnumeric():\n",
    "            numeric_count += 1\n",
    "        if not i.isalnum():\n",
    "            al_num_count += 1\n",
    "            \n",
    "    if upper_count < 2 or lower_count < 2:\n",
    "        return \"Invalid Password\"\n",
    "    elif numeric_count == 0 and al_num_count > 3:\n",
    "        return \"Invalid Password\"\n",
    "    elif len(password) < 10:\n",
    "        return \"Invalid Password\"\n",
    "    else:\n",
    "        return \"Valid Password\"\n",
    "\n",
    "password = str(input(\"enter the password : \"))\n",
    "print(Password_checker(password))"
   ]
  },
  {
   "cell_type": "markdown",
   "id": "0b225c5e-2290-4313-9719-50904146eb07",
   "metadata": {},
   "source": [
    "# Q2"
   ]
  },
  {
   "cell_type": "code",
   "execution_count": 27,
   "id": "da80e4df-c341-4687-8601-9f5701ce5182",
   "metadata": {},
   "outputs": [
    {
     "name": "stdout",
     "output_type": "stream",
     "text": [
      "True\n"
     ]
    }
   ],
   "source": [
    "\"\"\"\n",
    "Q2. Solve the below-given questions using at least one of the following:\n",
    "1. Lambda function\n",
    "2. Filter function\n",
    "3. map function\n",
    "4. List Comprehension\n",
    "\n",
    "- Check if the string starts with a particular letter.\n",
    "- Check if the string is numeric.\n",
    "- Sort a list of tuples having fruit names and their quantity. [(\"mango\",99),(\"orange\",80), (\"grapes\", 1000)]\n",
    "- Find the squares of numbers from 1 to 10.\n",
    "- Find the cube root of numbers from 1 to 10.\n",
    "- Check if a given number is even\n",
    "- Filter odd numbers from the given list. [1,2,3,4,5,6,7,8,9,10]\n",
    "- Sort a list of integers into positive and negative integers lists. [1,2,3,4,5,6,-1,-2,-3,-4,-5,0]\n",
    "\n",
    "\"\"\"\n",
    "\n",
    "# Check if the string starts with a particular letter.\n",
    "name = \"pwskills\"\n",
    "result = lambda x : True if x.startswith(\"p\") else False\n",
    "print(result(name))\n"
   ]
  },
  {
   "cell_type": "code",
   "execution_count": 29,
   "id": "82220296-4699-4313-95f6-3fca2742881d",
   "metadata": {},
   "outputs": [
    {
     "name": "stdout",
     "output_type": "stream",
     "text": [
      "True\n"
     ]
    }
   ],
   "source": [
    "# Check if the string is numeric\n",
    "name = \"123\"\n",
    "result = lambda x : True if x.isnumeric() else False\n",
    "print(result(name))\n"
   ]
  },
  {
   "cell_type": "code",
   "execution_count": 31,
   "id": "bcf6a368-0c2d-4779-b749-5ba86edfa9fa",
   "metadata": {},
   "outputs": [
    {
     "name": "stdout",
     "output_type": "stream",
     "text": [
      "[('orange', 80), ('mango', 99), ('grapes', 1000)]\n"
     ]
    }
   ],
   "source": [
    "# Sort a list of tuples having fruit names and their quantity. \n",
    "# [(\"mango\",99),(\"orange\",80), (\"grapes\", 1000)]\n",
    "\n",
    "list_of_tuples = [(\"mango\",99),(\"orange\",80), (\"grapes\", 1000)]\n",
    "list_of_tuples.sort(key= lambda x : x[1])\n",
    "print(list_of_tuples)\n"
   ]
  },
  {
   "cell_type": "code",
   "execution_count": 33,
   "id": "9ebf480a-3abc-4528-bac4-9509ae430a88",
   "metadata": {},
   "outputs": [
    {
     "name": "stdout",
     "output_type": "stream",
     "text": [
      "[1, 4, 9, 16, 25, 36, 49, 64, 81, 100]\n"
     ]
    }
   ],
   "source": [
    "# Find the squares of numbers from 1 to 10\n",
    "List = [1,2,3,4,5,6,7,8,9,10]\n",
    "\n",
    "print(list(map(lambda x : x**2, List)))\n"
   ]
  },
  {
   "cell_type": "code",
   "execution_count": 35,
   "id": "acc7440e-ec2d-4dac-9166-e9e8fed5825d",
   "metadata": {},
   "outputs": [
    {
     "name": "stdout",
     "output_type": "stream",
     "text": [
      "[1.0, 1.2599210498948732, 1.4422495703074083, 1.5874010519681994, 1.7099759466766968, 1.8171205928321397, 1.912931182772389, 2.0, 2.080083823051904, 2.154434690031884]\n"
     ]
    }
   ],
   "source": [
    "# Find the cube root of numbers from 1 to 10.\n",
    "List = [1,2,3,4,5,6,7,8,9,10]\n",
    "\n",
    "print(list(map(lambda x : x**(1/3), List)))"
   ]
  },
  {
   "cell_type": "code",
   "execution_count": 41,
   "id": "b137c39e-11c2-42df-b52f-a105493c0b09",
   "metadata": {},
   "outputs": [
    {
     "name": "stdin",
     "output_type": "stream",
     "text": [
      "Enter the value :  55\n"
     ]
    },
    {
     "name": "stdout",
     "output_type": "stream",
     "text": [
      "odd\n"
     ]
    }
   ],
   "source": [
    "# Check if a given number is even\n",
    "num = int(input(\"Enter the value : \"))\n",
    "\n",
    "result = lambda x : \"even\" if x%2==0 else \"odd\"\n",
    "print(result(num))"
   ]
  },
  {
   "cell_type": "code",
   "execution_count": 44,
   "id": "7987c8fb-0c69-4bb3-8b44-2d9726072b87",
   "metadata": {},
   "outputs": [
    {
     "name": "stdout",
     "output_type": "stream",
     "text": [
      "[2, 4, 6, 8, 10]\n"
     ]
    }
   ],
   "source": [
    "# Filter odd numbers from the given list\n",
    "\n",
    "List = [1,2,3,4,5,6,7,8,9,10]\n",
    "\n",
    "print(list(filter(lambda x : x%2 == 0, List)))"
   ]
  },
  {
   "cell_type": "code",
   "execution_count": 59,
   "id": "a8cfb26c-6c1c-4f90-8a8f-b06ca7367bf8",
   "metadata": {},
   "outputs": [
    {
     "name": "stdout",
     "output_type": "stream",
     "text": [
      "[1, 2, 3, 4, 5, 6, -1, -2, -3, -4, -5, 0]\n"
     ]
    }
   ],
   "source": [
    "# Sort a list of integers into positive and negative integers lists. \n",
    "\n",
    "temp_lst = [1,2,3,4,5,6,-1,-2,-3,-4,-5,0]\n",
    "print(temp_lst)\n",
    "test = temp_lst.sort(reverse = False)"
   ]
  }
 ],
 "metadata": {
  "kernelspec": {
   "display_name": "Python 3 (ipykernel)",
   "language": "python",
   "name": "python3"
  },
  "language_info": {
   "codemirror_mode": {
    "name": "ipython",
    "version": 3
   },
   "file_extension": ".py",
   "mimetype": "text/x-python",
   "name": "python",
   "nbconvert_exporter": "python",
   "pygments_lexer": "ipython3",
   "version": "3.10.8"
  }
 },
 "nbformat": 4,
 "nbformat_minor": 5
}
