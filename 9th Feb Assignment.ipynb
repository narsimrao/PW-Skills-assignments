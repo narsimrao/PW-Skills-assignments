{
 "cells": [
  {
   "cell_type": "markdown",
   "id": "5d8e237f-c85f-4be1-a2dc-f0b2e0f8033a",
   "metadata": {},
   "source": [
    "# Q1"
   ]
  },
  {
   "cell_type": "code",
   "execution_count": null,
   "id": "1ab2a3be-ca7f-4578-ace7-3bbecc7b306c",
   "metadata": {},
   "outputs": [],
   "source": [
    "\"\"\"\n",
    "Create a vehicle class with an init method having instance variables as name_of_vehicle, max_speed\n",
    "and average_of_vehicle.\n",
    "\"\"\""
   ]
  },
  {
   "cell_type": "code",
   "execution_count": 3,
   "id": "8471f951-5990-403b-8233-757287424edf",
   "metadata": {},
   "outputs": [
    {
     "data": {
      "text/plain": [
       "<__main__.vehicle at 0x7fe28817e2c0>"
      ]
     },
     "execution_count": 3,
     "metadata": {},
     "output_type": "execute_result"
    }
   ],
   "source": [
    "class vehicle:\n",
    "    def __init__(self, name_of_vehicle, max_speed, average_of_vehicle):\n",
    "        self.name_of_vehicle = name_of_vehicle\n",
    "        self.max_speed = max_speed\n",
    "        self.average_of_vehicle = average_of_vehicle"
   ]
  },
  {
   "cell_type": "markdown",
   "id": "9a1b04bd-73e9-4dca-a4ab-b0e9076bb831",
   "metadata": {},
   "source": [
    "# Q2"
   ]
  },
  {
   "cell_type": "code",
   "execution_count": null,
   "id": "0b64106c-a5aa-46c6-99cd-e819e91b86a1",
   "metadata": {},
   "outputs": [],
   "source": [
    "\"\"\"\n",
    "Create a child class car from the vehicle class created in Que 1, which will inherit the vehicle class.\n",
    "Create a method named seating_capacity which takes capacity as an argument and returns the name of\n",
    "the vehicle and its seating capacity.\n",
    "\"\"\""
   ]
  },
  {
   "cell_type": "code",
   "execution_count": 7,
   "id": "3694d3cf-b05f-4819-b51e-f46f34e98cae",
   "metadata": {},
   "outputs": [
    {
     "data": {
      "text/plain": [
       "('innova', 8)"
      ]
     },
     "execution_count": 7,
     "metadata": {},
     "output_type": "execute_result"
    }
   ],
   "source": [
    "class car(vehicle):\n",
    "    def seating_capacity(self, capacity):\n",
    "        self.capacity = capacity\n",
    "        \n",
    "        return self.name_of_vehicle, self.capacity\n",
    "    \n",
    "obj_car = car('innova', 170, 80)\n",
    "\n",
    "obj_car.seating_capacity(8)"
   ]
  },
  {
   "cell_type": "markdown",
   "id": "b54ac1d2-1bf0-4245-8221-ceb1ed357789",
   "metadata": {},
   "source": [
    "# Q3"
   ]
  },
  {
   "cell_type": "code",
   "execution_count": 1,
   "id": "08531e64-f1b7-4e88-a477-52acbb3c9d04",
   "metadata": {},
   "outputs": [
    {
     "name": "stdout",
     "output_type": "stream",
     "text": [
      "Father : RAM\n",
      "Mother : SITA\n"
     ]
    }
   ],
   "source": [
    "\"\"\"\n",
    "What is multiple inheritance? Write a python code to demonstrate multiple inheritance.\n",
    "\n",
    "A class that is derived from more than one parent class is called multiple inheritance\n",
    "\"\"\"\n",
    "# multiple inheritance\n",
    "\n",
    "# Base class1\n",
    "class Mother:\n",
    "\tmothername = \"\"\n",
    "\n",
    "\tdef mother(self):\n",
    "\t\tprint(self.mothername)\n",
    "\n",
    "# Base class2\n",
    "class Father:\n",
    "\tfathername = \"\"\n",
    "\n",
    "\tdef father(self):\n",
    "\t\tprint(self.fathername)\n",
    "\n",
    "# Derived class\n",
    "class Son(Mother, Father):\n",
    "\tdef parents(self):\n",
    "\t\tprint(\"Father :\", self.fathername)\n",
    "\t\tprint(\"Mother :\", self.mothername)\n",
    "\n",
    "\n",
    "# Driver's code\n",
    "s1 = Son()\n",
    "s1.fathername = \"RAM\"\n",
    "s1.mothername = \"SITA\"\n",
    "s1.parents()\n"
   ]
  },
  {
   "cell_type": "markdown",
   "id": "2e174cc7-e32e-435a-898d-b93da4d5ecba",
   "metadata": {},
   "source": [
    "# Q4"
   ]
  },
  {
   "cell_type": "code",
   "execution_count": 2,
   "id": "ec9e6c66-ccc0-40b6-be92-15c576084307",
   "metadata": {},
   "outputs": [
    {
     "name": "stdout",
     "output_type": "stream",
     "text": [
      "19\n",
      "19\n"
     ]
    }
   ],
   "source": [
    "\"\"\"\n",
    "What are getter and setter in python? Create a class and create a getter and a setter method in this\n",
    "class.\n",
    "\n",
    "Getter: A method that allows you to access an attribute in a given class\n",
    "Setter: A method that allows you to set or mutate the value of an attribute in a class\n",
    "\n",
    "\"\"\"\n",
    "\n",
    "# Example\n",
    "\n",
    "class student:   \n",
    "    def __init__(self, age = 0):   \n",
    "         self._age = age   \n",
    "      # using the getter method   \n",
    "    def get_age(self):   \n",
    "        return self._age   \n",
    "      # using the setter method   \n",
    "    def set_age(self, a):   \n",
    "        self._age = a   \n",
    "    \n",
    "John = student()   \n",
    "    \n",
    "#using the setter function  \n",
    "John.set_age(19)   \n",
    "    \n",
    "# using the getter function  \n",
    "print(John.get_age())   \n",
    "    \n",
    "print(John._age)"
   ]
  },
  {
   "cell_type": "markdown",
   "id": "47cff70b-a2fc-4c9e-9780-c17c25cadfc7",
   "metadata": {},
   "source": [
    "# Q5"
   ]
  },
  {
   "cell_type": "code",
   "execution_count": 4,
   "id": "16bfbec5-b9aa-41a5-9f88-dc1071c57d16",
   "metadata": {},
   "outputs": [
    {
     "name": "stdout",
     "output_type": "stream",
     "text": [
      "I eat only plants. I am vegetarian.\n",
      "I breathe oxygen.\n"
     ]
    }
   ],
   "source": [
    "\"\"\"\n",
    "What is method overriding in python? Write a python code to demonstrate method overriding.\n",
    "\n",
    "when the base and the parent class both having a function with same name is called method overriding.\n",
    "\"\"\"\n",
    "class Animal:\n",
    "\t\n",
    "\t# function breathe\n",
    "\tdef breathe(self):\n",
    "\t    print(\"I breathe oxygen.\")\n",
    "    \n",
    "    # function feed\n",
    "\tdef feed(self):\n",
    "\t    print(\"I eat food.\")\n",
    "        \n",
    "class Herbivorous(Animal):\n",
    "    \n",
    "    # function feed\n",
    "\tdef feed(self):\n",
    "\t    print(\"I eat only plants. I am vegetarian.\")\n",
    "        \n",
    "herbi = Herbivorous()\n",
    "herbi.feed()\n",
    "herbi.breathe()"
   ]
  },
  {
   "cell_type": "code",
   "execution_count": null,
   "id": "1c929cc4-b033-4287-9462-522d38b35813",
   "metadata": {},
   "outputs": [],
   "source": []
  }
 ],
 "metadata": {
  "kernelspec": {
   "display_name": "Python 3 (ipykernel)",
   "language": "python",
   "name": "python3"
  },
  "language_info": {
   "codemirror_mode": {
    "name": "ipython",
    "version": 3
   },
   "file_extension": ".py",
   "mimetype": "text/x-python",
   "name": "python",
   "nbconvert_exporter": "python",
   "pygments_lexer": "ipython3",
   "version": "3.10.8"
  }
 },
 "nbformat": 4,
 "nbformat_minor": 5
}
