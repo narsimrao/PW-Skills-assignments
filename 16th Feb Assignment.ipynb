{
 "cells": [
  {
   "cell_type": "markdown",
   "id": "70170951-d4a5-475e-ba18-38efd2d9e7ab",
   "metadata": {},
   "source": [
    "# Q1"
   ]
  },
  {
   "cell_type": "code",
   "execution_count": null,
   "id": "56e5fef0-8afa-4ab6-a217-5669d9cd6158",
   "metadata": {},
   "outputs": [],
   "source": [
    "\"\"\"\n",
    "What is a database? Differentiate between SQL and NoSQL databases.\n",
    "\"\"\""
   ]
  },
  {
   "cell_type": "code",
   "execution_count": null,
   "id": "7eece12c-ddce-40bf-91f9-6c787e12c462",
   "metadata": {},
   "outputs": [],
   "source": [
    "\"\"\"\n",
    "A database is an organized collection of structured information, or data, typically stored electronically in a computer system\n",
    "SQL databases are table-based, \n",
    "while NoSQL databases are document, key-value, graph, or wide-column stores.\n",
    "\"\"\""
   ]
  },
  {
   "cell_type": "markdown",
   "id": "fa0e51e6-cd8d-470e-a773-2848e521918d",
   "metadata": {},
   "source": [
    "# Q2"
   ]
  },
  {
   "cell_type": "code",
   "execution_count": null,
   "id": "619ecdb4-2750-447e-8c9d-c4fe32ee5922",
   "metadata": {},
   "outputs": [],
   "source": [
    "\"\"\"\n",
    "What is DDL? Explain why CREATE, DROP, ALTER, and TRUNCATE are used with an example.\n",
    "\"\"\""
   ]
  },
  {
   "cell_type": "code",
   "execution_count": null,
   "id": "5e1021c3-9bac-45a2-a9fb-69c950995b1a",
   "metadata": {},
   "outputs": [],
   "source": [
    "\"\"\"\n",
    "DDL is an abbreviation of Data Definition Language. \n",
    "The DDL Commands in Structured Query Language are used to create and modify the schema of the database and its objects.\n",
    "\n",
    "Create: \n",
    "CREATE is a DDL command used to create databases, tables, triggers and other database objects.\n",
    "\n",
    "Eg.. Create Database Books;  \n",
    "\n",
    "DROP:\n",
    "DROP is a DDL command used to delete/remove the database objects from the SQL database\n",
    "\n",
    "Eg.. DROP DATABASE Database_Name;  \n",
    "\n",
    "ALTER:\n",
    "ALTER is a DDL command which changes or modifies the existing structure of the database, \n",
    "and it also changes the schema of database objects.\n",
    "\n",
    "Eg.. ALTER TABLE Student ADD Father's_Name Varchar(60);  \n",
    "\n",
    "TRUNCATE:\n",
    "TRUNCATE is another DDL command which deletes or removes all the records from the table.\n",
    "\n",
    "Eg.. TRUNCATE TABLE Student;  \n",
    "\"\"\""
   ]
  },
  {
   "cell_type": "markdown",
   "id": "6be88a44-ab95-4fb6-9d77-09f94042f764",
   "metadata": {},
   "source": [
    "# Q3"
   ]
  },
  {
   "cell_type": "code",
   "execution_count": null,
   "id": "aa1c4e05-3b74-4313-8dc4-b723bec52185",
   "metadata": {},
   "outputs": [],
   "source": [
    "\"\"\"\n",
    "What is DML? Explain INSERT, UPDATE, and DELETE with an example.\n",
    "\"\"\""
   ]
  },
  {
   "cell_type": "code",
   "execution_count": null,
   "id": "9d62fc80-af4c-41a1-b79e-1a2dd3d3fdce",
   "metadata": {},
   "outputs": [],
   "source": [
    "\"\"\"\n",
    "The structured query language (SQL) commands deal with the manipulation of data present in the database that belongs to the DML or Data Manipulation Language\n",
    "\n",
    "INSERT:\n",
    "Insert command is used to insert data into a table.\n",
    "\n",
    "Eg.. Insert into Employee(Emp_id, Emp_name) values (001, “ bhanu”);\n",
    "\n",
    "UPDATE:\n",
    "Update command is used to update existing data within a table.\n",
    "\n",
    "Eg.. UPDATE Employee SET Emp_name= Ram WHERE Emp_id= 001;\n",
    "\n",
    "DELETE:\n",
    "Delete command is used to delete records from a database table.\n",
    "\n",
    "Eg.. DELETE from Employee WHERE Emp_id=002;\n",
    "\"\"\""
   ]
  },
  {
   "cell_type": "markdown",
   "id": "fd5c19ff-81f3-43bd-91b3-f9bb18bd9a71",
   "metadata": {},
   "source": [
    "# Q4"
   ]
  },
  {
   "cell_type": "code",
   "execution_count": null,
   "id": "a7c89548-3617-4f68-bfa6-8478cbc9351c",
   "metadata": {},
   "outputs": [],
   "source": [
    "\"\"\"\n",
    "What is DQL? Explain SELECT with an example.\n",
    "\"\"\""
   ]
  },
  {
   "cell_type": "code",
   "execution_count": null,
   "id": "d168f46f-8f28-4aee-b838-0311bef843fe",
   "metadata": {},
   "outputs": [],
   "source": [
    "\"\"\"\n",
    "DQL is Data Query Language. DQL is a part of the grouping involved in SQL (Structures Query Language) sub-languages.\n",
    "\n",
    "SELECT:\n",
    "Select command is used to retrieve data from the database.\n",
    "\n",
    "Eg.. SELECT * from Employee;\n",
    "\"\"\""
   ]
  },
  {
   "cell_type": "markdown",
   "id": "88511e5f-dc86-4b0b-9f64-ff41474b2c37",
   "metadata": {},
   "source": [
    "# Q5"
   ]
  },
  {
   "cell_type": "code",
   "execution_count": null,
   "id": "d260f6d9-2e90-412a-8ec4-c6564979f90d",
   "metadata": {},
   "outputs": [],
   "source": [
    "\"\"\"\n",
    "Explain Primary Key and Foreign Key.\n",
    "\"\"\""
   ]
  },
  {
   "cell_type": "code",
   "execution_count": null,
   "id": "083dfef4-e952-4049-a0dd-39b373ac600d",
   "metadata": {},
   "outputs": [],
   "source": [
    "\"\"\"\n",
    "Primary Key:\n",
    "A primary key is used to ensure that data in the specific column is unique.\n",
    "\n",
    "Foreign Key:\n",
    "A foreign key is a column or group of columns in a relational database table that provides a link between data in two tables.\n",
    "\"\"\""
   ]
  },
  {
   "cell_type": "markdown",
   "id": "94c864df-bf61-4856-9c62-051d1793b1ec",
   "metadata": {},
   "source": [
    "# Q6"
   ]
  },
  {
   "cell_type": "code",
   "execution_count": null,
   "id": "40ef5fc2-1e49-43d7-ad80-861b7ba2676c",
   "metadata": {},
   "outputs": [],
   "source": [
    "\"\"\"\n",
    "Write a python code to connect MySQL to python. \n",
    "Explain the cursor() and execute() method.\n",
    "\"\"\""
   ]
  },
  {
   "cell_type": "code",
   "execution_count": null,
   "id": "77ec26a5-5660-466a-b340-e5eb85470bdb",
   "metadata": {},
   "outputs": [],
   "source": [
    "import mysql.connector\n",
    "# import mysql.connector\n",
    "#create user 'user'@'%' identified by 'password'\n",
    "mydb = mysql.connector.connect(\n",
    "  host=\"localhost\",\n",
    "  user=\"abc\",\n",
    "  password=\"password\"\n",
    ")\n",
    "print(mydb)\n",
    "mycursor = mydb.cursor()\n",
    "mycursor.execute(\"SHOW DATABASES\")\n",
    "for x in mycursor:\n",
    "    print(x)\n",
    "    \n",
    "\"\"\"\n",
    "cursor() method: they are bound to the connection for the entire lifetime and all the commands are executed in the context of the database session wrapped by the connection.\n",
    "execute() method : This method executes the given database operation\n",
    "\"\"\""
   ]
  },
  {
   "cell_type": "markdown",
   "id": "8376f924-a5c2-4a0c-a8ef-13eb1e095cfc",
   "metadata": {},
   "source": [
    "# Q7"
   ]
  },
  {
   "cell_type": "code",
   "execution_count": null,
   "id": "cf910917-78b8-4eb3-a514-e73ce39ad14b",
   "metadata": {},
   "outputs": [],
   "source": [
    "\"\"\"\n",
    "Give the order of execution of SQL clauses in an SQL query.\n",
    "\"\"\""
   ]
  },
  {
   "cell_type": "code",
   "execution_count": null,
   "id": "0f94ebab-8c0a-4dec-b21e-8760b823113c",
   "metadata": {},
   "outputs": [],
   "source": [
    "\"\"\"\n",
    "1. from\n",
    "2. where\n",
    "3. groupby\n",
    "4. having\n",
    "5. select\n",
    "6. order by\n",
    "7. limit\n",
    "\"\"\""
   ]
  }
 ],
 "metadata": {
  "kernelspec": {
   "display_name": "Python 3 (ipykernel)",
   "language": "python",
   "name": "python3"
  },
  "language_info": {
   "codemirror_mode": {
    "name": "ipython",
    "version": 3
   },
   "file_extension": ".py",
   "mimetype": "text/x-python",
   "name": "python",
   "nbconvert_exporter": "python",
   "pygments_lexer": "ipython3",
   "version": "3.10.8"
  }
 },
 "nbformat": 4,
 "nbformat_minor": 5
}
