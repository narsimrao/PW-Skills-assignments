{
 "cells": [
  {
   "cell_type": "markdown",
   "id": "2f2edccd-562a-46c5-a378-97adec3c4c86",
   "metadata": {},
   "source": [
    "# Q1"
   ]
  },
  {
   "cell_type": "code",
   "execution_count": null,
   "id": "828e7b30-7005-4e89-96a7-cb161daacd0d",
   "metadata": {},
   "outputs": [],
   "source": [
    "\"\"\"\n",
    "What is an API? Give an example, where an API is used in real life.\n",
    "\"\"\""
   ]
  },
  {
   "cell_type": "code",
   "execution_count": null,
   "id": "cadf96fe-c19e-4f3a-b645-0229fc662289",
   "metadata": {},
   "outputs": [],
   "source": [
    "\"\"\"\n",
    "An API is a communication interface that allows two separate software components to share data\n",
    "\n",
    "Eg.., Weather Snippets\n",
    "Weather data is a popular API example that we come across regularly. \n",
    "Rich weather snippets appear ubiquitous, appearing on all platforms such as Google Search, Apple's Weather app, and even your smart home device.\n",
    "\n",
    "\"\"\""
   ]
  },
  {
   "cell_type": "markdown",
   "id": "6ce474d5-a8f8-4309-9e48-18a79364d5bf",
   "metadata": {},
   "source": [
    "# Q2"
   ]
  },
  {
   "cell_type": "code",
   "execution_count": null,
   "id": "84a8a9a6-4d99-4948-bdf0-944131b29036",
   "metadata": {},
   "outputs": [],
   "source": [
    "\"\"\"\n",
    "Give advantages and disadvantages of using API.\n",
    "\"\"\""
   ]
  },
  {
   "cell_type": "code",
   "execution_count": null,
   "id": "a98cb87c-a0bc-47c4-8bf1-4acef18f64d0",
   "metadata": {},
   "outputs": [],
   "source": [
    "\"\"\"\n",
    "Advantages:\n",
    "\n",
    "Increased Interoperability: API solutions enable different software systems to communicate with each other, regardless of their programming language or platform. This enhances the interoperability between systems, allowing for the exchange of data and functionality.\n",
    "Improved Efficiency: API driven infrastructures enable developers to reuse code and functionality from existing software systems, saving time and reducing the amount of code that needs to be written from scratch.\n",
    "Better User Experience: APIs can enable third-party developers to create applications that integrate with existing software systems, providing a better user experience and increased functionality.\n",
    "Increased Flexibility: APIs provide developers with greater flexibility, enabling them to choose the best programming languages and frameworks for their needs.\n",
    "New Revenue Streams: APIs can enable companies to create new revenue streams by providing third-party developers with access to their software systems.\n",
    "\n",
    "Disadvantages:\n",
    "Security Concerns: API infrastructures can be vulnerable to security breaches, such as SQL injection attacks and cross-site scripting (XSS) attacks, making it crucial to implement security measures to protect against these threats.\n",
    "Complexity: APIs can be complex, requiring a significant amount of development effort to implement and maintain.\n",
    "Compatibility Issues: APIs can have compatibility issues between different versions of the same software system or between different systems, which can lead to errors and system failures.\n",
    "Dependency on Third-Party Developers: APIs rely on third-party developers to create applications that integrate with the software system. This can create dependencies that are outside of the control of the company that owns the software system.\n",
    "Governance and Management: APIs require proper governance and management to ensure they are being used correctly and consistently across different applications and systems.\n",
    "\"\"\""
   ]
  },
  {
   "cell_type": "markdown",
   "id": "1e313e9d-2f42-4bc7-b72c-a2ab00f868ad",
   "metadata": {},
   "source": [
    "# Q3"
   ]
  },
  {
   "cell_type": "code",
   "execution_count": null,
   "id": "f6a83e47-b8e2-478a-a98b-63035aeec8ac",
   "metadata": {},
   "outputs": [],
   "source": [
    "\"\"\"\n",
    "What is a Web API? Differentiate between API and Web API.\n",
    "\"\"\""
   ]
  },
  {
   "cell_type": "code",
   "execution_count": null,
   "id": "7dbe8250-9289-4de2-87db-d6294ddbcdbd",
   "metadata": {},
   "outputs": [],
   "source": [
    "\"\"\"\n",
    "Web API is an API that can be accessed over the web using the HTTP Protocol.\n",
    "\n",
    "1) Web API vs REST API: Protocol\n",
    "Web API supports protocol for HTTP/s protocol and URL requests/responses headers that enable services to reach various clients through the web. On the other hand, all communication in the REST API is supported only through HTTP protocol.\n",
    "\n",
    "2) Web API vs REST API: Formats\n",
    "Although APIs perform identical tasks, a Web API provides flexibility to any style of communication. Whereas a REST API can take advantage of using REST, SOAP, and XML-RPC for communication.\n",
    "\n",
    "3) Web API vs REST API: Design\n",
    "As Web APIs are lightweight architecture, they are designed for gadgets constrained to devices like smartphones. In contrast, REST APIs send and receive data over systems making it a complex architecture.\n",
    "\n",
    "4) Web API vs REST API: Support\n",
    "Web API can be hosted only on an Internet Information Service (IIS) or self that supports XML and JSON requests. In contrast, REST API can be hosted only on IIS that supports standardized XML requests.\n",
    "\"\"\""
   ]
  },
  {
   "cell_type": "markdown",
   "id": "e82cebd7-0a3f-47ea-a9d2-da90f41dc788",
   "metadata": {},
   "source": [
    "# Q4"
   ]
  },
  {
   "cell_type": "code",
   "execution_count": null,
   "id": "54c56db6-f168-4d34-80b0-a533998864da",
   "metadata": {},
   "outputs": [],
   "source": [
    "\"\"\"\n",
    "Explain REST and SOAP Architecture. Mention shortcomings of SOAP.\n",
    "\"\"\""
   ]
  },
  {
   "cell_type": "code",
   "execution_count": null,
   "id": "d6b148d8-e6a0-4b0f-a625-702c9dbad1f6",
   "metadata": {},
   "outputs": [],
   "source": [
    "\"\"\"\n",
    "SOAP:\n",
    "    SOAP relies exclusively on XML to provide messaging services. \n",
    "    Microsoft originally developed SOAP to take the place of older technologies that don’t work well on the internet such as the Distributed Component Object Model (DCOM) and Common Object Request Broker Architecture (CORBA). \n",
    "    These technologies fail because they rely on binary messaging. \n",
    "    The XML messaging that SOAP employs works better over the internet.\n",
    "\n",
    "REST:\n",
    "    REST provides a lighter-weight alternative. \n",
    "    Many developers found SOAP cumbersome and hard to use. \n",
    "    For example, working with SOAP in JavaScript means writing a ton of code to perform simple tasks because you must create the required XML structure every time."
   ]
  },
  {
   "cell_type": "markdown",
   "id": "0cdae47f-6ad0-4ce9-bf2e-9646bb8456e0",
   "metadata": {},
   "source": [
    "# Q5"
   ]
  },
  {
   "cell_type": "code",
   "execution_count": null,
   "id": "ce165bb1-9979-44a0-915b-1653268ee191",
   "metadata": {},
   "outputs": [],
   "source": [
    "\"\"\"\n",
    "Differentiate between REST and SOAP.\n",
    "\"\"\""
   ]
  },
  {
   "cell_type": "code",
   "execution_count": null,
   "id": "6fefa1c5-98b0-465d-98c2-9556abe70d98",
   "metadata": {},
   "outputs": [],
   "source": [
    "\"\"\"\n",
    "Many legacy systems may still adhere to SOAP, while REST came later and is often viewed as a faster alternative in web-based scenarios. \n",
    "REST is a set of guidelines that offers flexible implementation, whereas SOAP is a protocol with specific requirements like XML messaging.\n",
    "REST APIs are lightweight, making them ideal for newer contexts like the Internet of Things (IoT), mobile application development, and serverless computing. \n",
    "SOAP web services offer built-in security and transaction compliance that align with many enterprise needs, but that also makes them heavier. \n",
    "Additionally, many public APIs, like the Google Maps API, follow the REST guidelines.\n",
    "\"\"\""
   ]
  }
 ],
 "metadata": {
  "kernelspec": {
   "display_name": "Python 3 (ipykernel)",
   "language": "python",
   "name": "python3"
  },
  "language_info": {
   "codemirror_mode": {
    "name": "ipython",
    "version": 3
   },
   "file_extension": ".py",
   "mimetype": "text/x-python",
   "name": "python",
   "nbconvert_exporter": "python",
   "pygments_lexer": "ipython3",
   "version": "3.10.8"
  }
 },
 "nbformat": 4,
 "nbformat_minor": 5
}
