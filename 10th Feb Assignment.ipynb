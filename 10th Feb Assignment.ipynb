{
 "cells": [
  {
   "cell_type": "markdown",
   "id": "394adcd8-af15-4f92-960c-44514064b36c",
   "metadata": {},
   "source": [
    "# Q1"
   ]
  },
  {
   "cell_type": "code",
   "execution_count": 1,
   "id": "2509a54c-0ddb-4b31-93e1-c00236fd27be",
   "metadata": {},
   "outputs": [
    {
     "data": {
      "text/plain": [
       "'\\nWhich function is used to open a file? What are the different modes of opening a file? Explain each mode\\nof file opening.\\n'"
      ]
     },
     "execution_count": 1,
     "metadata": {},
     "output_type": "execute_result"
    }
   ],
   "source": [
    "\"\"\"\n",
    "Which function is used to open a file? What are the different modes of opening a file? Explain each mode\n",
    "of file opening.\n",
    "\"\"\""
   ]
  },
  {
   "cell_type": "code",
   "execution_count": 8,
   "id": "a8b62cf4-a011-491f-a472-fb4b2baeb69b",
   "metadata": {},
   "outputs": [],
   "source": [
    "# access the files in the writeable format. This will rewrite the entire file\n",
    "f = open('text.txt', 'w')\n",
    "# Access the file with edit access and append the values instead of replacing\n",
    "f = open('text.txt', 'wa')\n",
    "# Accesses the files in only readable format\n",
    "f = open('text.txt', 'r')\n",
    "# Writing binary data\n",
    "f = open('text.txt', 'wb')\n",
    "# Read binary data\n",
    "f = open('text.txt', 'rb')"
   ]
  },
  {
   "cell_type": "markdown",
   "id": "7c5adfdc-e1ac-4dbd-8941-b7454c52230d",
   "metadata": {},
   "source": [
    "# Q2"
   ]
  },
  {
   "cell_type": "code",
   "execution_count": null,
   "id": "a4922168-93ca-4589-868f-0d79960a28d6",
   "metadata": {},
   "outputs": [],
   "source": [
    "\"\"\"\n",
    "Why close() function is used? Why is it important to close a file?\n",
    "\"\"\""
   ]
  },
  {
   "cell_type": "code",
   "execution_count": 10,
   "id": "dcb8a4d6-3d12-4313-9398-08331a5740f7",
   "metadata": {},
   "outputs": [],
   "source": [
    "# Unless close function is called the read and write fuction will not be executed on the file\n",
    "f.close()"
   ]
  },
  {
   "cell_type": "markdown",
   "id": "1e15c0df-e747-4291-a383-2c4f78e1d562",
   "metadata": {},
   "source": [
    "# Q3"
   ]
  },
  {
   "cell_type": "code",
   "execution_count": null,
   "id": "956cf7d1-8cbe-44ef-bea4-b01c61cc4ed9",
   "metadata": {},
   "outputs": [],
   "source": [
    "\"\"\"\n",
    "Write a python program to create a text file. Write ‘I want to become a Data Scientist’ in that file. Then\n",
    "close the file. Open this file and read the content of the file.\n",
    "\"\"\""
   ]
  },
  {
   "cell_type": "code",
   "execution_count": 17,
   "id": "9c33ce16-ac30-4724-9d33-b86f679f6d7f",
   "metadata": {
    "tags": []
   },
   "outputs": [
    {
     "data": {
      "text/plain": [
       "'I want to become a Data Scientist'"
      ]
     },
     "execution_count": 17,
     "metadata": {},
     "output_type": "execute_result"
    }
   ],
   "source": [
    "f = open('text.txt','w')\n",
    "f.write('I want to become a Data Scientist')\n",
    "f.close()\n",
    "f = open('text.txt','r')\n",
    "f.read()"
   ]
  },
  {
   "cell_type": "markdown",
   "id": "4eb28024-eff4-4a03-94b5-08b6db515a27",
   "metadata": {},
   "source": [
    "# Q4"
   ]
  },
  {
   "cell_type": "code",
   "execution_count": 16,
   "id": "15151cfa-deaf-42a0-9de2-120cfeef1c6e",
   "metadata": {},
   "outputs": [
    {
     "data": {
      "text/plain": [
       "'\\nExplain the following with python code: read(), readline() and readlines().\\n'"
      ]
     },
     "execution_count": 16,
     "metadata": {},
     "output_type": "execute_result"
    }
   ],
   "source": [
    "'''\n",
    "Explain the following with python code: read(), readline() and readlines().\n",
    "'''"
   ]
  },
  {
   "cell_type": "code",
   "execution_count": null,
   "id": "2f83156f-5226-4dde-9e8e-70e199087774",
   "metadata": {},
   "outputs": [],
   "source": [
    "\"\"\"\n",
    "read() --> The read method reads the entire contents of a file and returns it as a string.\n",
    "readline() --> The readline method reads a single line from a file and returns it as a string.\n",
    "readlines() --> readlines method reads the entire contents of a file and returns it as a list of strings\n",
    "\"\"\""
   ]
  },
  {
   "cell_type": "markdown",
   "id": "3977aab8-9c99-4c66-b3fc-3b0ade2b1f12",
   "metadata": {},
   "source": [
    "# Q5"
   ]
  },
  {
   "cell_type": "code",
   "execution_count": 19,
   "id": "cf4eafa3-e090-4b69-92d5-0ab29424f5ab",
   "metadata": {},
   "outputs": [
    {
     "data": {
      "text/plain": [
       "'\\nExplain why with statement is used with open(). What is the advantage of using with statement and\\nopen() together?\\n'"
      ]
     },
     "execution_count": 19,
     "metadata": {},
     "output_type": "execute_result"
    }
   ],
   "source": [
    "\"\"\"\n",
    "Explain why with statement is used with open(). What is the advantage of using with statement and\n",
    "open() together?\n",
    "\"\"\""
   ]
  },
  {
   "cell_type": "code",
   "execution_count": 20,
   "id": "8907f035-a1ae-4cbc-beaf-4cd95dc9ab71",
   "metadata": {},
   "outputs": [
    {
     "data": {
      "text/plain": [
       "'\\nwith statement is used in exception handling to make the code cleaner and much more readable.\\nIt simplifies the management of common resources like file streams.\\n\\nThere is no need to call file.close() when using with statement.\\nThe with statement itself ensures proper acquisition and release of resources.\\n'"
      ]
     },
     "execution_count": 20,
     "metadata": {},
     "output_type": "execute_result"
    }
   ],
   "source": [
    "\"\"\"\n",
    "with statement is used in exception handling to make the code cleaner and much more readable.\n",
    "It simplifies the management of common resources like file streams.\n",
    "\n",
    "There is no need to call file.close() when using with statement.\n",
    "The with statement itself ensures proper acquisition and release of resources.\n",
    "\"\"\""
   ]
  },
  {
   "cell_type": "markdown",
   "id": "6462267d-eb0e-41ad-8181-ded2add134cd",
   "metadata": {},
   "source": [
    "# Q6"
   ]
  },
  {
   "cell_type": "code",
   "execution_count": null,
   "id": "f5548266-14f2-4abf-bf41-d35420e1f9bf",
   "metadata": {},
   "outputs": [],
   "source": [
    "\"\"\"\n",
    "Explain the write() and writelines() functions. Give a suitable example.\n",
    "\"\"\""
   ]
  },
  {
   "cell_type": "code",
   "execution_count": null,
   "id": "e466b42e-1d62-4909-bafc-113c469f4833",
   "metadata": {},
   "outputs": [],
   "source": [
    "\"\"\"\n",
    "The write() function will write the content in the file without adding any extra characters.\n",
    "\"\"\"\n",
    "file = open(\"Employees.txt\", \"w\")\n",
    "  \n",
    "for i in range(3):\n",
    "    name = input(\"Enter the name of the employee: \")\n",
    "    file.write(name)\n",
    "    file.write(\"\\n\")\n",
    "     \n",
    "file.close()\n",
    "\n",
    "\"\"\"\n",
    "writelines() function writes the content of a list to a file.\n",
    "\"\"\"\n",
    "file1 = open(\"Employees.txt\", \"w\")\n",
    "lst = []\n",
    "for i in range(3):\n",
    "    name = input(\"Enter the name of the employee: \")\n",
    "    lst.append(name + '\\n')\n",
    "      \n",
    "file1.writelines(lst)\n",
    "file1.close()"
   ]
  },
  {
   "cell_type": "code",
   "execution_count": null,
   "id": "ca7d489d-a9ca-4654-8ff1-7a6569c52968",
   "metadata": {},
   "outputs": [],
   "source": []
  }
 ],
 "metadata": {
  "kernelspec": {
   "display_name": "Python 3 (ipykernel)",
   "language": "python",
   "name": "python3"
  },
  "language_info": {
   "codemirror_mode": {
    "name": "ipython",
    "version": 3
   },
   "file_extension": ".py",
   "mimetype": "text/x-python",
   "name": "python",
   "nbconvert_exporter": "python",
   "pygments_lexer": "ipython3",
   "version": "3.10.8"
  }
 },
 "nbformat": 4,
 "nbformat_minor": 5
}
