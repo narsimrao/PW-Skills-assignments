{
 "cells": [
  {
   "cell_type": "markdown",
   "id": "712168f6-1c7e-4645-a6b0-57ed6ce12e78",
   "metadata": {},
   "source": [
    "# Problem 1"
   ]
  },
  {
   "cell_type": "code",
   "execution_count": 1,
   "id": "6fd23f0e-c1c4-4f15-a223-b5faf43a8249",
   "metadata": {},
   "outputs": [
    {
     "name": "stdin",
     "output_type": "stream",
     "text": [
      "enter the percentage:  74\n"
     ]
    },
    {
     "name": "stdout",
     "output_type": "stream",
     "text": [
      "Grade c\n"
     ]
    }
   ],
   "source": [
    "prcnt = int(input(\"enter the percentage: \"))\n",
    "\n",
    "if prcnt > 90:\n",
    "    print(\"Grade A\")\n",
    "elif prcnt > 80 and prcnt <= 90:\n",
    "    print(\"Grade B\")\n",
    "elif prcnt >= 60 and prcnt <= 80:\n",
    "    print(\"Grade c\")\n",
    "else:\n",
    "    print(\"Grade D\")"
   ]
  },
  {
   "cell_type": "markdown",
   "id": "4e1f7e8a-9d9a-478d-9337-4207ffaa6014",
   "metadata": {},
   "source": [
    "# Problem 2"
   ]
  },
  {
   "cell_type": "code",
   "execution_count": 5,
   "id": "4a8da178-428f-493c-98ca-07f567167830",
   "metadata": {},
   "outputs": [
    {
     "name": "stdin",
     "output_type": "stream",
     "text": [
      "Enter the cost price :  1255975\n"
     ]
    },
    {
     "name": "stdout",
     "output_type": "stream",
     "text": [
      "Tax 15%\n"
     ]
    }
   ],
   "source": [
    "cost_price = int(input(\"Enter the cost price : \"))\n",
    "\n",
    "if cost_price > 100000:\n",
    "    print(\"Tax 15%\")\n",
    "elif cost_price > 50000 and cost_price <= 100000:\n",
    "    print(\"Tax 10%\")\n",
    "elif cost_price <= 50000:\n",
    "    print(\"Tax 5%\")"
   ]
  },
  {
   "cell_type": "markdown",
   "id": "8fa5fad0-d2d8-407c-a81a-c97dde20e039",
   "metadata": {},
   "source": [
    "# Problem 3"
   ]
  },
  {
   "cell_type": "code",
   "execution_count": 6,
   "id": "e203ce55-65aa-4454-bf0a-f03cc0e318e6",
   "metadata": {},
   "outputs": [
    {
     "name": "stdin",
     "output_type": "stream",
     "text": [
      "Enter the city name :  Delhi\n"
     ]
    },
    {
     "name": "stdout",
     "output_type": "stream",
     "text": [
      "Red Fort\n"
     ]
    }
   ],
   "source": [
    "city_name = input(\"Enter the city name : \")\n",
    "\n",
    "if city_name == \"Delhi\":\n",
    "    print(\"Red Fort\")\n",
    "elif city_name == \"Agra\":\n",
    "    print(\"Taj Mahal\")\n",
    "elif city_name == \"Jaipur\":\n",
    "    print(\"Jal Mahal\")"
   ]
  },
  {
   "cell_type": "markdown",
   "id": "4784b969-74d2-4383-a2ed-cd7fc9fd6277",
   "metadata": {},
   "source": [
    "# Problem 4"
   ]
  },
  {
   "cell_type": "code",
   "execution_count": 17,
   "id": "0a774722-6be4-4c3b-b6c9-7dfcf1905cf6",
   "metadata": {},
   "outputs": [
    {
     "name": "stdin",
     "output_type": "stream",
     "text": [
      "Enter the value: 5555\n"
     ]
    },
    {
     "name": "stdout",
     "output_type": "stream",
     "text": [
      "The 5555 can be divided by 3 for 5 times before the less than or equal to 10\n"
     ]
    }
   ],
   "source": [
    "value = int(input(\"Enter the value:\"))\n",
    "\n",
    "val = value\n",
    "\n",
    "if val <= 10:\n",
    "    print(\"enter the value above 10\")\n",
    "else:\n",
    "    count = 0\n",
    "    while val > 10:\n",
    "        val = val/3\n",
    "        if val <= 10:\n",
    "            break\n",
    "        count += 1\n",
    "        \n",
    "        \n",
    "    print(\"The {} can be divided by 3 for {} times before the less than or equal to 10\".format(value,count))"
   ]
  },
  {
   "cell_type": "markdown",
   "id": "72f63039-e86d-4c90-aac8-42bb1352b793",
   "metadata": {},
   "source": [
    "# Question 5"
   ]
  },
  {
   "cell_type": "code",
   "execution_count": 18,
   "id": "e79c41a5-0b35-4902-91ec-abf0f2ff12ab",
   "metadata": {},
   "outputs": [
    {
     "name": "stdout",
     "output_type": "stream",
     "text": [
      "1\n",
      "2\n",
      "3\n",
      "4\n",
      "5\n"
     ]
    }
   ],
   "source": [
    "\"\"\"\n",
    "The while loop executes the statements within its body untils the conditions is true\n",
    "\n",
    "\n",
    "Example:\n",
    "\"\"\"\n",
    "i = 1\n",
    "n = 5\n",
    "\n",
    "while i <= n:\n",
    "    print(i)\n",
    "    i = i + 1\n"
   ]
  },
  {
   "cell_type": "markdown",
   "id": "65500a88-74a7-4a84-a7a0-0b56194ec535",
   "metadata": {},
   "source": [
    "# Problem 6"
   ]
  },
  {
   "cell_type": "code",
   "execution_count": 27,
   "id": "918466d3-c2aa-43a6-a1ac-036919f4b074",
   "metadata": {},
   "outputs": [
    {
     "name": "stdout",
     "output_type": "stream",
     "text": [
      "1  \n",
      "1 2  \n",
      "1 2 3  \n",
      "1 2 3 4  \n",
      "1 2 3 4 5  \n"
     ]
    }
   ],
   "source": [
    "i=1\n",
    "\n",
    "while i <= 5:\n",
    "    j = 1\n",
    "    while j <= i:\n",
    "        print(j, end=\" \")\n",
    "        j =j+ 1\n",
    "    print(\" \")\n",
    "    i =i+ 1"
   ]
  },
  {
   "cell_type": "code",
   "execution_count": 3,
   "id": "c60ba0e3-4015-4ecb-b5df-6eb243ec7d49",
   "metadata": {},
   "outputs": [
    {
     "name": "stdout",
     "output_type": "stream",
     "text": [
      "5 4 3 2 1  \n",
      "4 3 2 1  \n",
      "3 2 1  \n",
      "2 1  \n",
      "1  \n"
     ]
    }
   ],
   "source": [
    "i = 5\n",
    "\n",
    "while i > 0:\n",
    "    j = i\n",
    "    while j > 0:\n",
    "        print(j, end=\" \")\n",
    "        j = j - 1\n",
    "    print(\" \")\n",
    "    i = i - 1"
   ]
  },
  {
   "cell_type": "markdown",
   "id": "bcfac6d4-6ddc-4d7c-b6dd-965bc994e0ae",
   "metadata": {},
   "source": [
    "# Problem 7"
   ]
  },
  {
   "cell_type": "code",
   "execution_count": 4,
   "id": "2b46d9bc-1e09-4c2d-b102-5b645d10ba54",
   "metadata": {},
   "outputs": [
    {
     "name": "stdout",
     "output_type": "stream",
     "text": [
      "10\n",
      "9\n",
      "8\n",
      "7\n",
      "6\n",
      "5\n",
      "4\n",
      "3\n",
      "2\n",
      "1\n"
     ]
    }
   ],
   "source": [
    "i = 10\n",
    "\n",
    "while i > 0:\n",
    "    print(i,end=\"\\n\")\n",
    "    i = i - 1"
   ]
  },
  {
   "cell_type": "code",
   "execution_count": null,
   "id": "4617ce2b-5a91-44b9-b5ff-d693dad645df",
   "metadata": {},
   "outputs": [],
   "source": []
  },
  {
   "cell_type": "code",
   "execution_count": null,
   "id": "136806cf-525a-4846-aff1-45e7053c1f1c",
   "metadata": {},
   "outputs": [],
   "source": []
  },
  {
   "cell_type": "code",
   "execution_count": null,
   "id": "29e53085-ec4e-43f0-b1e7-d17ee621f736",
   "metadata": {},
   "outputs": [],
   "source": []
  },
  {
   "cell_type": "code",
   "execution_count": null,
   "id": "59930c47-9186-45f9-b921-b888cb834aff",
   "metadata": {},
   "outputs": [],
   "source": []
  },
  {
   "cell_type": "code",
   "execution_count": null,
   "id": "784dc065-8dba-434e-8b5c-896c0d382752",
   "metadata": {},
   "outputs": [],
   "source": []
  },
  {
   "cell_type": "code",
   "execution_count": null,
   "id": "e13db9b2-97f3-44e3-a98f-422534a8ca49",
   "metadata": {},
   "outputs": [],
   "source": []
  },
  {
   "cell_type": "code",
   "execution_count": null,
   "id": "d52f8d75-860f-484b-9134-4a5653d4bff1",
   "metadata": {},
   "outputs": [],
   "source": []
  }
 ],
 "metadata": {
  "kernelspec": {
   "display_name": "Python 3 (ipykernel)",
   "language": "python",
   "name": "python3"
  },
  "language_info": {
   "codemirror_mode": {
    "name": "ipython",
    "version": 3
   },
   "file_extension": ".py",
   "mimetype": "text/x-python",
   "name": "python",
   "nbconvert_exporter": "python",
   "pygments_lexer": "ipython3",
   "version": "3.10.8"
  }
 },
 "nbformat": 4,
 "nbformat_minor": 5
}
