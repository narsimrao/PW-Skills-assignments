{
 "cells": [
  {
   "cell_type": "markdown",
   "id": "16b0c3b6-2fee-43cd-a0a9-e6c335d7c747",
   "metadata": {},
   "source": [
    "# Q1"
   ]
  },
  {
   "cell_type": "code",
   "execution_count": 1,
   "id": "94b1e2a0-8aa0-473b-b1c3-9d01cd19c950",
   "metadata": {},
   "outputs": [
    {
     "data": {
      "text/plain": [
       "'\\nWhat is multiprocessing in python? Why is it useful?\\n'"
      ]
     },
     "execution_count": 1,
     "metadata": {},
     "output_type": "execute_result"
    }
   ],
   "source": [
    "\"\"\"\n",
    "What is multiprocessing in python? Why is it useful?\n",
    "\"\"\""
   ]
  },
  {
   "cell_type": "code",
   "execution_count": null,
   "id": "af0f25ae-60ea-47c0-9b17-e77efbaa50c1",
   "metadata": {},
   "outputs": [],
   "source": [
    "\"\"\"\n",
    "Multiprocessing in Python is a built-in package that allows the system to run multiple processes simultaneously. \n",
    "It will enable the breaking of applications into smaller threads that can run independently\n",
    "\"\"\""
   ]
  },
  {
   "cell_type": "markdown",
   "id": "6a14dbf6-41c3-49c1-be54-75a7aea1f42a",
   "metadata": {},
   "source": [
    "# Q2"
   ]
  },
  {
   "cell_type": "code",
   "execution_count": 2,
   "id": "b3b81215-9fd9-4ee8-99c9-564baf11b36e",
   "metadata": {},
   "outputs": [
    {
     "data": {
      "text/plain": [
       "'\\nWhat are the differences between multiprocessing and multithreading?\\n'"
      ]
     },
     "execution_count": 2,
     "metadata": {},
     "output_type": "execute_result"
    }
   ],
   "source": [
    "\"\"\"\n",
    "What are the differences between multiprocessing and multithreading?\n",
    "\"\"\""
   ]
  },
  {
   "cell_type": "code",
   "execution_count": null,
   "id": "80d393fd-2ecd-4985-ab5a-9acdb4442909",
   "metadata": {},
   "outputs": [],
   "source": [
    "\"\"\"\n",
    "Multiprocessing uses two or more CPUs to increase computing power, whereas multithreading \n",
    "uses a single process with multiple code segments to increase computing power.\n",
    "\"\"\""
   ]
  },
  {
   "cell_type": "markdown",
   "id": "0961ccef-8099-44d7-a5d5-ac5e5404eeb4",
   "metadata": {},
   "source": [
    "# Q3"
   ]
  },
  {
   "cell_type": "code",
   "execution_count": 3,
   "id": "21c75810-57ab-4aaf-9589-0e4c7e0dbd2c",
   "metadata": {},
   "outputs": [
    {
     "data": {
      "text/plain": [
       "'\\nWrite a python code to create a process using the multiprocessing module.\\n'"
      ]
     },
     "execution_count": 3,
     "metadata": {},
     "output_type": "execute_result"
    }
   ],
   "source": [
    "\"\"\"\n",
    "Write a python code to create a process using the multiprocessing module.\n",
    "\"\"\""
   ]
  },
  {
   "cell_type": "code",
   "execution_count": 5,
   "id": "f83d2bed-37cd-4880-8383-0366fc9dfa44",
   "metadata": {},
   "outputs": [
    {
     "name": "stdout",
     "output_type": "stream",
     "text": [
      "Square: 100\n",
      "Cube: 1000\n"
     ]
    }
   ],
   "source": [
    "# importing the multiprocessing module\n",
    "import multiprocessing\n",
    "\n",
    "def print_cube(num):\n",
    "\t\"\"\"\n",
    "\tfunction to print cube of given num\n",
    "\t\"\"\"\n",
    "\tprint(\"Cube: {}\".format(num * num * num))\n",
    "\n",
    "def print_square(num):\n",
    "\t\"\"\"\n",
    "\tfunction to print square of given num\n",
    "\t\"\"\"\n",
    "\tprint(\"Square: {}\".format(num * num))\n",
    "\n",
    "if __name__ == \"__main__\":\n",
    "\t# creating processes\n",
    "\tp1 = multiprocessing.Process(target=print_square, args=(10, ))\n",
    "\tp2 = multiprocessing.Process(target=print_cube, args=(10, ))\n",
    "\n",
    "\t# starting process 1\n",
    "\tp1.start()\n",
    "\t# starting process 2\n",
    "\tp2.start()\n",
    "\n",
    "\t# wait until process 1 is finished\n",
    "\tp1.join()\n",
    "\t# wait until process 2 is finished\n",
    "\tp2.join()"
   ]
  },
  {
   "cell_type": "markdown",
   "id": "b741cf22-ee34-4ee4-9975-14f1aab3cfed",
   "metadata": {},
   "source": [
    "# Q4"
   ]
  },
  {
   "cell_type": "code",
   "execution_count": 6,
   "id": "29ada76c-9399-4ad6-bc3e-211111756e6a",
   "metadata": {},
   "outputs": [
    {
     "data": {
      "text/plain": [
       "'\\nWhat is a multiprocessing pool in python? Why is it used?\\n'"
      ]
     },
     "execution_count": 6,
     "metadata": {},
     "output_type": "execute_result"
    }
   ],
   "source": [
    "\"\"\"\n",
    "What is a multiprocessing pool in python? Why is it used?\n",
    "\"\"\""
   ]
  },
  {
   "cell_type": "code",
   "execution_count": null,
   "id": "1ed2eea3-882a-47bb-914b-c0836ef72c2a",
   "metadata": {},
   "outputs": [],
   "source": [
    "\"\"\"\n",
    "multiprocessing Pool can be used for parallel execution of a function across multiple input values, \n",
    "distributing the input data across processes (data parallelism).\n",
    "\"\"\""
   ]
  },
  {
   "cell_type": "markdown",
   "id": "861cca85-da3c-4721-8217-eed1998fc6c1",
   "metadata": {},
   "source": [
    "# Q5"
   ]
  },
  {
   "cell_type": "code",
   "execution_count": 7,
   "id": "897f7925-b6f8-43b6-a3bf-df04daed6242",
   "metadata": {},
   "outputs": [
    {
     "data": {
      "text/plain": [
       "'\\nHow can we create a pool of worker processes in python using the multiprocessing module?\\n'"
      ]
     },
     "execution_count": 7,
     "metadata": {},
     "output_type": "execute_result"
    }
   ],
   "source": [
    "\"\"\"\n",
    "How can we create a pool of worker processes in python using the multiprocessing module?\n",
    "\"\"\""
   ]
  },
  {
   "cell_type": "code",
   "execution_count": 10,
   "id": "9a723b91-42f1-4118-af21-38652b75a9dd",
   "metadata": {},
   "outputs": [
    {
     "name": "stdout",
     "output_type": "stream",
     "text": [
      "start process:4start process:0start process:3start process:2start process:1\n",
      "\n",
      "\n",
      "\n",
      "\n",
      "square 1:1square 3:9square 2:4square 4:16square 0:0\n",
      "\n",
      "\n",
      "\n",
      "\n",
      "end process:1end process:3end process:2\n",
      "end process:0end process:4\n",
      "\n",
      "\n",
      "\n"
     ]
    }
   ],
   "source": [
    "import time\n",
    "from multiprocessing import Pool\n",
    "\n",
    "\n",
    "def square(x):\n",
    "    print(f\"start process:{x}\")\n",
    "    square = x * x\n",
    "    print(f\"square {x}:{square}\")\n",
    "    time.sleep(1)\n",
    "    print(f\"end process:{x}\")\n",
    "\n",
    "\n",
    "if __name__ == \"__main__\":\n",
    "    pool = Pool()\n",
    "    pool.map(square, range(0, 5))\n",
    "    pool.close()"
   ]
  },
  {
   "cell_type": "markdown",
   "id": "6f77b0cc-ac6b-4ec0-a0b1-391bb8009615",
   "metadata": {},
   "source": [
    "# Q6"
   ]
  },
  {
   "cell_type": "code",
   "execution_count": null,
   "id": "4ab44049-02f9-4e4e-9f65-19290048e253",
   "metadata": {},
   "outputs": [],
   "source": [
    "\"\"\"\n",
    "Write a python program to create 4 processes, each process should print a different number using the\n",
    "multiprocessing module in python.\n",
    "\"\"\""
   ]
  },
  {
   "cell_type": "code",
   "execution_count": 11,
   "id": "30d2c4d2-bd1d-438f-a4ef-c07aad82291b",
   "metadata": {},
   "outputs": [
    {
     "name": "stdout",
     "output_type": "stream",
     "text": [
      "1\n",
      "2\n",
      "3\n",
      "4\n"
     ]
    }
   ],
   "source": [
    "import multiprocessing\n",
    "\n",
    "def print_number(num):\n",
    "    print(num)\n",
    "\n",
    "if __name__ == '__main__':\n",
    "    processes = []\n",
    "    for i in range(1, 5):\n",
    "        p = multiprocessing.Process(target=print_number, args=(i,))\n",
    "        processes.append(p)\n",
    "        p.start()\n",
    "\n",
    "    for p in processes:\n",
    "        p.join()\n"
   ]
  },
  {
   "cell_type": "code",
   "execution_count": null,
   "id": "7b323737-9aa1-4428-a0ae-ccef94e2b46b",
   "metadata": {},
   "outputs": [],
   "source": []
  }
 ],
 "metadata": {
  "kernelspec": {
   "display_name": "Python 3 (ipykernel)",
   "language": "python",
   "name": "python3"
  },
  "language_info": {
   "codemirror_mode": {
    "name": "ipython",
    "version": 3
   },
   "file_extension": ".py",
   "mimetype": "text/x-python",
   "name": "python",
   "nbconvert_exporter": "python",
   "pygments_lexer": "ipython3",
   "version": "3.10.8"
  }
 },
 "nbformat": 4,
 "nbformat_minor": 5
}
