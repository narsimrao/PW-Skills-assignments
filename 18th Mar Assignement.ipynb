{
 "cells": [
  {
   "cell_type": "markdown",
   "id": "7edada25-0def-42e2-9dee-c0263117f2a7",
   "metadata": {},
   "source": [
    "# Q1"
   ]
  },
  {
   "cell_type": "code",
   "execution_count": null,
   "id": "edb690f3-95ef-4567-a5b2-94bc1a3282be",
   "metadata": {},
   "outputs": [],
   "source": [
    "\"\"\"\n",
    "What is the Filter method in feature selection, and how does it work?\n",
    "\"\"\""
   ]
  },
  {
   "cell_type": "code",
   "execution_count": null,
   "id": "3cd6ebcd-4e20-4072-9cdb-00da441dde66",
   "metadata": {},
   "outputs": [],
   "source": [
    "\"\"\"\n",
    "The Filter method in feature selection is a technique that selects a subset of features based on their intrinsic properties, such as statistical measures or similarity to the target variable. It involves evaluating each feature individually, without considering the interaction between features or the predictive model. Common statistical metrics used in the Filter method include correlation, mutual information, chi-square, and ANOVA. The Filter method ranks or scores each feature based on its relevance or importance, and then a predetermined threshold or a fixed number of top-ranked features are selected.\n",
    "\"\"\""
   ]
  },
  {
   "cell_type": "markdown",
   "id": "a00aae35-9a1a-4207-b6ed-5eb6cfaa7dad",
   "metadata": {},
   "source": [
    "# Q2"
   ]
  },
  {
   "cell_type": "code",
   "execution_count": null,
   "id": "8e64e7b3-da99-4b70-8442-e7a4557d7477",
   "metadata": {},
   "outputs": [],
   "source": [
    "\"\"\"\n",
    "How does the Wrapper method differ from the Filter method in feature selection?\n",
    "\"\"\""
   ]
  },
  {
   "cell_type": "code",
   "execution_count": null,
   "id": "d26bef1b-e47f-424b-bb75-aa1ceb09af5b",
   "metadata": {},
   "outputs": [],
   "source": [
    "\"\"\"\n",
    "The Wrapper method differs from the Filter method in that it evaluates subsets of features based on their impact on the performance of a specific machine learning model. Rather than considering individual feature characteristics, the Wrapper method uses a specific learning algorithm as a black box to evaluate different combinations of features and assess their effectiveness. It involves a search algorithm, such as forward selection, backward elimination, or recursive feature elimination, to iterate through different subsets of features and select the one that optimizes model performance.\n",
    "\"\"\""
   ]
  },
  {
   "cell_type": "markdown",
   "id": "e1cb8811-bdd1-403d-b68e-87bb1474487d",
   "metadata": {},
   "source": [
    "# Q3"
   ]
  },
  {
   "cell_type": "code",
   "execution_count": null,
   "id": "5b9ad405-bf98-4be9-ac85-414d92505d74",
   "metadata": {},
   "outputs": [],
   "source": [
    "\"\"\"\n",
    "What are some common techniques used in Embedded feature selection methods?\n",
    "\"\"\""
   ]
  },
  {
   "cell_type": "code",
   "execution_count": null,
   "id": "e412a8df-a743-4779-85be-2722375c009a",
   "metadata": {},
   "outputs": [],
   "source": [
    "\"\"\"\n",
    "Some common techniques used in Embedded feature selection methods include:\n",
    "\n",
    "Lasso (Least Absolute Shrinkage and Selection Operator): It applies L1 regularization to a linear regression model, encouraging sparsity in feature coefficients and automatically performing feature selection.\n",
    "Ridge Regression: It uses L2 regularization to prevent overfitting and can implicitly downweight less important features.\n",
    "Elastic Net: It combines L1 and L2 regularization to balance between feature selection and model complexity control.\n",
    "Random Forest: It uses feature importance scores derived from decision trees to assess the relevance of features.\n",
    "Recursive Feature Elimination with Cross-Validation (RFECV): It recursively selects features and performs cross-validation to estimate the optimal number of features.\n",
    "\"\"\""
   ]
  },
  {
   "cell_type": "markdown",
   "id": "86949c8f-b200-46da-b86d-dc771a130793",
   "metadata": {},
   "source": [
    "# Q4"
   ]
  },
  {
   "cell_type": "code",
   "execution_count": null,
   "id": "11b68ba4-ac62-4247-b3e5-609139ccad10",
   "metadata": {},
   "outputs": [],
   "source": [
    "\"\"\"\n",
    "What are some drawbacks of using the Filter method for feature selection?\n",
    "\"\"\""
   ]
  },
  {
   "cell_type": "code",
   "execution_count": null,
   "id": "e5440e84-a731-46f1-9676-628b3b062e4a",
   "metadata": {},
   "outputs": [],
   "source": [
    "\"\"\"\n",
    "Some drawbacks of using the Filter method for feature selection are:\n",
    "\n",
    "It considers features independently and does not account for feature interactions or dependencies.\n",
    "It may select redundant features that are highly correlated with each other, leading to increased model complexity.\n",
    "The selection of features is based solely on their intrinsic properties, which may not align with the performance of the chosen machine learning algorithm or the ultimate goal of the model.\n",
    "The Filter method is not adaptive to the learning algorithm and may not capture the full predictive power of the model.\n",
    "\"\"\""
   ]
  },
  {
   "cell_type": "markdown",
   "id": "b1bc74f5-3e00-42d3-a700-11680fa9e2ad",
   "metadata": {},
   "source": [
    "# Q5"
   ]
  },
  {
   "cell_type": "code",
   "execution_count": null,
   "id": "bdfc6c06-a32d-4513-9300-aff639ecdff1",
   "metadata": {},
   "outputs": [],
   "source": [
    "\"\"\"\n",
    "In which situations would you prefer using the Filter method over the Wrapper method for feature selection?\n",
    "\"\"\""
   ]
  },
  {
   "cell_type": "code",
   "execution_count": null,
   "id": "58174399-c5da-4e28-9df8-ee616a4a14cf",
   "metadata": {},
   "outputs": [],
   "source": [
    "\"\"\"\n",
    "The Filter method is preferred over the Wrapper method in situations where:\n",
    "\n",
    "There is a large number of features, and computational resources are limited. The Filter method is generally faster and less computationally expensive than the Wrapper method.\n",
    "There is a need for a quick initial feature screening or exploratory analysis.\n",
    "The goal is to identify potential correlations or dependencies between individual features and the target variable without considering interactions or combinations of features.\n",
    "\"\"\""
   ]
  },
  {
   "cell_type": "markdown",
   "id": "98bcb800-be96-42af-88a6-55dc1c7f736b",
   "metadata": {},
   "source": [
    "# Q6"
   ]
  },
  {
   "cell_type": "code",
   "execution_count": null,
   "id": "58d5dcb8-025a-4990-b08a-8033d406ad0d",
   "metadata": {},
   "outputs": [],
   "source": [
    "\"\"\"\n",
    "In a telecom company, you are working on a project to develop a predictive model for customer churn. You are unsure of which features to include in the model because the dataset contains several different ones. Describe how you would choose the most pertinent attributes for the model using the Filter Method.\n",
    "\"\"\""
   ]
  },
  {
   "cell_type": "code",
   "execution_count": null,
   "id": "9796ccd2-b3c2-44d8-a8f1-82c3db0a6efc",
   "metadata": {},
   "outputs": [],
   "source": [
    "\"\"\"\n",
    "To choose the most pertinent attributes for the customer churn predictive model using the Filter method, you would:\n",
    "\n",
    "Calculate the correlation between each feature and the target variable (churn).\n",
    "Rank the features based on their correlation coefficient or another relevant statistical metric.\n",
    "Set a threshold or select the top-ranked features based on their relevance to the target variable.\n",
    "Include the selected features in the model development process, such as training a machine learning algorithm using only those features.\n",
    "\"\"\""
   ]
  },
  {
   "cell_type": "markdown",
   "id": "d96e6dd0-7585-4815-b7a4-51da73b90443",
   "metadata": {},
   "source": [
    "# Q7"
   ]
  },
  {
   "cell_type": "code",
   "execution_count": null,
   "id": "93a42e34-0c50-46a9-b118-92585c602039",
   "metadata": {},
   "outputs": [],
   "source": [
    "\"\"\"\n",
    "You are working on a project to predict the outcome of a soccer match. You have a large dataset with many features, including player statistics and team rankings. Explain how you would use the Embedded method to select the most relevant features for the model.\n",
    "\"\"\""
   ]
  },
  {
   "cell_type": "code",
   "execution_count": null,
   "id": "f500979e-4141-4459-8efb-06b324132793",
   "metadata": {},
   "outputs": [],
   "source": [
    "\"\"\"\n",
    "To use the Embedded method for selecting the most relevant features for predicting the outcome of a soccer match, you would:\n",
    "\n",
    "Choose a machine learning algorithm that supports built-in feature selection or feature importance estimation, such as a random forest or gradient boosting algorithm.\n",
    "Train the model on the soccer match dataset, including all the features.\n",
    "Assess the importance or contribution of each feature using the algorithm's built-in feature importance metric.\n",
    "Select the most important features based on their importance scores or a predetermined threshold.\n",
    "Retrain the model using only the selected features and evaluate its performance.\n",
    "\"\"\""
   ]
  },
  {
   "cell_type": "markdown",
   "id": "2e0a1b9d-482f-4b3d-92bb-36ebeeee4dcd",
   "metadata": {},
   "source": [
    "# Q8"
   ]
  },
  {
   "cell_type": "code",
   "execution_count": null,
   "id": "1d67000a-ed0c-44d1-bbaa-b9ceb39e558a",
   "metadata": {},
   "outputs": [],
   "source": [
    "\"\"\"\n",
    "You are working on a project to predict the price of a house based on its features, such as size, location, and age. You have a limited number of features, and you want to ensure that you select the most important ones for the model. Explain how you would use the Wrapper method to select the best set of features for the predictor.\n",
    "\"\"\""
   ]
  },
  {
   "cell_type": "code",
   "execution_count": null,
   "id": "44b41c37-7d7a-4c96-a4ab-ed0b48e33b2c",
   "metadata": {},
   "outputs": [],
   "source": [
    "\"\"\"\n",
    "To use the Wrapper method for selecting the best set of features for predicting the price of a house, you would:\n",
    "\n",
    "Start with a subset of features and train a machine learning model using this subset.\n",
    "Evaluate the performance of the model using a suitable metric, such as mean squared error (MSE) or R-squared.\n",
    "Iterate through different combinations of features by adding or removing features from the subset.\n",
    "Select the combination of features that yields the best model performance based on the chosen metric.\n",
    "Retrain the model using only the selected features and evaluate its performance. Repeat this process until an optimal set of features is obtained.\n",
    "\"\"\""
   ]
  }
 ],
 "metadata": {
  "kernelspec": {
   "display_name": "Python 3 (ipykernel)",
   "language": "python",
   "name": "python3"
  },
  "language_info": {
   "codemirror_mode": {
    "name": "ipython",
    "version": 3
   },
   "file_extension": ".py",
   "mimetype": "text/x-python",
   "name": "python",
   "nbconvert_exporter": "python",
   "pygments_lexer": "ipython3",
   "version": "3.10.8"
  }
 },
 "nbformat": 4,
 "nbformat_minor": 5
}
