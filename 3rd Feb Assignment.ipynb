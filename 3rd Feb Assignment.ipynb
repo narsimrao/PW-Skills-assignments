{
 "cells": [
  {
   "cell_type": "markdown",
   "id": "cdb3344a-f1f6-4694-900a-05ce1e4d4a01",
   "metadata": {},
   "source": [
    "# Q1"
   ]
  },
  {
   "cell_type": "code",
   "execution_count": 5,
   "id": "ebf7c854-31d0-4c1a-bd0b-7fe520872ea1",
   "metadata": {},
   "outputs": [
    {
     "name": "stdout",
     "output_type": "stream",
     "text": [
      "[1, 3, 5, 7, 9, 11, 13, 15, 17, 19, 21, 23]\n"
     ]
    }
   ],
   "source": [
    "\"\"\"Which keyword is used to create a function? Create a function to return a list of odd numbers in the\n",
    "range of 1 to 25.\"\"\"\n",
    "\n",
    "\n",
    "\"\"\"\n",
    "def Keyword is used to create a function.\n",
    "\"\"\"\n",
    "\n",
    "#functions returns odd numbers from range of 1 to 25\n",
    "def odd_numbers(n):\n",
    "    odd_numbers = []\n",
    "    for i in range(1,n):\n",
    "        if(i%2==1):\n",
    "            odd_numbers.append(i)\n",
    "    return odd_numbers\n",
    "\n",
    "print(odd_numbers(25))\n",
    "        "
   ]
  },
  {
   "cell_type": "markdown",
   "id": "1d60322c-3cfa-4d43-b564-b8032524e8ac",
   "metadata": {},
   "source": [
    "# Q2"
   ]
  },
  {
   "cell_type": "code",
   "execution_count": 8,
   "id": "bc640110-b6b1-4b55-ba44-3def953810f4",
   "metadata": {},
   "outputs": [
    {
     "name": "stdout",
     "output_type": "stream",
     "text": [
      "((5, 3, 4, 6, 'pw'), {'a': 1, 'b': 'python', 'c': [1, 2, 3, 4]})\n"
     ]
    }
   ],
   "source": [
    "\"\"\"\n",
    "Why *args and **kwargs is used in some functions? Create a function each for *args and **kwargs to\n",
    "demonstrate their use.\n",
    "\"\"\"\n",
    "\n",
    "\"\"\"\n",
    "*args is used to pass a infinite values to the function using a single parameter. These values can be of any datatype\n",
    "**kwargs is uesd to pass a infinte data as key value pairs using this argument in the funstion parameter. This argument\n",
    "accepts data only in key value pairs\n",
    "\"\"\"\n",
    "\n",
    "#example od *args and **kwargs\n",
    "\n",
    "def argument_function(*args, **kwargs):\n",
    "    return(args,kwargs)\n",
    "\n",
    "\n",
    "print(argument_function(5,3,4,6,\"pw\",a=1,b=\"python\",c=[1,2,3,4]))\n"
   ]
  },
  {
   "cell_type": "markdown",
   "id": "8d59ad52-6d07-4f65-802d-913ee904307c",
   "metadata": {},
   "source": [
    "# Q3"
   ]
  },
  {
   "cell_type": "code",
   "execution_count": 9,
   "id": "e41ab914-3b00-4e5c-a050-679ff2622a88",
   "metadata": {},
   "outputs": [
    {
     "name": "stdout",
     "output_type": "stream",
     "text": [
      "2\n",
      "4\n",
      "6\n",
      "8\n",
      "10\n"
     ]
    }
   ],
   "source": [
    "\"\"\"\n",
    "What is an iterator in python? Name the method used to initialise the iterator object and the method\n",
    "used for iteration. Use these methods to print the first five elements of the given list [2, 4, 6, 8, 10, 12, 14, 16,\n",
    "18, 20].\n",
    "\"\"\"\n",
    "\n",
    "\"\"\"\n",
    "Iterator is a object in a python that is used to iter over iteratable datatypes like tuple, list,set, dictionary.\n",
    "iter() is used to initialize the iteration. next() is used for iteration\n",
    "\"\"\"\n",
    "lst = [2, 4, 6, 8, 10, 12, 14, 16, 18, 20]\n",
    "\n",
    "lst_iterator = iter(lst)\n",
    "\n",
    "for i in range(0,5):\n",
    "    print(next(lst_iterator))\n"
   ]
  },
  {
   "cell_type": "markdown",
   "id": "6ab90c66-cd85-4430-a103-ceab2ca834c7",
   "metadata": {},
   "source": [
    "# Q4"
   ]
  },
  {
   "cell_type": "code",
   "execution_count": 1,
   "id": "339f91a3-b89e-4304-9c66-95162a8ef517",
   "metadata": {},
   "outputs": [
    {
     "name": "stdout",
     "output_type": "stream",
     "text": [
      "0\n",
      "1\n",
      "2\n",
      "3\n",
      "4\n",
      "5\n",
      "6\n",
      "7\n",
      "8\n",
      "9\n"
     ]
    }
   ],
   "source": [
    "\"\"\"\n",
    "What is a generator function in python? Why yield keyword is used? Give an example of a generator\n",
    "function.\n",
    "\"\"\"\n",
    "\n",
    "\"\"\"\n",
    "a generator is a function that returns an iterator that produces a sequence of values when iterated over\n",
    "yield keyword is used to create a generator function\n",
    "\n",
    "\"\"\"\n",
    "# example of generator function\n",
    "def gen_func(x):\n",
    "    for i in range(x):\n",
    "        yield i\n",
    "        \n",
    "for i in gen_func(10):\n",
    "    print(i)"
   ]
  },
  {
   "cell_type": "code",
   "execution_count": 5,
   "id": "48b0a9ed-3864-4e78-8641-7063e15e4f10",
   "metadata": {},
   "outputs": [],
   "source": [
    "\"\"\"\n",
    "Create a generator function for prime numbers less than 1000. Use the next() method to print the\n",
    "first 20 prime numbers.\n",
    "\"\"\"\n",
    "def gen_prime_func(n):\n",
    "    for number in range (1, n):  \n",
    "        if number > 1:  \n",
    "            for i in range (2, number):  \n",
    "                if (number % i) == 0:  \n",
    "                    break  \n",
    "            else:  \n",
    "                # print (number) \n",
    "                yield number"
   ]
  },
  {
   "cell_type": "code",
   "execution_count": 6,
   "id": "1ceffb3e-d163-427a-84a2-2ee437a7ca48",
   "metadata": {},
   "outputs": [
    {
     "name": "stdout",
     "output_type": "stream",
     "text": [
      "2\n",
      "3\n",
      "5\n",
      "7\n",
      "11\n",
      "13\n",
      "17\n",
      "19\n",
      "23\n",
      "29\n",
      "31\n",
      "37\n",
      "41\n",
      "43\n",
      "47\n",
      "53\n",
      "59\n",
      "61\n",
      "67\n",
      "71\n",
      "73\n",
      "79\n",
      "83\n",
      "89\n",
      "97\n",
      "101\n",
      "103\n",
      "107\n",
      "109\n",
      "113\n",
      "127\n",
      "131\n",
      "137\n",
      "139\n",
      "149\n",
      "151\n",
      "157\n",
      "163\n",
      "167\n",
      "173\n",
      "179\n",
      "181\n",
      "191\n",
      "193\n",
      "197\n",
      "199\n",
      "211\n",
      "223\n",
      "227\n",
      "229\n",
      "233\n",
      "239\n",
      "241\n",
      "251\n",
      "257\n",
      "263\n",
      "269\n",
      "271\n",
      "277\n",
      "281\n",
      "283\n",
      "293\n",
      "307\n",
      "311\n",
      "313\n",
      "317\n",
      "331\n",
      "337\n",
      "347\n",
      "349\n",
      "353\n",
      "359\n",
      "367\n",
      "373\n",
      "379\n",
      "383\n",
      "389\n",
      "397\n",
      "401\n",
      "409\n",
      "419\n",
      "421\n",
      "431\n",
      "433\n",
      "439\n",
      "443\n",
      "449\n",
      "457\n",
      "461\n",
      "463\n",
      "467\n",
      "479\n",
      "487\n",
      "491\n",
      "499\n",
      "503\n",
      "509\n",
      "521\n",
      "523\n",
      "541\n",
      "547\n",
      "557\n",
      "563\n",
      "569\n",
      "571\n",
      "577\n",
      "587\n",
      "593\n",
      "599\n",
      "601\n",
      "607\n",
      "613\n",
      "617\n",
      "619\n",
      "631\n",
      "641\n",
      "643\n",
      "647\n",
      "653\n",
      "659\n",
      "661\n",
      "673\n",
      "677\n",
      "683\n",
      "691\n",
      "701\n",
      "709\n",
      "719\n",
      "727\n",
      "733\n",
      "739\n",
      "743\n",
      "751\n",
      "757\n",
      "761\n",
      "769\n",
      "773\n",
      "787\n",
      "797\n",
      "809\n",
      "811\n",
      "821\n",
      "823\n",
      "827\n",
      "829\n",
      "839\n",
      "853\n",
      "857\n",
      "859\n",
      "863\n",
      "877\n",
      "881\n",
      "883\n",
      "887\n",
      "907\n",
      "911\n",
      "919\n",
      "929\n",
      "937\n",
      "941\n",
      "947\n",
      "953\n",
      "967\n",
      "971\n",
      "977\n",
      "983\n",
      "991\n",
      "997\n"
     ]
    }
   ],
   "source": [
    "for i in gen_prime_func(1000):\n",
    "    print(i)"
   ]
  },
  {
   "cell_type": "code",
   "execution_count": null,
   "id": "e5ec9e9b-47a1-4c81-82f8-27a6cf555541",
   "metadata": {},
   "outputs": [],
   "source": []
  }
 ],
 "metadata": {
  "kernelspec": {
   "display_name": "Python 3 (ipykernel)",
   "language": "python",
   "name": "python3"
  },
  "language_info": {
   "codemirror_mode": {
    "name": "ipython",
    "version": 3
   },
   "file_extension": ".py",
   "mimetype": "text/x-python",
   "name": "python",
   "nbconvert_exporter": "python",
   "pygments_lexer": "ipython3",
   "version": "3.10.8"
  }
 },
 "nbformat": 4,
 "nbformat_minor": 5
}
