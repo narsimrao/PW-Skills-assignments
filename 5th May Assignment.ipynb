{
 "cells": [
  {
   "cell_type": "markdown",
   "id": "01afaa0c-ad80-4535-b040-3f94b028031b",
   "metadata": {},
   "source": [
    "# Q1"
   ]
  },
  {
   "cell_type": "code",
   "execution_count": null,
   "id": "ca5c0f88-9284-490e-8e8c-cccde3213f76",
   "metadata": {},
   "outputs": [],
   "source": [
    "\"\"\"\n",
    "What is meant by time-dependent seasonal components?\n",
    "\"\"\""
   ]
  },
  {
   "cell_type": "code",
   "execution_count": null,
   "id": "eeb6bee3-44fa-4b65-8261-06146329003e",
   "metadata": {},
   "outputs": [],
   "source": [
    "\"\"\"\n",
    "Time-dependent seasonal components refer to seasonal patterns in a time series that change over time. Unlike traditional seasonal patterns, which repeat at fixed intervals, time-dependent seasonal components have varying amplitude or shape at different points in time. These variations can occur due to external factors, changes in consumer behavior, or shifts in market dynamics.\n",
    "\"\"\""
   ]
  },
  {
   "cell_type": "markdown",
   "id": "72d3a000-62ca-4227-bd22-4da28893e530",
   "metadata": {},
   "source": [
    "# Q2"
   ]
  },
  {
   "cell_type": "code",
   "execution_count": null,
   "id": "af26ef8f-8bfb-4ceb-b25c-0e9e6dba83ed",
   "metadata": {},
   "outputs": [],
   "source": [
    "\"\"\"\n",
    "How can time-dependent seasonal components be identified in time series data?\n",
    "\"\"\""
   ]
  },
  {
   "cell_type": "code",
   "execution_count": null,
   "id": "8c97ba2f-0edf-4ba4-9055-d360623b1589",
   "metadata": {},
   "outputs": [],
   "source": [
    "\"\"\"\n",
    "Identifying time-dependent seasonal components requires advanced time series analysis techniques. Some common methods to identify time-dependent seasonality include:\n",
    "\n",
    "Decomposition: Using time series decomposition techniques like STL (Seasonal and Trend decomposition using Loess) or EMD (Empirical Mode Decomposition) to separate the time series into trend, seasonal, and residual components. This approach can help identify any time-varying patterns in the seasonal component.\n",
    "Rolling Window Analysis: Analyzing seasonal patterns over rolling windows of the time series data to identify changes in seasonal behavior over time.\n",
    "Seasonal Autoregressive Integrated Moving Average (SARIMA): Using a specialized version of the ARIMA model that incorporates seasonal components to capture time-varying seasonality.\n",
    "\"\"\""
   ]
  },
  {
   "cell_type": "markdown",
   "id": "20f4b579-0324-4a44-9198-94913cd34e49",
   "metadata": {},
   "source": [
    "# Q3"
   ]
  },
  {
   "cell_type": "code",
   "execution_count": null,
   "id": "369f455f-8891-4215-b9b0-00bbd263305c",
   "metadata": {},
   "outputs": [],
   "source": [
    "\"\"\"\n",
    "What are the factors that can influence time-dependent seasonal components?\n",
    "\"\"\""
   ]
  },
  {
   "cell_type": "code",
   "execution_count": null,
   "id": "4be99ae5-f381-4139-a4b0-3994e719547c",
   "metadata": {},
   "outputs": [],
   "source": [
    "\"\"\"\n",
    "Several factors can influence time-dependent seasonal components, including:\n",
    "\n",
    "External Events: Seasonal patterns may change due to external events such as holidays, weather changes, or economic shifts.\n",
    "Consumer Preferences: Changes in consumer preferences or behavior can lead to variations in seasonal patterns.\n",
    "Market Dynamics: Shifts in market conditions or competition can impact seasonal behavior.\n",
    "Technological Advancements: Advancements in technology or new product introductions can influence seasonal patterns.\n",
    "\"\"\""
   ]
  },
  {
   "cell_type": "markdown",
   "id": "3bbd2560-5341-4091-b17d-df685793aa23",
   "metadata": {},
   "source": [
    "# Q4"
   ]
  },
  {
   "cell_type": "code",
   "execution_count": null,
   "id": "5144ea98-ce4b-42ae-be45-67c3962927b2",
   "metadata": {},
   "outputs": [],
   "source": [
    "\"\"\"\n",
    "How are autoregression models used in time series analysis and forecasting?\n",
    "\"\"\""
   ]
  },
  {
   "cell_type": "code",
   "execution_count": null,
   "id": "ab71feb1-635e-49cb-9f04-08b452348b06",
   "metadata": {},
   "outputs": [],
   "source": [
    "\"\"\"\n",
    "Autoregression models, specifically ARIMA (Autoregressive Integrated Moving Average) models, are widely used in time series analysis and forecasting. ARIMA models capture the relationship between the time series and its past values (autoregressive component) as well as the relationship between the time series and its past forecast errors (moving average component). They are effective for stationary time series data and can be used to forecast future values based on historical patterns.\n",
    "\"\"\""
   ]
  },
  {
   "cell_type": "markdown",
   "id": "d0369afd-6dbe-439f-9ede-33a4b6b53960",
   "metadata": {},
   "source": [
    "# Q5"
   ]
  },
  {
   "cell_type": "code",
   "execution_count": null,
   "id": "2b328b0d-67b1-4b7d-b4da-dc8f79e8763c",
   "metadata": {},
   "outputs": [],
   "source": [
    "\"\"\"\n",
    "How do you use autoregression models to make predictions for future time points?\n",
    "\"\"\""
   ]
  },
  {
   "cell_type": "code",
   "execution_count": null,
   "id": "f3a02c5e-6f67-4555-9fa1-2cd1eeaea0c8",
   "metadata": {},
   "outputs": [],
   "source": [
    "\"\"\"\n",
    "To use an autoregression model, such as an ARIMA model, for predicting future time points, you follow these steps:\n",
    "\n",
    "Train the Model: Fit the ARIMA model to the historical time series data to estimate the model parameters (p, d, q) through methods like maximum likelihood estimation.\n",
    "Forecasting: Once the model is trained, use it to forecast future values by providing the past observed values as input. The model will use the autoregressive and moving average coefficients to generate forecasts.\n",
    "Evaluate Forecast Accuracy: Evaluate the accuracy of the forecasts using metrics such as Mean Absolute Error (MAE), Mean Squared Error (MSE), or Root Mean Squared Error (RMSE) on a holdout test dataset.\n",
    "\"\"\""
   ]
  },
  {
   "cell_type": "markdown",
   "id": "122f14dd-ce30-415f-8e92-21336ca0ef66",
   "metadata": {},
   "source": [
    "# Q6"
   ]
  },
  {
   "cell_type": "code",
   "execution_count": null,
   "id": "96d29c61-2ed8-42ff-8f48-866a38e0a5d9",
   "metadata": {},
   "outputs": [],
   "source": [
    "\"\"\"\n",
    "What is a moving average (MA) model and how does it differ from other time series models?\n",
    "\"\"\""
   ]
  },
  {
   "cell_type": "code",
   "execution_count": null,
   "id": "2e0f6ba9-1ca1-4f04-b48f-9e4c9149a05b",
   "metadata": {},
   "outputs": [],
   "source": [
    "\"\"\"\n",
    "A moving average (MA) model is a component of the ARIMA model that represents the moving average relationship between the time series and its past forecast errors. It models the random shocks or noise in the data. An MA(q) model uses q lagged forecast errors as predictors to forecast future values. Unlike the autoregressive component in an AR model that uses past values of the time series, the MA model relies on past errors.\n",
    "\n",
    "The main difference between MA models and other time series models like AR (Autoregressive) or ARIMA is the type of relationship they capture. AR models capture the autoregressive relationship between the time series and its past values, while MA models capture the moving average relationship between the time series and its past forecast errors. ARIMA models combine both autoregressive and moving average components along with differencing to handle non-stationarity.\n",
    "\"\"\""
   ]
  },
  {
   "cell_type": "markdown",
   "id": "72832333-a990-4cff-81a0-aa0bbbc86847",
   "metadata": {},
   "source": [
    "# Q7"
   ]
  },
  {
   "cell_type": "code",
   "execution_count": null,
   "id": "c8b4df96-eddd-42cc-8de0-5643113642fd",
   "metadata": {},
   "outputs": [],
   "source": [
    "\"\"\"\n",
    "What is a mixed ARMA model and how does it differ from an AR or MA model?\n",
    "\"\"\""
   ]
  },
  {
   "cell_type": "code",
   "execution_count": null,
   "id": "74e6d827-99bd-4bfa-91e1-94fca9fda5c1",
   "metadata": {},
   "outputs": [],
   "source": [
    "\"\"\"\n",
    "A mixed ARMA (Autoregressive Moving Average) model, also known as ARIMA (Autoregressive Integrated Moving Average) model, combines both autoregressive and moving average components. Unlike simple AR or MA models, which capture either the autoregressive or moving average relationship, the ARMA model captures both relationships.\n",
    "\n",
    "The ARMA model is represented as ARMA(p, q), where:\n",
    "\n",
    "p: The order of the autoregressive component (number of past values used as predictors).\n",
    "q: The order of the moving average component (number of past forecast errors used as predictors).\n",
    "ARMA models are suitable for stationary time series data and are often used for forecasting. ARIMA models, which include differencing to handle non-stationarity, extend the ARMA model to handle a wider range of time series patterns.\n",
    "\"\"\""
   ]
  }
 ],
 "metadata": {
  "kernelspec": {
   "display_name": "Python 3 (ipykernel)",
   "language": "python",
   "name": "python3"
  },
  "language_info": {
   "codemirror_mode": {
    "name": "ipython",
    "version": 3
   },
   "file_extension": ".py",
   "mimetype": "text/x-python",
   "name": "python",
   "nbconvert_exporter": "python",
   "pygments_lexer": "ipython3",
   "version": "3.10.8"
  }
 },
 "nbformat": 4,
 "nbformat_minor": 5
}
