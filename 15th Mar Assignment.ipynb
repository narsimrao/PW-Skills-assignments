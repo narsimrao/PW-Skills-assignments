{
 "cells": [
  {
   "cell_type": "markdown",
   "id": "e85aa57c-8b4d-4169-a012-e3734e19c2aa",
   "metadata": {},
   "source": [
    "# Q1"
   ]
  },
  {
   "cell_type": "code",
   "execution_count": null,
   "id": "96a5c697-6329-40ee-b4f4-ba5ef53d2948",
   "metadata": {},
   "outputs": [],
   "source": [
    "\"\"\"\n",
    "Explain the following with an example\n",
    "1) Artificial Intelligence\n",
    "2) Machine Learning\n",
    "3) Deep Learning\n",
    "\"\"\""
   ]
  },
  {
   "cell_type": "code",
   "execution_count": null,
   "id": "91ea84c4-26ee-402d-a0e6-a1396adf7a78",
   "metadata": {},
   "outputs": [],
   "source": [
    "\"\"\"\n",
    "1) Artificial Intelligence (AI):\n",
    "AI refers to the development of computer systems that can perform tasks requiring human intelligence. \n",
    "Example: Self-driving cars that can navigate roads, detect obstacles, and make decisions based on real-time data.\n",
    "\n",
    "2) Machine Learning (ML):\n",
    "ML involves training machines to learn from data and make predictions or decisions without explicit programming. \n",
    "Example: Recommendation systems on streaming platforms that suggest movies or shows based on a user's viewing history and preferences.\n",
    "\n",
    "3) Deep Learning (DL):\n",
    "Deep Learning focuses on training deep neural networks to extract complex representations from data. \n",
    "Example: Voice assistants like Google Assistant or Amazon Echo that can understand and respond to natural language queries by processing speech and recognizing patterns in the data.\n",
    "\"\"\""
   ]
  },
  {
   "cell_type": "markdown",
   "id": "ed590701-3dd9-42bd-8064-9f63191e106f",
   "metadata": {},
   "source": [
    "# Q2"
   ]
  },
  {
   "cell_type": "code",
   "execution_count": null,
   "id": "4bd26478-da99-4a6e-aee5-3d4b679e5e37",
   "metadata": {},
   "outputs": [],
   "source": [
    "\"\"\"\n",
    "What is supervised learning? List some examples of supervised learning.\n",
    "\"\"\""
   ]
  },
  {
   "cell_type": "code",
   "execution_count": null,
   "id": "9140c37d-0d6f-4ec6-9568-cc436e73f0cc",
   "metadata": {},
   "outputs": [],
   "source": [
    "\"\"\"\n",
    "Supervised learning is a type of machine learning where an algorithm learns from labeled training data to make predictions or classify new, unseen data.\n",
    "\n",
    "Examples of supervised learning algorithms:\n",
    "\n",
    "1) Linear Regression: Predicting the price of a house based on its size.\n",
    "2) Logistic Regression: Classifying emails as spam or non-spam based on their content.\n",
    "3) Support Vector Machines (SVM): Identifying whether a customer will churn or not based on their usage patterns.\n",
    "4) Decision Trees: Predicting whether a loan applicant will default based on their credit score.\n",
    "5) Random Forest: Classifying images as cats or dogs based on labeled training images.\n",
    "6) Naive Bayes: Categorizing news articles into topics like sports or politics based on their words.\n",
    "7) Neural Networks: Recognizing handwritten digits by training on labeled images.\n",
    "\"\"\""
   ]
  },
  {
   "cell_type": "markdown",
   "id": "aaa256fc-2187-4e51-a0c5-3811c719dc17",
   "metadata": {},
   "source": [
    "# Q3"
   ]
  },
  {
   "cell_type": "code",
   "execution_count": null,
   "id": "dad0af5e-a659-4d75-a05d-3afc2f6626c9",
   "metadata": {},
   "outputs": [],
   "source": [
    "\"\"\"\n",
    "What is unsupervised learning? List some examples of unsupervised learning.\n",
    "\"\"\""
   ]
  },
  {
   "cell_type": "code",
   "execution_count": null,
   "id": "45ba8d4f-3188-4969-91d2-1645b7add61d",
   "metadata": {},
   "outputs": [],
   "source": [
    "\"\"\"\n",
    "Unsupervised learning is a type of machine learning where the algorithm learns patterns and structures from unlabeled data.\n",
    "\n",
    "Examples of unsupervised learning algorithms:\n",
    "\n",
    "1) Clustering: Grouping similar customer profiles based on purchasing behavior.\n",
    "2) Dimensionality Reduction: Reducing the number of variables to visualize data in a lower-dimensional space.\n",
    "3) Anomaly Detection: Identifying fraudulent transactions in a dataset.\n",
    "4) Association Rule Learning: Discovering relationships between items frequently purchased together.\n",
    "5) Generative Models: Creating realistic images or generating new data instances.\n",
    "6) Reinforcement Learning: An agent learning to maximize rewards in an environment without explicit guidance.\n",
    "\n",
    "These algorithms help uncover hidden patterns and structures in data without relying on pre-labeled information.\n",
    "\"\"\""
   ]
  },
  {
   "cell_type": "markdown",
   "id": "ca7d8ffc-eb7a-4403-a637-fb0d330ad8bc",
   "metadata": {},
   "source": [
    "# Q4"
   ]
  },
  {
   "cell_type": "code",
   "execution_count": null,
   "id": "2cbbe9bb-783d-47b0-91dc-165259edf219",
   "metadata": {},
   "outputs": [],
   "source": [
    "\"\"\"\n",
    "What is the difference between AI, ML, DL, and DS?\n",
    "\"\"\""
   ]
  },
  {
   "cell_type": "code",
   "execution_count": null,
   "id": "888980fd-5e25-4c5b-b1bb-a40f052274ab",
   "metadata": {},
   "outputs": [],
   "source": [
    "\"\"\"\n",
    "AI (Artificial Intelligence) is a broad field that focuses on developing intelligent systems capable of performing tasks that typically require human intelligence. It encompasses various techniques, including machine learning and deep learning, to enable machines to learn, reason, and make decisions.\n",
    "ML (Machine Learning) is a subset of AI that involves training machines to learn from data and make predictions or decisions without explicit programming. ML algorithms can automatically identify patterns and make informed decisions based on the provided data.\n",
    "DL (Deep Learning) is a subset of machine learning that specifically utilizes artificial neural networks with multiple layers to learn and extract complex representations from data. Deep learning excels at processing large amounts of unstructured data, such as images, text, and audio.\n",
    "DS (Data Science) is an interdisciplinary field that combines statistical analysis, machine learning, and domain expertise to extract insights and knowledge from data. Data scientists use various techniques, algorithms, and tools to analyze and interpret data, and make data-driven decisions or predictions.\n",
    "\n",
    "In summary, AI is the overarching field that encompasses ML and DL, while DS focuses on extracting insights from data using various techniques, including ML and statistical analysis.\n",
    "\"\"\""
   ]
  },
  {
   "cell_type": "markdown",
   "id": "c4ac5330-7e1a-465d-9278-3fd583a1dc0e",
   "metadata": {},
   "source": [
    "# Q5"
   ]
  },
  {
   "cell_type": "code",
   "execution_count": null,
   "id": "093931c1-16d0-4a51-a52e-7be1ce1e8394",
   "metadata": {},
   "outputs": [],
   "source": [
    "\"\"\"\n",
    "What are the main differences between supervised, unsupervised, and semi-supervised learning?\n",
    "\"\"\""
   ]
  },
  {
   "cell_type": "code",
   "execution_count": null,
   "id": "4e2969c0-2248-4ab9-a907-6f0e42f28dc1",
   "metadata": {},
   "outputs": [],
   "source": [
    "\"\"\"\n",
    "Supervised Learning: In supervised learning, the algorithm learns from labeled training data where both input features and corresponding output labels are provided. The goal is to predict or classify new, unseen data based on the patterns learned from the labeled examples.\n",
    "Unsupervised Learning: Unsupervised learning involves learning from unlabeled data where there are no explicit output labels. The algorithm explores the data to discover patterns, structures, or relationships within it without specific guidance or prior knowledge.\n",
    "Semi-Supervised Learning: Semi-supervised learning combines elements of both supervised and unsupervised learning. It uses a small amount of labeled data along with a larger amount of unlabeled data for training. The goal is to leverage the labeled data to guide the learning process and improve the models' performance on unseen data.\n",
    "\"\"\""
   ]
  },
  {
   "cell_type": "markdown",
   "id": "3ccd792f-49eb-48df-a59f-b2c323f76437",
   "metadata": {},
   "source": [
    "# Q6"
   ]
  },
  {
   "cell_type": "code",
   "execution_count": null,
   "id": "7532e213-b4cf-4bec-9bd6-589bca303832",
   "metadata": {},
   "outputs": [],
   "source": [
    "\"\"\"\n",
    "What is train, test and validation split? Explain the importance of each term.\n",
    "\"\"\""
   ]
  },
  {
   "cell_type": "code",
   "execution_count": null,
   "id": "b7382697-c7dc-4071-a6b8-60982e049960",
   "metadata": {},
   "outputs": [],
   "source": [
    "\"\"\"\n",
    "The train, test, and validation split is the division of a dataset into separate subsets:\n",
    "- Training set is used to train the model.\n",
    "- Test set is used to evaluate the model's performance on unseen data.\n",
    "- Validation set helps fine-tune the model's hyperparameters and prevent overfitting.\n",
    "\n",
    "Training Set: The training set is important as it serves as the foundation for the model's learning process. By training on labeled data, the model learns to recognize patterns and make accurate predictions.\n",
    "Test Set: The test set is crucial for evaluating the model's performance on unseen data. It provides an unbiased assessment of how well the model generalizes and helps gauge its effectiveness in real-world scenarios.\n",
    "Validation Set: The validation set plays a vital role in fine-tuning the model's hyperparameters. By evaluating the model's performance on the validation set, we can select the best configuration, optimize the model, and prevent overfitting before deploying it to new, unseen data.\n",
    "\"\"\""
   ]
  },
  {
   "cell_type": "markdown",
   "id": "e8f38fc2-e03d-4f0d-b6fd-3ce7cf6d6c16",
   "metadata": {},
   "source": [
    "# Q7"
   ]
  },
  {
   "cell_type": "code",
   "execution_count": null,
   "id": "3593720d-b5e8-4d6e-a3fb-49129e6e4ebd",
   "metadata": {},
   "outputs": [],
   "source": [
    "\"\"\"\n",
    "How can unsupervised learning be used in anomaly detection?\n",
    "\"\"\""
   ]
  },
  {
   "cell_type": "code",
   "execution_count": null,
   "id": "9f4a5ee4-d3f5-44d4-905f-1c3578cdf188",
   "metadata": {},
   "outputs": [],
   "source": [
    "\"\"\"\n",
    "Unsupervised learning can be used in anomaly detection by identifying patterns and structures in unlabeled data and then identifying instances that deviate significantly from those patterns, thereby detecting anomalies.\n",
    "\"\"\""
   ]
  },
  {
   "cell_type": "markdown",
   "id": "603b5625-6e7b-46cb-92bb-ff538ee5148e",
   "metadata": {},
   "source": [
    "# Q8"
   ]
  },
  {
   "cell_type": "code",
   "execution_count": null,
   "id": "cbfe9830-9859-4ce1-8ce1-27d164a38b27",
   "metadata": {},
   "outputs": [],
   "source": [
    "\"\"\"\n",
    "List down some commonly used supervised learning algorithms and unsupervised learning algorithms.\n",
    "\"\"\""
   ]
  },
  {
   "cell_type": "code",
   "execution_count": null,
   "id": "601931c1-60ff-4c24-8db9-fba62846a4cd",
   "metadata": {},
   "outputs": [],
   "source": [
    "\"\"\"\n",
    "Commonly used supervised learning algorithms:\n",
    "1) Linear Regression\n",
    "2) Logistic Regression\n",
    "3) Decision Trees\n",
    "4) Random Forest\n",
    "5) Support Vector Machines (SVM)\n",
    "6) Naive Bayes\n",
    "7) Neural Networks (Deep Learning)\n",
    "\n",
    "Commonly used unsupervised learning algorithms:\n",
    "1) Clustering (K-means, Hierarchical clustering)\n",
    "2) Dimensionality Reduction (Principal Component Analysis - PCA, t-SNE)\n",
    "3) Anomaly Detection (One-class SVM, Isolation Forest)\n",
    "4) Association Rule Learning (Apriori, FP-growth)\n",
    "5) Generative Models (Autoencoders, Gaussian Mixture Models)\n",
    "6) Reinforcement Learning (Q-learning, Policy Gradient methods)\n",
    "\"\"\""
   ]
  }
 ],
 "metadata": {
  "kernelspec": {
   "display_name": "Python 3 (ipykernel)",
   "language": "python",
   "name": "python3"
  },
  "language_info": {
   "codemirror_mode": {
    "name": "ipython",
    "version": 3
   },
   "file_extension": ".py",
   "mimetype": "text/x-python",
   "name": "python",
   "nbconvert_exporter": "python",
   "pygments_lexer": "ipython3",
   "version": "3.10.8"
  }
 },
 "nbformat": 4,
 "nbformat_minor": 5
}
