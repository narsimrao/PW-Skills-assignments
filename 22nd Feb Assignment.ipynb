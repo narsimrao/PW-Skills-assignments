{
 "cells": [
  {
   "cell_type": "code",
   "execution_count": 20,
   "id": "3f67d9c6-f8a6-4111-ba3a-397166a4279e",
   "metadata": {},
   "outputs": [],
   "source": [
    "import requests\n",
    "from bs4 import BeautifulSoup\n",
    "from urllib.request import urlopen\n",
    "import logging\n",
    "import os \n",
    "import json"
   ]
  },
  {
   "cell_type": "code",
   "execution_count": 3,
   "id": "acd0def6-2e53-4344-966b-f13748ad9d4e",
   "metadata": {},
   "outputs": [],
   "source": [
    "headers = {\"User-Agent\": \"Mozilla/5.0 (Windows NT 10.0; Win64; x64) AppleWebKit/537.36 (KHTML, like Gecko) Chrome/58.0.3029.110 Safari/537.36\"}"
   ]
  },
  {
   "cell_type": "code",
   "execution_count": 4,
   "id": "b49624e7-36ba-4cb8-8811-311542ff3e46",
   "metadata": {},
   "outputs": [],
   "source": [
    "response = requests.get(f\"https://www.youtube.com/@PW-Foundation/videos\")"
   ]
  },
  {
   "cell_type": "code",
   "execution_count": 5,
   "id": "6f303b53-0925-4ddd-bb3a-b83fe9b0a69d",
   "metadata": {},
   "outputs": [
    {
     "data": {
      "text/plain": [
       "<Response [200]>"
      ]
     },
     "execution_count": 5,
     "metadata": {},
     "output_type": "execute_result"
    }
   ],
   "source": [
    "response"
   ]
  },
  {
   "cell_type": "code",
   "execution_count": 6,
   "id": "5ec15d87-d1b5-4687-a220-3d54e4b35d5c",
   "metadata": {},
   "outputs": [],
   "source": [
    "soup = BeautifulSoup(response.content,\"html.parser\")\n",
    "#yt-simple-endpoint"
   ]
  },
  {
   "cell_type": "code",
   "execution_count": 9,
   "id": "5b038192-7363-4dbf-bf0e-42615ccfc886",
   "metadata": {},
   "outputs": [
    {
     "data": {
      "text/plain": [
       "40"
      ]
     },
     "execution_count": 9,
     "metadata": {},
     "output_type": "execute_result"
    }
   ],
   "source": [
    "script_lst = soup.find_all(\"script\")\n",
    "len(script_lst)\n"
   ]
  },
  {
   "cell_type": "code",
   "execution_count": 55,
   "id": "2cf241a9-c378-4c89-914b-a4d73f2ecba2",
   "metadata": {},
   "outputs": [],
   "source": [
    "content = script_lst[34].text\n",
    "content_json = content[20:-1]"
   ]
  },
  {
   "cell_type": "code",
   "execution_count": 56,
   "id": "b70178c0-ca23-4c84-b0ee-cd8aa57c2033",
   "metadata": {},
   "outputs": [],
   "source": [
    "raw_json = json.loads(content_json)"
   ]
  },
  {
   "cell_type": "markdown",
   "id": "c3946475-3c0a-4182-ac54-ed7d9096addb",
   "metadata": {},
   "source": [
    "# Q1"
   ]
  },
  {
   "cell_type": "code",
   "execution_count": null,
   "id": "c1a9efce-e41d-41b7-a6fd-fadae6b4346a",
   "metadata": {},
   "outputs": [],
   "source": [
    "\"\"\"\n",
    "Write a python program to extract the video URL of the first five videos.\n",
    "\"\"\""
   ]
  },
  {
   "cell_type": "code",
   "execution_count": 13,
   "id": "ec2fafa5-7827-4066-b903-b5063a580801",
   "metadata": {},
   "outputs": [],
   "source": [
    "contents_json = raw_json['contents']\n",
    "\n",
    "video_urls = []\n",
    "i = 0\n",
    "for tab_rend in contents_json['twoColumnBrowseResultsRenderer']['tabs']:\n",
    "    if i == 1:\n",
    "        for rich_item_rend in tab_rend['tabRenderer']['content']['richGridRenderer']['contents']:\n",
    "            if 'richItemRenderer' in rich_item_rend:\n",
    "                video_id = rich_item_rend['richItemRenderer']['content']['videoRenderer']['videoId']\n",
    "                # print('https://www.youtube.com//watch?v='+ str(video_id))\n",
    "                url = 'https://www.youtube.com//watch?v='+ str(video_id)\n",
    "                video_urls.append(url)\n",
    "    i = i+1"
   ]
  },
  {
   "cell_type": "code",
   "execution_count": 68,
   "id": "9ab302b6-0cb4-4308-8c73-a0ac60a761d2",
   "metadata": {},
   "outputs": [
    {
     "data": {
      "text/plain": [
       "['https://www.youtube.com//watch?v=LxHAzwur8cI',\n",
       " 'https://www.youtube.com//watch?v=sBXHecS1S1w',\n",
       " 'https://www.youtube.com//watch?v=l6ZY90YnMy0',\n",
       " 'https://www.youtube.com//watch?v=33onjejJLDs',\n",
       " 'https://www.youtube.com//watch?v=o3eOj-jhhfI']"
      ]
     },
     "execution_count": 68,
     "metadata": {},
     "output_type": "execute_result"
    }
   ],
   "source": [
    "video_urls[:5]"
   ]
  },
  {
   "cell_type": "markdown",
   "id": "71efe795-00d3-4e85-a491-197638ee6689",
   "metadata": {},
   "source": [
    "# Q2"
   ]
  },
  {
   "cell_type": "code",
   "execution_count": null,
   "id": "7fd06998-3655-45f5-8c92-d4041f4c583c",
   "metadata": {},
   "outputs": [],
   "source": [
    "\"\"\"\n",
    "Write a python program to extract the URL of the video thumbnails of the first five videos.\n",
    "\"\"\""
   ]
  },
  {
   "cell_type": "code",
   "execution_count": 98,
   "id": "72fd4f8a-316b-40a6-8801-b9154e27b35f",
   "metadata": {},
   "outputs": [],
   "source": [
    "contents_json = raw_json['contents']\n",
    "\n",
    "thumbnail_urls = []\n",
    "i = 0\n",
    "for tab_rend in contents_json['twoColumnBrowseResultsRenderer']['tabs']:\n",
    "    if i == 1:\n",
    "        for rich_item_rend in tab_rend['tabRenderer']['content']['richGridRenderer']['contents']:\n",
    "            if 'richItemRenderer' in rich_item_rend:\n",
    "                # for thumbnail in rich_item_rend['richItemRenderer']['content']['videoRenderer']['thumbnail']['thumbnails']:\n",
    "                for keys,value in rich_item_rend['richItemRenderer']['content']['videoRenderer']['thumbnail']['thumbnails'][0].items():\n",
    "                    if keys == 'url':\n",
    "                        thumbnail_urls.append(value)\n",
    "    i = i+1"
   ]
  },
  {
   "cell_type": "code",
   "execution_count": 100,
   "id": "bbc73531-403d-41bc-b404-1295d85efff4",
   "metadata": {},
   "outputs": [
    {
     "data": {
      "text/plain": [
       "['https://i.ytimg.com/vi/LxHAzwur8cI/hqdefault.jpg?sqp=-oaymwEiCKgBEF5IWvKriqkDFQgBFQAAAAAYASUAAMhCPQCAokN4AQ==&rs=AOn4CLCGhQ0Zuc11ZzuKgLsRih792_uiSQ',\n",
       " 'https://i.ytimg.com/vi/sBXHecS1S1w/hqdefault.jpg?sqp=-oaymwEiCKgBEF5IWvKriqkDFQgBFQAAAAAYASUAAMhCPQCAokN4AQ==&rs=AOn4CLBP5bYhlqACYd3Tp8ZF7LQ1Bs8zXA',\n",
       " 'https://i.ytimg.com/vi/l6ZY90YnMy0/hqdefault.jpg?sqp=-oaymwEiCKgBEF5IWvKriqkDFQgBFQAAAAAYASUAAMhCPQCAokN4AQ==&rs=AOn4CLA3a4TRIBgHamzLH2YffkpXI0jgeQ',\n",
       " 'https://i.ytimg.com/vi/33onjejJLDs/hqdefault.jpg?sqp=-oaymwEiCKgBEF5IWvKriqkDFQgBFQAAAAAYASUAAMhCPQCAokN4AQ==&rs=AOn4CLAhS87d4gEKgXV4Xd88ZgwDa48xUQ',\n",
       " 'https://i.ytimg.com/vi/o3eOj-jhhfI/hqdefault.jpg?sqp=-oaymwEiCKgBEF5IWvKriqkDFQgBFQAAAAAYASUAAMhCPQCAokN4AQ==&rs=AOn4CLArFNKU2WGRmhjHty8vJBcdFP8w0A']"
      ]
     },
     "execution_count": 100,
     "metadata": {},
     "output_type": "execute_result"
    }
   ],
   "source": [
    "thumbnail_urls[:5]"
   ]
  },
  {
   "cell_type": "markdown",
   "id": "a82818dc-a9c2-4d4d-bda4-bf7936cb82be",
   "metadata": {},
   "source": [
    "# Q3"
   ]
  },
  {
   "cell_type": "code",
   "execution_count": null,
   "id": "02e3f53a-e781-4422-bc3e-b150a5abb3ad",
   "metadata": {},
   "outputs": [],
   "source": [
    "\"\"\"\n",
    "Write a python program to extract the title of the first five videos.\n",
    "\"\"\""
   ]
  },
  {
   "cell_type": "code",
   "execution_count": 102,
   "id": "59dcf25a-c41f-4e27-83be-1f5606654dea",
   "metadata": {},
   "outputs": [],
   "source": [
    "contents_json = raw_json['contents']\n",
    "\n",
    "titles = []\n",
    "i = 0\n",
    "for tab_rend in contents_json['twoColumnBrowseResultsRenderer']['tabs']:\n",
    "    if i == 1:\n",
    "        for rich_item_rend in tab_rend['tabRenderer']['content']['richGridRenderer']['contents']:\n",
    "            if 'richItemRenderer' in rich_item_rend:\n",
    "                title = rich_item_rend['richItemRenderer']['content']['videoRenderer']['title']['runs'][0]['text']\n",
    "                titles.append(str(title))\n",
    "    i = i+1"
   ]
  },
  {
   "cell_type": "code",
   "execution_count": 103,
   "id": "4ed8208a-3401-4482-9b55-f53d2046fa58",
   "metadata": {},
   "outputs": [
    {
     "data": {
      "text/plain": [
       "['How To Start Class-10th Geography || ICSE Board || Complete Roadmap For All Students🔥',\n",
       " 'How To Start Class -10th Chemistry || ICSE Board || Complete Plan To Score 95%+ Marks',\n",
       " 'Complete Plan to Start Class-9th Science || Follow This Master Strategy to score more than 95% ⚡⚡',\n",
       " 'Best Way To Start Class -9th English 💥 || Master Strategy Plan || Follow this ⚡⚡',\n",
       " \"PWSAT Is Back Again!! 🔥 || India's Biggest Scholarship Test || Watch This ⚡⚡\"]"
      ]
     },
     "execution_count": 103,
     "metadata": {},
     "output_type": "execute_result"
    }
   ],
   "source": [
    "titles[:5]"
   ]
  },
  {
   "cell_type": "markdown",
   "id": "bea504c0-15da-41df-9700-7b0235a0f43c",
   "metadata": {},
   "source": [
    "# Q4"
   ]
  },
  {
   "cell_type": "code",
   "execution_count": null,
   "id": "f1ca4133-801e-4cbe-82cf-f4897b14a82c",
   "metadata": {},
   "outputs": [],
   "source": [
    "\"\"\"\n",
    "Write a python program to extract the number of views of the first five videos.\n",
    "\"\"\""
   ]
  },
  {
   "cell_type": "code",
   "execution_count": 104,
   "id": "8130a09a-05e3-40c9-93d7-09d995c468ec",
   "metadata": {},
   "outputs": [],
   "source": [
    "contents_json = raw_json['contents']\n",
    "\n",
    "view_count_lst = []\n",
    "i = 0\n",
    "for tab_rend in contents_json['twoColumnBrowseResultsRenderer']['tabs']:\n",
    "    if i == 1:\n",
    "        for rich_item_rend in tab_rend['tabRenderer']['content']['richGridRenderer']['contents']:\n",
    "            if 'richItemRenderer' in rich_item_rend:\n",
    "                view_count = rich_item_rend['richItemRenderer']['content']['videoRenderer']['viewCountText']['simpleText']\n",
    "                view_count_lst.append(str(view_count))\n",
    "    i = i+1"
   ]
  },
  {
   "cell_type": "code",
   "execution_count": 106,
   "id": "bea491dc-270d-4d83-9043-6ab22939f569",
   "metadata": {},
   "outputs": [
    {
     "data": {
      "text/plain": [
       "['3,899 views', '9,110 views', '27,438 views', '11,747 views', '18,719 views']"
      ]
     },
     "execution_count": 106,
     "metadata": {},
     "output_type": "execute_result"
    }
   ],
   "source": [
    "view_count_lst[:5]"
   ]
  },
  {
   "cell_type": "markdown",
   "id": "20f328d7-67ae-49e5-90f4-8d7107c0f1f1",
   "metadata": {},
   "source": [
    "# Q5"
   ]
  },
  {
   "cell_type": "code",
   "execution_count": null,
   "id": "de321ec1-ffd1-4643-9f39-ae132247f47e",
   "metadata": {},
   "outputs": [],
   "source": [
    "\"\"\"\n",
    "Write a python program to extract the time of posting of video for the first five videos.\n",
    "\"\"\""
   ]
  },
  {
   "cell_type": "code",
   "execution_count": 107,
   "id": "213d8cb2-787c-4389-86dc-2a9dbe854da2",
   "metadata": {},
   "outputs": [],
   "source": [
    "contents_json = raw_json['contents']\n",
    "\n",
    "published_time_lst = []\n",
    "i = 0\n",
    "for tab_rend in contents_json['twoColumnBrowseResultsRenderer']['tabs']:\n",
    "    if i == 1:\n",
    "        for rich_item_rend in tab_rend['tabRenderer']['content']['richGridRenderer']['contents']:\n",
    "            if 'richItemRenderer' in rich_item_rend:\n",
    "                published_time = rich_item_rend['richItemRenderer']['content']['videoRenderer']['publishedTimeText']['simpleText']\n",
    "                published_time_lst.append(str(published_time))\n",
    "    i = i+1"
   ]
  },
  {
   "cell_type": "code",
   "execution_count": 109,
   "id": "540840eb-4014-480f-bb7e-ed6914d50160",
   "metadata": {},
   "outputs": [
    {
     "data": {
      "text/plain": [
       "['14 hours ago', '2 days ago', '5 days ago', '8 days ago', '10 days ago']"
      ]
     },
     "execution_count": 109,
     "metadata": {},
     "output_type": "execute_result"
    }
   ],
   "source": [
    "published_time_lst[:5]"
   ]
  },
  {
   "cell_type": "code",
   "execution_count": 110,
   "id": "5c057483-cfee-4faf-b7ac-86972c5d6c8e",
   "metadata": {},
   "outputs": [],
   "source": [
    "data = { \"URL\" :video_urls,\n",
    "        \"thumbnail\" : thumbnail_urls,\n",
    "        \"title\" : titles,\n",
    "        \"views\" : view_count_lst,\n",
    "        \"published time\" : published_time_lst\n",
    "       }\n",
    "        "
   ]
  },
  {
   "cell_type": "code",
   "execution_count": 112,
   "id": "6808bec4-a573-4bb3-8b78-24df0fe1661d",
   "metadata": {},
   "outputs": [],
   "source": [
    "import pandas as pd\n",
    "\n",
    "df = pd.DataFrame(data)"
   ]
  },
  {
   "cell_type": "code",
   "execution_count": 113,
   "id": "52f6a550-fb25-46b3-bb24-9f946ea25184",
   "metadata": {},
   "outputs": [],
   "source": [
    "df.to_csv('youtube_scrap_data.csv')"
   ]
  },
  {
   "cell_type": "code",
   "execution_count": null,
   "id": "3cde8e48-8974-47a4-b6d6-e8c3cb42a415",
   "metadata": {},
   "outputs": [],
   "source": []
  }
 ],
 "metadata": {
  "kernelspec": {
   "display_name": "Python 3 (ipykernel)",
   "language": "python",
   "name": "python3"
  },
  "language_info": {
   "codemirror_mode": {
    "name": "ipython",
    "version": 3
   },
   "file_extension": ".py",
   "mimetype": "text/x-python",
   "name": "python",
   "nbconvert_exporter": "python",
   "pygments_lexer": "ipython3",
   "version": "3.10.8"
  }
 },
 "nbformat": 4,
 "nbformat_minor": 5
}
