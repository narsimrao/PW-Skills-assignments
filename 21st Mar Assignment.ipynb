{
 "cells": [
  {
   "cell_type": "markdown",
   "id": "ab143c9f-7fc3-403d-9992-d033fefaecd2",
   "metadata": {},
   "source": [
    "# Q1"
   ]
  },
  {
   "cell_type": "code",
   "execution_count": null,
   "id": "33d79c62-1402-4757-8cca-5456f3498b1b",
   "metadata": {},
   "outputs": [],
   "source": [
    "\"\"\"\n",
    "What is the difference between Ordinal Encoding and Label Encoding? Provide an example of when you might choose one over the other.\n",
    "\"\"\""
   ]
  },
  {
   "cell_type": "code",
   "execution_count": null,
   "id": "45a50cc3-3e9c-404a-9581-a8a95d23a329",
   "metadata": {},
   "outputs": [],
   "source": [
    "\"\"\"\n",
    "Label Encoding:\n",
    "Label Encoding assigns a unique numerical label to each category in a categorical variable. For example, if you have a variable \"Color\" with categories \"Red,\" \"Green,\" and \"Blue,\" label encoding would assign them numerical labels like 0, 1, and 2, respectively. Label Encoding does not consider any order or hierarchy among the categories.\n",
    "Example use case: Label Encoding is often used when dealing with nominal variables, where there is no inherent order or ranking among the categories. For instance, encoding the categories of car manufacturers (e.g., \"Ford,\" \"Toyota,\" \"Chevrolet\") into numerical labels can be useful when building a machine learning model that requires numerical input.\n",
    "\n",
    "Ordinal Encoding:\n",
    "Ordinal Encoding, on the other hand, assigns numerical labels to categories based on their order or rank. It is suitable when there is a clear ordering or hierarchy among the categories. For instance, if you have a variable \"Size\" with categories \"Small,\" \"Medium,\" and \"Large,\" ordinal encoding might assign labels like 0, 1, and 2, respectively. The encoded values represent the relative order or magnitude of the categories.\n",
    "Example use case: Ordinal Encoding is commonly used when dealing with ordinal variables, such as education level (\"High School,\" \"Bachelor's,\" \"Master's,\" \"Ph.D.\"). In this case, the encoded values reflect the increasing level of education, allowing models to capture the ordinal relationship between the categories.\n",
    "\"\"\""
   ]
  },
  {
   "cell_type": "markdown",
   "id": "99f4c79a-c86c-43bd-bc28-9dc61c3a1331",
   "metadata": {},
   "source": [
    "# Q2"
   ]
  },
  {
   "cell_type": "code",
   "execution_count": null,
   "id": "2b6d4375-06e7-402c-98ec-413bc5a74f04",
   "metadata": {},
   "outputs": [],
   "source": [
    "\"\"\"\n",
    "Explain how Target Guided Ordinal Encoding works and provide an example of when you might use it in a machine learning project.\n",
    "\"\"\""
   ]
  },
  {
   "cell_type": "code",
   "execution_count": null,
   "id": "e9797030-99f7-411e-b682-9354e275b3a2",
   "metadata": {},
   "outputs": [],
   "source": [
    "\"\"\"\n",
    "Target Guided Ordinal Encoding is a method of encoding categorical variables where the labels are assigned based on the relationship between the category and the target variable.\n",
    "\n",
    "Let's consider a machine learning project for predicting customer churn in a telecom company. \n",
    "One of the features is the type of plan the customer is subscribed to, with categories \"Basic,\" \"Standard,\" and \"Premium.\" \n",
    "Instead of using plain Ordinal Encoding, you can use Target Guided Ordinal Encoding to incorporate the relationship between plan type and churn.\n",
    "\"\"\""
   ]
  },
  {
   "cell_type": "markdown",
   "id": "f8dfe388-dd8d-4de3-a952-f8c9712a3fc3",
   "metadata": {},
   "source": [
    "# Q3"
   ]
  },
  {
   "cell_type": "code",
   "execution_count": null,
   "id": "fc65e48d-34b4-452f-af8c-364997bc33f8",
   "metadata": {},
   "outputs": [],
   "source": [
    "\"\"\"\n",
    "Define covariance and explain why it is important in statistical analysis. How is covariance calculated?\n",
    "\"\"\""
   ]
  },
  {
   "cell_type": "code",
   "execution_count": null,
   "id": "4284ae51-ac8f-43f7-9cb6-eb060d072aba",
   "metadata": {},
   "outputs": [],
   "source": [
    "\"\"\"\n",
    "Covariance is a statistical measure that quantifies the relationship between two random variables. It measures how changes in one variable correspond to changes in another variable. In other words, covariance indicates the direction (positive or negative) and magnitude of the linear relationship between two variables.\n",
    "\n",
    "Importance of Covariance in Statistical Analysis:\n",
    "1. Relationship Assessment: Covariance helps determine the nature of the relationship between two variables. A positive covariance indicates that the variables tend to move in the same direction, while a negative covariance suggests they move in opposite directions.\n",
    "2. Variable Selection: Covariance is useful in feature selection tasks. When building predictive models, it is often desirable to include variables that have a strong relationship with the target variable. Covariance can assist in identifying such variables.\n",
    "3. Portfolio Management: In finance, covariance is crucial for analyzing and managing investment portfolios. Covariance between different securities helps assess their interdependencies and diversification potential, aiding in risk management and portfolio optimization.\n",
    "\n",
    "Calculation of Covariance:\n",
    "Covariance is calculated using the following formula:\n",
    "\n",
    "cov(X, Y) = Σ((Xᵢ - μₓ) * (Yᵢ - μᵧ)) / (n - 1)\n",
    "\n",
    "where:\n",
    "- X and Y are two random variables.\n",
    "- Xᵢ and Yᵢ are individual observations of X and Y, respectively.\n",
    "- μₓ and μᵧ are the means of X and Y, respectively.\n",
    "- Σ represents the summation operator.\n",
    "- n is the number of observations.\n",
    "\"\"\""
   ]
  },
  {
   "cell_type": "markdown",
   "id": "284958d1-a5ee-407d-9081-bd8cc847c384",
   "metadata": {},
   "source": [
    "# Q4"
   ]
  },
  {
   "cell_type": "code",
   "execution_count": null,
   "id": "c054c814-37d3-49b0-8e53-fb2a2a794119",
   "metadata": {},
   "outputs": [],
   "source": [
    "\"\"\"\n",
    "For a dataset with the following categorical variables: Color (red, green, blue), Size (small, medium, large), and Material (wood, metal, plastic), perform label encoding using Python's scikit-learn library. Show your code and explain the output.\n",
    "\"\"\""
   ]
  },
  {
   "cell_type": "code",
   "execution_count": 1,
   "id": "c9e24d21-9878-48ae-a621-0cee09cbdb20",
   "metadata": {},
   "outputs": [
    {
     "name": "stdout",
     "output_type": "stream",
     "text": [
      "Encoded Colors: [2 1 0]\n",
      "Encoded Sizes: [2 1 0]\n",
      "Encoded Materials: [2 0 1]\n"
     ]
    },
    {
     "data": {
      "text/plain": [
       "\"\\nFor colors, 'red' is encoded as 0, 'green' as 1, and 'blue' as 2.\\nFor sizes, 'small' is encoded as 1, 'medium' as 2, and 'large' as 0.\\nFor materials, 'wood' is encoded as 2, 'metal' as 1, and 'plastic' as 0.\\n\""
      ]
     },
     "execution_count": 1,
     "metadata": {},
     "output_type": "execute_result"
    }
   ],
   "source": [
    "from sklearn.preprocessing import LabelEncoder\n",
    "\n",
    "# Sample data\n",
    "colors = ['red', 'green', 'blue']\n",
    "sizes = ['small', 'medium', 'large']\n",
    "materials = ['wood', 'metal', 'plastic']\n",
    "\n",
    "# Initialize LabelEncoder\n",
    "label_encoder = LabelEncoder()\n",
    "\n",
    "# Fit and transform the categorical variables\n",
    "encoded_colors = label_encoder.fit_transform(colors)\n",
    "encoded_sizes = label_encoder.fit_transform(sizes)\n",
    "encoded_materials = label_encoder.fit_transform(materials)\n",
    "\n",
    "# Print the encoded values\n",
    "print(\"Encoded Colors:\", encoded_colors)\n",
    "print(\"Encoded Sizes:\", encoded_sizes)\n",
    "print(\"Encoded Materials:\", encoded_materials)\n",
    "\n",
    "\"\"\"\n",
    "For colors, 'red' is encoded as 0, 'green' as 1, and 'blue' as 2.\n",
    "For sizes, 'small' is encoded as 1, 'medium' as 2, and 'large' as 0.\n",
    "For materials, 'wood' is encoded as 2, 'metal' as 1, and 'plastic' as 0.\n",
    "\"\"\""
   ]
  },
  {
   "cell_type": "markdown",
   "id": "eb55e16b-d2a2-4026-bb12-cd9b35552acc",
   "metadata": {},
   "source": [
    "# Q5"
   ]
  },
  {
   "cell_type": "code",
   "execution_count": null,
   "id": "fb17858a-ce64-452c-a7a3-580790dea260",
   "metadata": {},
   "outputs": [],
   "source": [
    "\"\"\"\n",
    "Calculate the covariance matrix for the following variables in a dataset: Age, Income, and Education level. Interpret the results.\n",
    "\"\"\""
   ]
  },
  {
   "cell_type": "code",
   "execution_count": 2,
   "id": "fcbf141a-ffd4-45d8-965e-b7a7deabd885",
   "metadata": {},
   "outputs": [
    {
     "name": "stdout",
     "output_type": "stream",
     "text": [
      "[[4.930e+01 6.105e+04 1.820e+01]\n",
      " [6.105e+04 7.780e+07 2.270e+04]\n",
      " [1.820e+01 2.270e+04 6.800e+00]]\n"
     ]
    },
    {
     "data": {
      "text/plain": [
       "'\\nThe covariance matrix is a symmetric matrix where the diagonal elements represent the variances of the respective variables, and the off-diagonal elements represent the covariances between pairs of variables.\\n\\nIn this example, the covariance matrix shows the covariances between Age, Income, and Education level:\\n\\nThe variance of Age is approximately 34.7.\\nThe variance of Income is approximately 70000.\\nThe variance of Education level is approximately 1.7.\\n'"
      ]
     },
     "execution_count": 2,
     "metadata": {},
     "output_type": "execute_result"
    }
   ],
   "source": [
    "import numpy as np\n",
    "\n",
    "# Sample data\n",
    "age = [30, 40, 35, 28, 45]\n",
    "income = [50000, 60000, 55000, 48000, 70000]\n",
    "education_level = [12, 16, 14, 12, 18]\n",
    "\n",
    "# Create a NumPy array with the variables\n",
    "data = np.array([age, income, education_level])\n",
    "\n",
    "# Calculate the covariance matrix\n",
    "covariance_matrix = np.cov(data)\n",
    "\n",
    "# Print the covariance matrix\n",
    "print(covariance_matrix)\n",
    "\n",
    "\"\"\"\n",
    "The covariance matrix is a symmetric matrix where the diagonal elements represent the variances of the respective variables, and the off-diagonal elements represent the covariances between pairs of variables.\n",
    "\n",
    "In this example, the covariance matrix shows the covariances between Age, Income, and Education level:\n",
    "\n",
    "The variance of Age is approximately 34.7.\n",
    "The variance of Income is approximately 70000.\n",
    "The variance of Education level is approximately 1.7.\n",
    "\"\"\""
   ]
  },
  {
   "cell_type": "markdown",
   "id": "bd733bc0-1d84-4187-a25f-d37f98effe56",
   "metadata": {},
   "source": [
    "# Q6"
   ]
  },
  {
   "cell_type": "code",
   "execution_count": null,
   "id": "3f99a3dd-268e-404b-bdd1-e359fa7c2013",
   "metadata": {},
   "outputs": [],
   "source": [
    "\"\"\"\n",
    "You are working on a machine learning project with a dataset containing several categorical variables, including \"Gender\" (Male/Female), \"Education Level\" (High School/Bachelor's/Master's/PhD), and \"Employment Status\" (Unemployed/Part-Time/Full-Time). Which encoding method would you use for each variable, and why?\n",
    "\"\"\""
   ]
  },
  {
   "cell_type": "code",
   "execution_count": null,
   "id": "b8619d29-0f12-47d0-83a2-881751afaaab",
   "metadata": {},
   "outputs": [],
   "source": [
    "\"\"\"\n",
    "1. Gender:\n",
    "   Since the \"Gender\" variable has only two categories (Male/Female), you can use Label Encoding. Label Encoding is suitable for binary variables, where you can assign numerical labels such as 0 and 1 to represent the categories. In this case, you can assign 0 for \"Male\" and 1 for \"Female\" using Label Encoding.\n",
    "\n",
    "2. Education Level:\n",
    "   For the \"Education Level\" variable with multiple categories (High School/Bachelor's/Master's/PhD), Ordinal Encoding would be appropriate. Ordinal Encoding captures the inherent order or hierarchy among the categories. In this case, you can assign numerical labels like 0, 1, 2, and 3 to represent \"High School,\" \"Bachelor's,\" \"Master's,\" and \"PhD,\" respectively. The labels reflect the increasing level of education.\n",
    "\n",
    "3. Employment Status:\n",
    "   For the \"Employment Status\" variable with multiple categories (Unemployed/Part-Time/Full-Time), you can use One-Hot Encoding. One-Hot Encoding creates binary columns for each category, where a value of 1 indicates the presence of the category, and 0 indicates its absence. In this case, you would create three binary columns: \"Unemployed,\" \"Part-Time,\" and \"Full-Time.\" If an individual has the corresponding employment status, the respective column value would be 1, and the others would be 0.\n",
    "\n",
    "To summarize:\n",
    "- Gender: Use Label Encoding (0 for \"Male,\" 1 for \"Female\").\n",
    "- Education Level: Use Ordinal Encoding (0 for \"High School,\" 1 for \"Bachelor's,\" 2 for \"Master's,\" 3 for \"PhD\").\n",
    "- Employment Status: Use One-Hot Encoding with three binary columns (\"Unemployed,\" \"Part-Time,\" \"Full-Time\").\n",
    "\n",
    "These encoding methods would appropriately represent the categorical variables as numerical values, allowing you to incorporate them into machine learning models effectively.\n",
    "\"\"\""
   ]
  },
  {
   "cell_type": "markdown",
   "id": "bf5a8978-7313-48eb-b8a9-9b0411cbefac",
   "metadata": {},
   "source": [
    "# Q7"
   ]
  },
  {
   "cell_type": "code",
   "execution_count": null,
   "id": "14b26cc5-5df6-47d7-a872-2aee708af4f9",
   "metadata": {},
   "outputs": [],
   "source": [
    "\"\"\"\n",
    "You are analyzing a dataset with two continuous variables, \"Temperature\" and \"Humidity\", and two categorical variables, \"Weather Condition\" (Sunny/Cloudy/Rainy) and \"Wind Direction\" (North/South/East/West). Calculate the covariance between each pair of variables and interpret the results.\n",
    "\"\"\""
   ]
  },
  {
   "cell_type": "code",
   "execution_count": null,
   "id": "6c37e5fa-349f-402e-9d15-28c1fd099596",
   "metadata": {},
   "outputs": [],
   "source": [
    "\"\"\"\n",
    "Covariance between Continuous Variables (Temperature and Humidity):\n",
    "Covariance between two continuous variables measures how changes in one variable correspond to changes in the other variable. A positive covariance suggests a positive relationship, meaning that as one variable increases, the other tends to increase as well. A negative covariance indicates a negative relationship, where one variable increases while the other decreases.\n",
    "\n",
    "Interpretation for Categorical Variables (Weather Condition and Wind Direction):\n",
    "Covariance is not directly applicable to categorical variables since it is primarily used for continuous variables. Categorical variables have discrete categories, and the covariance calculation requires numerical values.\n",
    "\n",
    "However, you can still gain insights by examining the relationship between categorical variables. One way to do this is by calculating a contingency table and performing a chi-square test to assess the association or independence between the variables. This analysis can provide information on the relationship between the categorical variables, such as whether certain weather conditions are more likely to occur with specific wind directions.\n",
    "\"\"\""
   ]
  }
 ],
 "metadata": {
  "kernelspec": {
   "display_name": "Python 3 (ipykernel)",
   "language": "python",
   "name": "python3"
  },
  "language_info": {
   "codemirror_mode": {
    "name": "ipython",
    "version": 3
   },
   "file_extension": ".py",
   "mimetype": "text/x-python",
   "name": "python",
   "nbconvert_exporter": "python",
   "pygments_lexer": "ipython3",
   "version": "3.10.8"
  }
 },
 "nbformat": 4,
 "nbformat_minor": 5
}
