{
 "cells": [
  {
   "cell_type": "markdown",
   "id": "87621118-3ed9-40fc-80a0-b6bcfc83b80a",
   "metadata": {},
   "source": [
    "# Q1"
   ]
  },
  {
   "cell_type": "code",
   "execution_count": null,
   "id": "6ffb2041-d9de-49e0-a2c2-1fa564eb4097",
   "metadata": {},
   "outputs": [],
   "source": [
    "\"\"\"\n",
    "What are the Probability Mass Function (PMF) and Probability Density Function (PDF)? \n",
    "Explain with an example.\n",
    "\"\"\""
   ]
  },
  {
   "cell_type": "code",
   "execution_count": null,
   "id": "50192734-9095-4899-ba89-00d9ad98e091",
   "metadata": {},
   "outputs": [],
   "source": [
    "\"\"\"\n",
    "A probability mass function (PMF) is used to describe the probability distribution of a discrete random variable, \n",
    "giving the probability that the variable takes on a specific value. \n",
    "\n",
    "A probability density function (PDF) is used to describe the probability distribution of a continuous random variable, \n",
    "giving the relative likelihood of the variable taking on a specific value.\n",
    "\n",
    "An example of a probability mass function (PMF) is the distribution of the number of heads obtained in two coin flips. \n",
    "The random variable X can take on three possible values: 0, 1, or 2. The PMF for X is:\n",
    "\n",
    "P(X=0) = 1/4\n",
    "P(X=1) = 1/2\n",
    "P(X=2) = 1/4\n",
    "\n",
    "This means that the probability of obtaining 0 heads is 1/4, the probability of obtaining 1 head is 1/2, and the probability of obtaining 2 heads is 1/4. \n",
    "Note that the sum of these probabilities is equal to 1, which is a requirement of a PMF.\n",
    "\n",
    "An example of a probability density function (PDF) is the normal distribution. \n",
    "Let's say the height of a group of people is normally distributed with a mean of 170 cm and a standard deviation of 10 cm. \n",
    "The PDF for height is:\n",
    "\n",
    "f(x) = (1 / (10 * sqrt(2*pi))) * exp(-((x-170)^2) / (2*10^2))\n",
    "\n",
    "This function describes the relative likelihood of a person being a certain height. \n",
    "For example, the probability density of a person being exactly 170 cm tall is 0, since the height of a continuous random variable is defined over an interval. \n",
    "Instead, the PDF tells us the relative likelihood of a person being between two heights, say, 165 cm and 175 cm. \n",
    "We can compute this probability as the area under the PDF curve between those two heights.\n",
    "\"\"\""
   ]
  },
  {
   "cell_type": "markdown",
   "id": "c5371d4a-be90-4df5-b11b-121188f431aa",
   "metadata": {},
   "source": [
    "# Q2"
   ]
  },
  {
   "cell_type": "code",
   "execution_count": null,
   "id": "3cd859be-fad3-4ebc-8ff1-95dd8e613847",
   "metadata": {},
   "outputs": [],
   "source": [
    "\"\"\"\n",
    "What is Cumulative Density Function (CDF)? Explain with an example. Why CDF is used?\n",
    "\"\"\""
   ]
  },
  {
   "cell_type": "code",
   "execution_count": null,
   "id": "399189f7-bcb9-431d-b221-9106d0d4d204",
   "metadata": {},
   "outputs": [],
   "source": [
    "\"\"\"\n",
    "The Cumulative Distribution Function (CDF) gives the probability that a random variable takes on a value less than or equal to a specified value. \n",
    "For example, let's say we have a random variable X representing the number of heads obtained when flipping a coin twice. \n",
    "The possible values of X are 0, 1, and 2.\n",
    "\n",
    "The PMF of X is:\n",
    "\n",
    "P(X = 0) = 1/4\n",
    "P(X = 1) = 1/2\n",
    "P(X = 2) = 1/4\n",
    "\n",
    "The CDF of X is:\n",
    "\n",
    "F(0) = P(X <= 0) = 1/4\n",
    "F(1) = P(X <= 1) = 3/4\n",
    "F(2) = P(X <= 2) = 1\n",
    "\n",
    "This means that there is a 1/4 chance of obtaining zero or fewer heads, a 3/4 chance of obtaining one or fewer heads, \n",
    "and a 100% chance of obtaining two or fewer heads.\n",
    "\n",
    "The CDF is used to compute probabilities for a wide range of statistical applications. \n",
    "For example, we can use the CDF to find the probability that X falls within a certain range, such as P(0 < X < 2) = F(2) - F(0) = 1 - 1/4 = 3/4. \n",
    "We can also use the CDF to calculate percentiles of the distribution, \n",
    "such as the median (50th percentile) which is the value of x that satisfies F(x) = 0.5.\n",
    "\"\"\""
   ]
  },
  {
   "cell_type": "markdown",
   "id": "e53fd7df-9645-4497-809a-d8adca88f961",
   "metadata": {},
   "source": [
    "# Q3"
   ]
  },
  {
   "cell_type": "code",
   "execution_count": null,
   "id": "38b256f5-52f7-4de5-ac98-a0116a85aeb2",
   "metadata": {},
   "outputs": [],
   "source": [
    "\"\"\"\n",
    "What are some examples of situations where the normal distribution might be used as a model? \n",
    "Explain how the parameters of the normal distribution relate to the shape of the distribution.\n",
    "\"\"\""
   ]
  },
  {
   "cell_type": "code",
   "execution_count": null,
   "id": "e989a34a-1294-43a6-970d-a3f226202b70",
   "metadata": {},
   "outputs": [],
   "source": [
    "\"\"\"\n",
    "The normal distribution is a commonly used statistical model for a wide range of continuous random variables in various fields such as finance, engineering, and social sciences. \n",
    "Here are some examples of situations where the normal distribution might be used as a model:\n",
    "\n",
    "1. Heights and weights of a population: It is often assumed that the heights and weights of a population follow a normal distribution.\n",
    "2. Test scores: Test scores in a large population are often modeled using the normal distribution.\n",
    "3. Errors in measurements: Errors in measurements, such as errors in temperature readings, are often modeled using the normal distribution.\n",
    "4. Stock prices: Stock prices are often modeled using the normal distribution to calculate the probability of future prices.\n",
    "\n",
    "The normal distribution is characterized by two parameters: the mean (μ) and the standard deviation (σ). \n",
    "The mean is the central tendency of the distribution, representing the location of the peak of the distribution. \n",
    "The standard deviation measures the spread of the distribution around the mean. \n",
    "\n",
    "The shape of the normal distribution is symmetric and bell-shaped. \n",
    "The mean, median, and mode of the distribution are all equal, and they are located at the center of the distribution. \n",
    "The spread of the distribution is determined by the standard deviation, with smaller standard deviations resulting in a narrower \n",
    "and taller peak, and larger standard deviations resulting in a flatter and wider distribution. \n",
    "The empirical rule, which states that approximately 68% of the data falls within one standard deviation of the mean, \n",
    "approximately 95% falls within two standard deviations, and approximately 99.7% falls within three standard deviations, \n",
    "is also a characteristic of the normal distribution.\n",
    "\"\"\""
   ]
  },
  {
   "cell_type": "markdown",
   "id": "d7ab7406-4cd1-400a-9f2b-2c71333d94db",
   "metadata": {},
   "source": [
    "# Q4"
   ]
  },
  {
   "cell_type": "code",
   "execution_count": null,
   "id": "20d2c1cc-d8a2-4544-9a43-6118ba26a152",
   "metadata": {},
   "outputs": [],
   "source": [
    "\"\"\"\n",
    "Explain the importance of Normal Distribution. Give a few real-life examples of Normal Distribution.\n",
    "\"\"\""
   ]
  },
  {
   "cell_type": "code",
   "execution_count": null,
   "id": "895c4219-d2d3-4309-9950-2d1e2787674c",
   "metadata": {},
   "outputs": [],
   "source": [
    "\"\"\"\n",
    "The normal distribution, also known as the Gaussian distribution, is one of the most important probability distributions in statistics. It is widely used in statistical inference, modeling and hypothesis testing, and is a foundation of many statistical tools and methods. The importance of the normal distribution can be attributed to several factors:\n",
    "\n",
    "1. Universality: The normal distribution is a widely applicable model that can be used to describe many real-world phenomena, from physical measurements to social behavior. Many natural and social phenomena follow a normal distribution, making it a useful tool for a wide range of applications.\n",
    "2. Central Limit Theorem: The central limit theorem states that the sum of a large number of independent random variables, regardless of their underlying distribution, will be approximately normally distributed. This makes the normal distribution an essential tool in statistical inference, allowing us to estimate population parameters from a sample and make inferences about the population as a whole.\n",
    "3. Predictability: The normal distribution is highly predictable, with known properties that make it easy to estimate probabilities, calculate confidence intervals, and make predictions.\n",
    "4. Simplicity: The normal distribution is a relatively simple mathematical model, making it easy to use and understand.\n",
    "\n",
    "Real-life examples of the normal distribution include:\n",
    "\n",
    "1. Heights and weights of a population: The normal distribution is often used to model the heights and weights of a population, as these variables tend to follow a bell-shaped curve.\n",
    "2. IQ scores: Intelligence quotient (IQ) scores are often modeled using the normal distribution.\n",
    "3. Exam scores: Test scores in a large population are often modeled using the normal distribution.\n",
    "4. Blood pressure: Blood pressure measurements in a large population can be modeled using the normal distribution.\n",
    "5. Error distribution in measurements: Errors in measurements, such as errors in temperature readings, are often modeled using the normal distribution.\n",
    "6. Stock prices: Stock prices are often modeled using the normal distribution to calculate the probability of future prices.\n",
    "\"\"\""
   ]
  },
  {
   "cell_type": "markdown",
   "id": "7b783e46-ad09-4d2f-9adc-8c39ad1f2ea0",
   "metadata": {},
   "source": [
    "# Q5"
   ]
  },
  {
   "cell_type": "code",
   "execution_count": null,
   "id": "f7b7cb1f-5bbd-4299-927d-9501614b5937",
   "metadata": {},
   "outputs": [],
   "source": [
    "\"\"\"\n",
    "What is Bernaulli Distribution? Give an Example. What is the difference between Bernoulli\n",
    "Distribution and Binomial Distribution?\n",
    "\"\"\""
   ]
  },
  {
   "cell_type": "code",
   "execution_count": null,
   "id": "e9a7e2b3-d806-4d41-b933-a7e1dc9975b4",
   "metadata": {},
   "outputs": [],
   "source": [
    "\"\"\"\n",
    "The Bernoulli distribution is a discrete probability distribution that models a single experiment with two possible outcomes, typically labeled as success and failure. \n",
    "The probability of success is denoted by p, and the probability of failure is denoted by q = 1-p.\n",
    "\n",
    "An example of the Bernoulli distribution is flipping a coin, where a head is considered a success and a tail is considered a failure. \n",
    "Another example is a single roll of a fair die, where rolling a 1 or 2 is considered a success and rolling any other number is considered a failure.\n",
    "\n",
    "The binomial distribution, on the other hand, models a series of independent and identical Bernoulli trials, where each trial has the same probability of success p. \n",
    "The binomial distribution calculates the probability of getting a specific number of successes in n independent trials.\n",
    "\n",
    "The key difference between the Bernoulli distribution and the binomial distribution is that the Bernoulli distribution models a single trial with two possible outcomes, \n",
    "while the binomial distribution models a series of trials with a fixed number of successes in n independent trials.\n",
    "\n",
    "For example, flipping a coin 10 times and counting the number of heads is an example of a binomial distribution with n=10 trials and p=0.5 probability of success for each trial. \n",
    "The probability of getting exactly 5 heads (or 5 tails) can be calculated using the binomial distribution formula.\n",
    "\n",
    "In summary, the Bernoulli distribution is a special case of the binomial distribution with a single trial, \n",
    "while the binomial distribution models a series of independent and identical Bernoulli trials.\n",
    "\"\"\""
   ]
  },
  {
   "cell_type": "markdown",
   "id": "7f94669a-2fb6-4401-9198-0d194f1913e9",
   "metadata": {},
   "source": [
    "# Q6"
   ]
  },
  {
   "cell_type": "code",
   "execution_count": null,
   "id": "c01439e9-0e93-4c54-b244-d6e84be44ff6",
   "metadata": {},
   "outputs": [],
   "source": [
    "\"\"\"\n",
    "Consider a dataset with a mean of 50 and a standard deviation of 10. If we assume that the dataset\n",
    "is normally distributed, what is the probability that a randomly selected observation will be greater\n",
    "than 60? Use the appropriate formula and show your calculations.\n",
    "\"\"\""
   ]
  },
  {
   "cell_type": "code",
   "execution_count": null,
   "id": "abc949ac-027d-4985-8eff-5d019d38792a",
   "metadata": {},
   "outputs": [],
   "source": [
    "\"\"\"\n",
    "To find the probability that a randomly selected observation from a normally distributed \n",
    "dataset with a mean of 50 and a standard deviation of 10 will be greater than 60, \n",
    "we can use the standard normal distribution and the Z-score formula.\n",
    "\n",
    "First, we need to calculate the Z-score of 60 using the formula:\n",
    "\n",
    "Z = (X - mean) / std\n",
    "\n",
    "where X is the value we are interested in (60 in this case), μ is the mean of the dataset (50), and σ is the standard deviation of the dataset (10).\n",
    "\n",
    "Z = (60 - 50) / 10 = 1\n",
    "\n",
    "Next, we can use a standard normal distribution table or a calculator to find the probability associated with a Z-score of 1. \n",
    "From the table or calculator, we find that the probability of a Z-score greater than 1 is approximately 0.1587.\n",
    "\n",
    "Therefore, the probability that a randomly selected observation from the normally distributed dataset will be greater than 60 is approximately 0.1587 or 15.87%.\n",
    "\"\"\""
   ]
  },
  {
   "cell_type": "markdown",
   "id": "85afce28-48f0-4b7b-9b37-9bad4c2b9797",
   "metadata": {},
   "source": [
    "# Q7"
   ]
  },
  {
   "cell_type": "code",
   "execution_count": null,
   "id": "9ba0192b-7e03-453f-8d72-f333c68cfbde",
   "metadata": {},
   "outputs": [],
   "source": [
    "\"\"\"\n",
    "Explain uniform Distribution with an example.\n",
    "\"\"\""
   ]
  },
  {
   "cell_type": "code",
   "execution_count": null,
   "id": "ade09680-7bfa-426b-a94e-5d0cfa4042d7",
   "metadata": {},
   "outputs": [],
   "source": [
    "\"\"\"\n",
    "a uniform distribution is a continuous probability distribution that has a constant probability density function (PDF) over a specified range. \n",
    "This means that all values within the range are equally likely to occur.\n",
    "\n",
    "For example, consider a scenario where a company wants to randomly select one employee from a team of 10 to attend a training session. \n",
    "If the selection process is fair and each employee is equally likely to be chosen, then the probability of selecting any particular employee is 1/10 or 0.1. \n",
    "This scenario can be modeled using a discrete uniform distribution.\n",
    "\"\"\""
   ]
  },
  {
   "cell_type": "markdown",
   "id": "6042d047-be45-4d37-ad91-3e226a7a62c4",
   "metadata": {},
   "source": [
    "# Q8"
   ]
  },
  {
   "cell_type": "code",
   "execution_count": null,
   "id": "3d83a974-62a4-4fba-99da-d447e23b09a2",
   "metadata": {},
   "outputs": [],
   "source": [
    "\"\"\"\n",
    "What is the z score? State the importance of the z score.\n",
    "\"\"\""
   ]
  },
  {
   "cell_type": "code",
   "execution_count": null,
   "id": "5850e7a8-eb7e-43e1-a9b9-dc1cb5e7e302",
   "metadata": {},
   "outputs": [],
   "source": [
    "\"\"\"\n",
    "the z-score is a standardized score that measures the distance of a data point from the mean of a distribution in terms of the number of standard deviations. \n",
    "The z-score can be calculated using the formula:\n",
    "\n",
    "z = (x - μ) / σ\n",
    "\n",
    "where x is the observed value, μ is the mean of the distribution, and σ is the standard deviation of the distribution.\n",
    "\n",
    "The z-score has several important uses in statistics:\n",
    "\n",
    "1. Comparing data across different distributions: Since the z-score is a standardized score, it allows us to compare data across different distributions with varying means and standard deviations.\n",
    "2. Identifying outliers: Observations with z-scores that are significantly greater or smaller than zero are considered outliers and may warrant further investigation.\n",
    "3. Hypothesis testing: The z-score is used to determine the probability of observing a value in a normal distribution. This is helpful for hypothesis testing, where we want to determine if a particular observation or sample mean is statistically significant or just due to chance.\n",
    "4. Standardizing data: The z-score can be used to standardize data, which can be helpful for data normalization and machine learning algorithms that require data to be on the same scale.\n",
    "\"\"\""
   ]
  },
  {
   "cell_type": "markdown",
   "id": "dbbaf8a6-0996-4345-a946-f6451ee4d5c2",
   "metadata": {},
   "source": [
    "# Q9"
   ]
  },
  {
   "cell_type": "code",
   "execution_count": null,
   "id": "321399b7-f19e-4306-8cf8-e09a32ed42b9",
   "metadata": {},
   "outputs": [],
   "source": [
    "\"\"\"\n",
    "What is Central Limit Theorem? State the significance of the Central Limit Theorem.\n",
    "\"\"\""
   ]
  },
  {
   "cell_type": "code",
   "execution_count": null,
   "id": "92a84a43-5eb4-4d55-b2b2-0436ae1e9500",
   "metadata": {},
   "outputs": [],
   "source": [
    "\"\"\"\n",
    "The Central Limit Theorem (CLT) is a fundamental concept in statistics that states that the sampling distribution of the means of a large number of independent\n",
    "and identically distributed random variables will be approximately normally distributed, regardless of the underlying distribution of the population from which the sample was drawn. \n",
    "In simpler terms, the CLT asserts that if we take enough samples from any population, the means of these samples will follow a normal distribution.\n",
    "\n",
    "The significance of the Central Limit Theorem is that it allows us to make inferences about the population based on a relatively small sample size. \n",
    "For instance, suppose we are interested in estimating the average height of all people in a particular city. \n",
    "It would be impractical to measure the height of every person in the city, so we take a random sample of 100 people and compute the sample mean. \n",
    "Thanks to the CLT, we can be reasonably confident that the sampling distribution of these means will be approximately normal, even if the underlying population distribution is not normal. \n",
    "This allows us to estimate the population mean and calculate the margin of error associated with our estimate.\n",
    "\n",
    "The CLT is also important because it underpins many statistical techniques such as hypothesis testing, confidence intervals,\n",
    "and regression analysis, which rely on the assumption of normally distributed errors. \n",
    "In addition, it provides a way to transform non-normal data into a normal distribution, which can be useful for performing certain statistical tests.\n",
    "\n",
    "Overall, the Central Limit Theorem is a foundational concept in statistics that has wide-ranging implications for statistical inference and analysis.\n",
    "\"\"\""
   ]
  },
  {
   "cell_type": "markdown",
   "id": "c34db951-997e-4bc4-8733-8f4667a03790",
   "metadata": {},
   "source": [
    "# Q10"
   ]
  },
  {
   "cell_type": "code",
   "execution_count": null,
   "id": "c16fead2-bfd2-4b8c-80e7-e3dd3d0c713b",
   "metadata": {},
   "outputs": [],
   "source": [
    "\"\"\"\n",
    "State the assumptions of the Central Limit Theorem.\n",
    "\"\"\""
   ]
  },
  {
   "cell_type": "code",
   "execution_count": null,
   "id": "e226b167-a829-4db2-8e11-865a705e0444",
   "metadata": {},
   "outputs": [],
   "source": [
    "\"\"\"\n",
    "1. The sample is drawn from a population that has a finite mean and a finite variance.\n",
    "2. The observations in the sample are independent of each other.\n",
    "3. The sample size is large enough (usually considered to be at least 30) to ensure that the sample mean follows a normal distribution, regardless of the distribution of the original population.\n",
    "\"\"\""
   ]
  }
 ],
 "metadata": {
  "kernelspec": {
   "display_name": "Python 3 (ipykernel)",
   "language": "python",
   "name": "python3"
  },
  "language_info": {
   "codemirror_mode": {
    "name": "ipython",
    "version": 3
   },
   "file_extension": ".py",
   "mimetype": "text/x-python",
   "name": "python",
   "nbconvert_exporter": "python",
   "pygments_lexer": "ipython3",
   "version": "3.10.8"
  }
 },
 "nbformat": 4,
 "nbformat_minor": 5
}
