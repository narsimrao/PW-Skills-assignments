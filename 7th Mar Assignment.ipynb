{
 "cells": [
  {
   "cell_type": "markdown",
   "id": "010957f6-87e5-4ca8-af24-776441c33598",
   "metadata": {},
   "source": [
    "# Q1"
   ]
  },
  {
   "cell_type": "code",
   "execution_count": null,
   "id": "0dcd19be-98ea-409f-9fa1-46e2ff02c639",
   "metadata": {},
   "outputs": [],
   "source": [
    "\"\"\"\n",
    "What are the three measures of central tendency?\n",
    "\"\"\""
   ]
  },
  {
   "cell_type": "code",
   "execution_count": null,
   "id": "bebcd5d1-79ed-4f42-abb1-3c39979d5ce7",
   "metadata": {},
   "outputs": [],
   "source": [
    "\"\"\"\n",
    "Mean, Median and Mode\n",
    "\"\"\""
   ]
  },
  {
   "cell_type": "markdown",
   "id": "3ccd45f5-329a-4dc2-b224-f52445206978",
   "metadata": {},
   "source": [
    "# Q2"
   ]
  },
  {
   "cell_type": "code",
   "execution_count": null,
   "id": "34f7c1d3-0678-42cd-a27a-f94d320d468b",
   "metadata": {},
   "outputs": [],
   "source": [
    "\"\"\"\n",
    "What is the difference between the mean, median, and mode? How are they used to measure the central tendency of a dataset?\n",
    "\"\"\""
   ]
  },
  {
   "cell_type": "code",
   "execution_count": null,
   "id": "9a81ac27-285c-48d3-936b-c94072923326",
   "metadata": {},
   "outputs": [],
   "source": [
    "\"\"\"\n",
    "1. Mean: The average of all values in a dataset, affected by outliers and extreme values.\n",
    "\n",
    "2. Median: The middle value in a dataset when arranged in numerical order, less affected by outliers and extreme values.\n",
    "\n",
    "3. Mode: The most frequently occurring value in a dataset, used to summarize discrete values or categories.\n",
    "\n",
    "All three measures provide information about the center of a dataset and are useful in different situations depending on the nature of the dataset.\n",
    "\"\"\""
   ]
  },
  {
   "cell_type": "markdown",
   "id": "1eeb8ac3-9067-4cc3-8a6b-9d26c95e40a1",
   "metadata": {},
   "source": [
    "# Q3"
   ]
  },
  {
   "cell_type": "code",
   "execution_count": null,
   "id": "50d8d3d3-cd31-4b92-bc52-51cab6f90326",
   "metadata": {},
   "outputs": [],
   "source": [
    "\"\"\"\n",
    "Measure the three measures of central tendency for the given height data:\n",
    "[178,177,176,177,178.2,178,175,179,180,175,178.9,176.2,177,172.5,178,176.5]\n",
    "\"\"\""
   ]
  },
  {
   "cell_type": "code",
   "execution_count": 1,
   "id": "4f9ca64c-ec10-42b9-8f2c-7590cdbb27e4",
   "metadata": {},
   "outputs": [
    {
     "name": "stdout",
     "output_type": "stream",
     "text": [
      "177.01875\n",
      "177.0\n",
      "178\n"
     ]
    }
   ],
   "source": [
    "data = [178,177,176,177,178.2,178,175,179,180,175,178.9,176.2,177,172.5,178,176.5]\n",
    "\n",
    "import numpy as np\n",
    "import statistics as st\n",
    "\n",
    "print(np.mean(data))\n",
    "print(np.median(data))\n",
    "print(st.mode(data))\n"
   ]
  },
  {
   "cell_type": "markdown",
   "id": "ac9e415d-2113-4eb0-b6b6-c951f5db5f66",
   "metadata": {},
   "source": [
    "# Q4"
   ]
  },
  {
   "cell_type": "code",
   "execution_count": null,
   "id": "252b2720-44bd-4bfa-a734-2d5a0138f535",
   "metadata": {},
   "outputs": [],
   "source": [
    "\"\"\"\n",
    "Find the standard deviation for the given data:\n",
    "[178,177,176,177,178.2,178,175,179,180,175,178.9,176.2,177,172.5,178,176.5]\n",
    "\"\"\""
   ]
  },
  {
   "cell_type": "code",
   "execution_count": 2,
   "id": "f3ae7a8e-1382-49d1-b70f-87f84354ed91",
   "metadata": {},
   "outputs": [
    {
     "data": {
      "text/plain": [
       "1.7885814036548633"
      ]
     },
     "execution_count": 2,
     "metadata": {},
     "output_type": "execute_result"
    }
   ],
   "source": [
    "data = [178,177,176,177,178.2,178,175,179,180,175,178.9,176.2,177,172.5,178,176.5]\n",
    "\n",
    "np.std(data)"
   ]
  },
  {
   "cell_type": "markdown",
   "id": "81a296a0-a587-4cc5-913c-db4667ba3899",
   "metadata": {},
   "source": [
    "# Q5"
   ]
  },
  {
   "cell_type": "code",
   "execution_count": null,
   "id": "9d7eecb2-bbf4-4f5b-ad91-c7b2e9a5aafb",
   "metadata": {},
   "outputs": [],
   "source": [
    "\"\"\"\n",
    "How are measures of dispersion such as range, variance, and standard deviation used to describe the spread of a dataset? Provide an example.\n",
    "\"\"\""
   ]
  },
  {
   "cell_type": "code",
   "execution_count": null,
   "id": "657d0aec-0cb1-4473-9997-14b262a95963",
   "metadata": {},
   "outputs": [],
   "source": [
    "\"\"\"\n",
    "Measures of dispersion such as range, variance, and standard deviation are used to describe the spread of a dataset. \n",
    "\n",
    "- Range: difference between the largest and smallest values in a dataset.\n",
    "\n",
    "- Variance: average of squared deviations from the mean.\n",
    "\n",
    "- Standard deviation: square root of variance and measures the typical distance of data points from the mean.\n",
    "\"\"\""
   ]
  },
  {
   "cell_type": "markdown",
   "id": "de733032-482f-480e-b54b-e44bf234c694",
   "metadata": {},
   "source": [
    "# Q6"
   ]
  },
  {
   "cell_type": "code",
   "execution_count": null,
   "id": "f06637f3-9b7b-4b27-95e9-610b39c1546e",
   "metadata": {},
   "outputs": [],
   "source": [
    "\"\"\"\n",
    "What is a Venn diagram?\n",
    "\"\"\""
   ]
  },
  {
   "cell_type": "code",
   "execution_count": null,
   "id": "5faa3098-c619-455c-86de-6582ae200ec2",
   "metadata": {},
   "outputs": [],
   "source": [
    "\"\"\"\n",
    "A Venn diagram is a graphical representation of the relationships between sets\n",
    "\"\"\""
   ]
  },
  {
   "cell_type": "markdown",
   "id": "208196df-4d93-42ff-b0cf-eabceac016f8",
   "metadata": {},
   "source": [
    "# Q7"
   ]
  },
  {
   "cell_type": "code",
   "execution_count": null,
   "id": "df1c62ed-eb56-4cff-96ef-58d8564ff6e5",
   "metadata": {},
   "outputs": [],
   "source": [
    "\"\"\"\n",
    "For the two given sets A = (2,3,4,5,6,7) & B = (0,2,6,8,10). Find:\n",
    "(i) A intersection B\n",
    "(ii) A ⋃ B\n",
    "\"\"\""
   ]
  },
  {
   "cell_type": "code",
   "execution_count": 4,
   "id": "74ffe3aa-d91b-467a-8250-b82ce1c88058",
   "metadata": {},
   "outputs": [
    {
     "name": "stdout",
     "output_type": "stream",
     "text": [
      "intersection : {2, 6}\n",
      "Union : {0, 2, 3, 4, 5, 6, 7, 8, 10}\n"
     ]
    }
   ],
   "source": [
    "A = {2,3,4,5,6,7}\n",
    "B = {0,2,6,8,10}\n",
    "\n",
    "print(\"intersection :\", str(A.intersection(B)))\n",
    "print(\"Union :\", str(A.union(B)))"
   ]
  },
  {
   "cell_type": "markdown",
   "id": "e7bb6161-fb49-47b3-9f91-7b3d97e9b836",
   "metadata": {},
   "source": [
    "# Q8"
   ]
  },
  {
   "cell_type": "code",
   "execution_count": null,
   "id": "148be2cc-1685-4210-b95c-f963ae443665",
   "metadata": {},
   "outputs": [],
   "source": [
    "\"\"\"\n",
    "What do you understand about skewness in data?\n",
    "\"\"\""
   ]
  },
  {
   "cell_type": "code",
   "execution_count": null,
   "id": "a8b8e141-8c32-418e-9166-30f9ae5ce080",
   "metadata": {},
   "outputs": [],
   "source": [
    "\"\"\"\n",
    "Skewness shows how the data is biased\n",
    "\"\"\""
   ]
  },
  {
   "cell_type": "markdown",
   "id": "a0493f25-e4b6-4a87-8105-1cd57c9b0915",
   "metadata": {},
   "source": [
    "# Q9"
   ]
  },
  {
   "cell_type": "code",
   "execution_count": null,
   "id": "3102a6e0-8e5c-4ea5-8a81-881190d1a04d",
   "metadata": {},
   "outputs": [],
   "source": [
    "\"\"\"\n",
    "If a data is right skewed then what will be the position of median with respect to mean?\n",
    "\"\"\""
   ]
  },
  {
   "cell_type": "code",
   "execution_count": null,
   "id": "097c2498-b065-423c-87ce-1b146d9ee79c",
   "metadata": {},
   "outputs": [],
   "source": [
    "\"\"\"\n",
    "mean>median>mode\n",
    "\"\"\""
   ]
  },
  {
   "cell_type": "markdown",
   "id": "d37e2449-d2bf-4f55-891f-13ab2f3cbcdb",
   "metadata": {},
   "source": [
    "# Q10"
   ]
  },
  {
   "cell_type": "code",
   "execution_count": null,
   "id": "c0161c3d-ae55-4e00-9c40-2800f71ce31d",
   "metadata": {},
   "outputs": [],
   "source": [
    "\"\"\"\n",
    "Explain the difference between covariance and correlation. How are these measures used in statistical analysis?\n",
    "\"\"\""
   ]
  },
  {
   "cell_type": "code",
   "execution_count": null,
   "id": "854f9045-4372-4f57-83f2-4147830ec8b6",
   "metadata": {},
   "outputs": [],
   "source": [
    "\"\"\"\n",
    "Covariance measures how two variables vary together, while correlation measures the strength and direction of the linear relationship between two variables. \n",
    "Correlation is a standardized version of covariance that is easier to interpret and compare across different datasets. \n",
    "Both measures are used to analyze relationships between variables, with correlation being more commonly used due to its ease of interpretation and comparison.\n",
    "\"\"\""
   ]
  },
  {
   "cell_type": "markdown",
   "id": "a9f1c3d0-9e21-4051-8525-25df5874d647",
   "metadata": {},
   "source": [
    "# Q11"
   ]
  },
  {
   "cell_type": "code",
   "execution_count": null,
   "id": "8b129dc6-412f-49d6-abff-7b4fd3cb279f",
   "metadata": {},
   "outputs": [],
   "source": [
    "\"\"\"\n",
    "What is the formula for calculating the sample mean? Provide an example calculation for a dataset.\n",
    "\"\"\""
   ]
  },
  {
   "cell_type": "code",
   "execution_count": 5,
   "id": "76878a01-5b41-46fd-bb7d-557492b37318",
   "metadata": {},
   "outputs": [
    {
     "name": "stdout",
     "output_type": "stream",
     "text": [
      "Sample mean:  80.0\n"
     ]
    }
   ],
   "source": [
    "# sample mean = (sum of all data points) / (number of data points)\n",
    "\n",
    "\n",
    "import pandas as pd\n",
    "df = pd.DataFrame({'scores': [80, 85, 90, 70, 75]})\n",
    "sample_mean = df['scores'].mean()\n",
    "\n",
    "print(\"Sample mean: \", sample_mean)\n"
   ]
  },
  {
   "cell_type": "markdown",
   "id": "88906e15-8412-4b2b-8ac2-00f22ace26ab",
   "metadata": {},
   "source": [
    "# Q12"
   ]
  },
  {
   "cell_type": "code",
   "execution_count": null,
   "id": "ef8cfe3b-b900-4deb-a264-6bcff23d5cf4",
   "metadata": {},
   "outputs": [],
   "source": [
    "\"\"\"\n",
    "For a normal distribution data what is the relationship between its measure of central tendency?\n",
    "\"\"\""
   ]
  },
  {
   "cell_type": "code",
   "execution_count": null,
   "id": "838cf79f-0dd6-41eb-b636-de9f99989373",
   "metadata": {},
   "outputs": [],
   "source": [
    "\"\"\"\n",
    "For a normal distribution data, the mean, median, and mode are all equal. \n",
    "This means that the measure of central tendency is the same regardless of which one is used to describe the dataset.\n",
    "\"\"\""
   ]
  },
  {
   "cell_type": "markdown",
   "id": "0c91b2b9-9087-4de9-83aa-c857fc96b20f",
   "metadata": {},
   "source": [
    "# Q13"
   ]
  },
  {
   "cell_type": "code",
   "execution_count": null,
   "id": "21fb777e-5934-4624-9c91-0de9eb50520b",
   "metadata": {},
   "outputs": [],
   "source": [
    "\"\"\"\n",
    "How is covariance different from correlation?\n",
    "\"\"\""
   ]
  },
  {
   "cell_type": "code",
   "execution_count": null,
   "id": "e558f84e-7d82-4aea-ba1e-cec3ee8be751",
   "metadata": {},
   "outputs": [],
   "source": [
    "\"\"\"\n",
    "Covariance is a measure of how two variables change together, while correlation measures the strength and direction of the linear relationship between two variables. \n",
    "While covariance can be positive, negative, or zero, correlation always ranges between -1 and 1, \n",
    "with values closer to -1 indicating a strong negative correlation, \n",
    "values closer to 1 indicating a strong positive correlation, and values closer to 0 indicating a weak or no correlation.\n",
    "\"\"\""
   ]
  },
  {
   "cell_type": "markdown",
   "id": "8ffc7f0b-cdfa-4a2d-8e0d-18588ae7d046",
   "metadata": {},
   "source": [
    "# Q14"
   ]
  },
  {
   "cell_type": "code",
   "execution_count": null,
   "id": "4ddc4d2a-d494-49c3-a079-ab1295b14842",
   "metadata": {},
   "outputs": [],
   "source": [
    "\"\"\"\n",
    "How do outliers affect measures of central tendency and dispersion? Provide an example.\n",
    "\"\"\""
   ]
  },
  {
   "cell_type": "code",
   "execution_count": null,
   "id": "917f9d40-15ac-4c0d-ad22-2733dc8266b3",
   "metadata": {},
   "outputs": [],
   "source": [
    "\"\"\"\n",
    "Outliers can significantly affect measures of central tendency and dispersion. \n",
    "For example, outliers can increase the mean and median of a dataset, making them higher than they would be without the outlier\n",
    "\"\"\""
   ]
  }
 ],
 "metadata": {
  "kernelspec": {
   "display_name": "Python 3 (ipykernel)",
   "language": "python",
   "name": "python3"
  },
  "language_info": {
   "codemirror_mode": {
    "name": "ipython",
    "version": 3
   },
   "file_extension": ".py",
   "mimetype": "text/x-python",
   "name": "python",
   "nbconvert_exporter": "python",
   "pygments_lexer": "ipython3",
   "version": "3.10.8"
  }
 },
 "nbformat": 4,
 "nbformat_minor": 5
}
