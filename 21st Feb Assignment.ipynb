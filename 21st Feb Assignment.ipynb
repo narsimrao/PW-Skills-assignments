{
 "cells": [
  {
   "cell_type": "markdown",
   "id": "d5c96f0d-c0eb-40aa-a647-b5f3e76e0558",
   "metadata": {},
   "source": [
    "# Q1"
   ]
  },
  {
   "cell_type": "code",
   "execution_count": null,
   "id": "9ab3090b-c055-4965-829b-43d25114113a",
   "metadata": {},
   "outputs": [],
   "source": [
    "\"\"\"\n",
    "What is Web Scraping? Why is it Used? Give three areas where Web Scraping is used to get data.\n",
    "\"\"\""
   ]
  },
  {
   "cell_type": "code",
   "execution_count": null,
   "id": "d952895a-f3bb-489c-96aa-d9be454d88ed",
   "metadata": {},
   "outputs": [],
   "source": [
    "\"\"\"\n",
    "Web scraping is the process of collecting and parsing raw data from the Web\n",
    "\n",
    "Web scraping typically extracts large amounts of data from websites for a variety of uses such as price monitoring, enriching machine learning models, financial data aggregation, monitoring consumer sentiment, news tracking\n",
    "\"\"\""
   ]
  },
  {
   "cell_type": "markdown",
   "id": "ea440fd8-e10e-4dc6-9dc5-321e94023260",
   "metadata": {},
   "source": [
    "# Q2"
   ]
  },
  {
   "cell_type": "code",
   "execution_count": null,
   "id": "8712f25a-57a8-422f-9d7f-885380615fd9",
   "metadata": {},
   "outputs": [],
   "source": [
    "\"\"\"\n",
    "What are the different methods used for Web Scraping?\n",
    "\"\"\""
   ]
  },
  {
   "cell_type": "code",
   "execution_count": null,
   "id": "61e6e335-007f-4563-82c5-595dd640c757",
   "metadata": {},
   "outputs": [],
   "source": [
    "\"\"\"\n",
    "1. Human copy-and-paste.\n",
    "2. Text pattern matching.\n",
    "3. HTTP programming.\n",
    "4. HTML parsing.\n",
    "5. DOM parsing.\n",
    "6. Vertical aggregation.\n",
    "7. Semantic annotation recognizing.\n",
    "8. Computer vision web-page analysis.\n",
    "\"\"\""
   ]
  },
  {
   "cell_type": "markdown",
   "id": "0ae2071a-5aea-497f-a99e-11ec15e14c04",
   "metadata": {},
   "source": [
    "# Q3"
   ]
  },
  {
   "cell_type": "code",
   "execution_count": null,
   "id": "a8efba84-a8c7-473d-8429-051d6a0b7e5f",
   "metadata": {},
   "outputs": [],
   "source": [
    "\"\"\"\n",
    "What is Beautiful Soup? Why is it used?\n",
    "\"\"\""
   ]
  },
  {
   "cell_type": "code",
   "execution_count": null,
   "id": "b0658b5c-682f-4ffa-b041-14139c91fa94",
   "metadata": {},
   "outputs": [],
   "source": [
    "\"\"\"\n",
    "Beautiful Soup is a Python package for parsing HTML and XML documents (including having malformed markup, i.e. non-closed tags, so named after tag soup). \n",
    "It creates a parse tree for parsed pages that can be used to extract data from HTML, which is useful for web scraping.\n",
    "\"\"\""
   ]
  },
  {
   "cell_type": "markdown",
   "id": "1788701c-300f-40c9-a010-dae9a8a59fab",
   "metadata": {},
   "source": [
    "# Q4"
   ]
  },
  {
   "cell_type": "code",
   "execution_count": null,
   "id": "cfdc435f-895d-4190-a8ca-b5d909d8f6b8",
   "metadata": {},
   "outputs": [],
   "source": [
    "\"\"\"\n",
    "Why is flask used in this Web Scraping project?\n",
    "\"\"\""
   ]
  },
  {
   "cell_type": "code",
   "execution_count": null,
   "id": "59cca9fe-61a0-4662-98b2-f0f4325f70fc",
   "metadata": {},
   "outputs": [],
   "source": [
    "\"\"\"\n",
    "Flask is used for creating an user interface for the user also to create the endpoints to access the program outside of local system.\n",
    "\"\"\""
   ]
  },
  {
   "cell_type": "markdown",
   "id": "8ecb9fc9-02b7-4d83-829b-8a322f54e158",
   "metadata": {},
   "source": [
    "# Q5"
   ]
  },
  {
   "cell_type": "code",
   "execution_count": null,
   "id": "c1ca36ec-e2b1-4a75-88bf-4806a623e86d",
   "metadata": {},
   "outputs": [],
   "source": [
    "\"\"\"\n",
    "Write the names of AWS services used in this project. Also, explain the use of each service.\n",
    "\"\"\""
   ]
  },
  {
   "cell_type": "code",
   "execution_count": null,
   "id": "87658eaa-03fc-41f2-9d98-fa27d8fadf12",
   "metadata": {},
   "outputs": [],
   "source": [
    "\"\"\"\n",
    "code pipeline and beanstalk is used\n",
    "\n",
    "codepipeline --> This service is used to link with the repository. It shares the source files from repository to deployed location\n",
    "\n",
    "Beanstalk --> This service provides the necessary computational resouces for the project which is linked with codepipeline.\n",
    "\"\"\""
   ]
  }
 ],
 "metadata": {
  "kernelspec": {
   "display_name": "Python 3 (ipykernel)",
   "language": "python",
   "name": "python3"
  },
  "language_info": {
   "codemirror_mode": {
    "name": "ipython",
    "version": 3
   },
   "file_extension": ".py",
   "mimetype": "text/x-python",
   "name": "python",
   "nbconvert_exporter": "python",
   "pygments_lexer": "ipython3",
   "version": "3.10.8"
  }
 },
 "nbformat": 4,
 "nbformat_minor": 5
}
