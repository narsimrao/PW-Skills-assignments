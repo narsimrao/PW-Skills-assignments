{
 "cells": [
  {
   "cell_type": "markdown",
   "id": "24602a48-136c-4600-90dc-de212277401f",
   "metadata": {},
   "source": [
    "# Q1"
   ]
  },
  {
   "cell_type": "code",
   "execution_count": 1,
   "id": "82ba43f0-0ed8-44a9-b085-0054f87d1f0d",
   "metadata": {},
   "outputs": [
    {
     "data": {
      "text/plain": [
       "'\\nwhat is multithreading in python? why is it used? Name the module used to handle threads in python\\n'"
      ]
     },
     "execution_count": 1,
     "metadata": {},
     "output_type": "execute_result"
    }
   ],
   "source": [
    "\"\"\"\n",
    "what is multithreading in python? why is it used? Name the module used to handle threads in python\n",
    "\"\"\""
   ]
  },
  {
   "cell_type": "code",
   "execution_count": null,
   "id": "cb474816-ef6f-4b24-a973-2003f1cfcce6",
   "metadata": {},
   "outputs": [],
   "source": [
    "\"\"\"\n",
    "Answer:\n",
    "multithreading is a concept of running a program using mutliple threads within the same core. \n",
    "These threads are used to run part of the program flow simutaneouly with the other threads so the execution is faster.\n",
    "Threading is the module used to implement threading process\n",
    "\"\"\""
   ]
  },
  {
   "cell_type": "markdown",
   "id": "1ac82034-a6ca-44b4-838e-ba0407c839dd",
   "metadata": {},
   "source": [
    "# Q2"
   ]
  },
  {
   "cell_type": "code",
   "execution_count": null,
   "id": "ce1086e8-31e9-41a1-9850-a9f2e253d9e6",
   "metadata": {},
   "outputs": [],
   "source": [
    "\"\"\"\n",
    "Why threading module used? write the use of the following functions\n",
    "\n",
    "1. activeCount()\n",
    "2. currentThread()\n",
    "3. enumerate()\n",
    "\"\"\""
   ]
  },
  {
   "cell_type": "code",
   "execution_count": null,
   "id": "f8fae67e-47e0-4c8e-9140-4abeea47dfe6",
   "metadata": {},
   "outputs": [],
   "source": [
    "\"\"\"\n",
    "activecount() --> is used to count the currently active or running threads.\n",
    "currentThread() --> Returns the number of thread objects in the caller's thread control\n",
    "enumerate() --> method adds a counter to an iterable and returns it in a form of enumerating object\n",
    "\"\"\""
   ]
  },
  {
   "cell_type": "markdown",
   "id": "aeaf5021-3855-43f1-8bc5-b687648d292e",
   "metadata": {},
   "source": [
    "# Q3"
   ]
  },
  {
   "cell_type": "code",
   "execution_count": null,
   "id": "df20f429-8dd1-43e4-b1ba-49abb54a89d2",
   "metadata": {},
   "outputs": [],
   "source": [
    "\"\"\"\n",
    "Explain the following functions\n",
    "1. run()\n",
    "2. start()\n",
    "3. join()\n",
    "4. isAlive()\n",
    "\"\"\""
   ]
  },
  {
   "cell_type": "code",
   "execution_count": null,
   "id": "eee084f9-33f2-4e4e-9215-c4a615ce382a",
   "metadata": {},
   "outputs": [],
   "source": [
    "\"\"\"\n",
    "run() method executes any target function belonging to a given thread object that is now active\n",
    "start() inititates the threading process\n",
    "The join() method takes all items in an iterable and joins them into one string\n",
    "is_alive() method returns True if the thread is still running and False , otherwise.\n",
    "\"\"\""
   ]
  },
  {
   "cell_type": "markdown",
   "id": "b8784b7d-4833-4055-befb-942ac06a35ba",
   "metadata": {},
   "source": [
    "# Q4"
   ]
  },
  {
   "cell_type": "code",
   "execution_count": null,
   "id": "038ec7dc-e587-495d-9f28-0b7f50fff1e5",
   "metadata": {},
   "outputs": [],
   "source": [
    "\"\"\"\n",
    "Write a python program to create two threads. Thread one must print the list of squares and thread\n",
    "two must print the list of cubes\n",
    "\"\"\""
   ]
  },
  {
   "cell_type": "code",
   "execution_count": 4,
   "id": "581ff509-0055-4e80-a2d7-a0e5c5cf2339",
   "metadata": {},
   "outputs": [
    {
     "name": "stdout",
     "output_type": "stream",
     "text": [
      "1^2 = 1\n",
      "2^2 = 4\n",
      "3^2 = 9\n",
      "4^2 = 16\n",
      "5^2 = 25\n",
      "6^2 = 36\n",
      "7^2 = 49\n",
      "8^2 = 64\n",
      "9^2 = 81\n",
      "10^2 = 100\n",
      "1^3 = 1\n",
      "2^3 = 8\n",
      "3^3 = 27\n",
      "4^3 = 64\n",
      "5^3 = 125\n",
      "6^3 = 216\n",
      "7^3 = 343\n",
      "8^3 = 512\n",
      "9^3 = 729\n",
      "10^3 = 1000\n"
     ]
    }
   ],
   "source": [
    "import threading\n",
    "\n",
    "def print_squares(x):\n",
    "    print(f\"{x}^2 = {x**2}\")\n",
    "\n",
    "def print_cubes(x):\n",
    "    print(f\"{x}^3 = {x**3}\")\n",
    "\n",
    "\n",
    "t1 = [threading.Thread(target=print_squares, args=(i,)) for i in range(1,11)]\n",
    "t2 = [threading.Thread(target=print_cubes, args=(i,)) for i in range(1,11)]\n",
    "\n",
    "for t in t1:\n",
    "    t.start()\n",
    "for t in t2:\n",
    "    t.start()\n"
   ]
  },
  {
   "cell_type": "markdown",
   "id": "05c28c23-2873-4f51-a9d1-70912e240df2",
   "metadata": {},
   "source": [
    "# Q5"
   ]
  },
  {
   "cell_type": "code",
   "execution_count": null,
   "id": "daf003f4-559a-42d1-a63e-17ed1118e614",
   "metadata": {},
   "outputs": [],
   "source": [
    "\"\"\"\n",
    "State advantages and disadvantages of multithreading\n",
    "\"\"\""
   ]
  },
  {
   "cell_type": "code",
   "execution_count": null,
   "id": "1d53b165-a1ec-49aa-a58d-7b5a4869ae5e",
   "metadata": {},
   "outputs": [],
   "source": [
    "\"\"\"\n",
    "advantages:\n",
    "1. Increased CPU utilization\n",
    "2. Improved application responsiveness\n",
    "3. Simplified program design\n",
    "4. Resource sharing\n",
    "5. Faster execution\n",
    "\n",
    "Disadvantage\n",
    "1. Increased complexity\n",
    "2. Synchronization overhead\n",
    "3. Resource contention\n",
    "4. Deadlocks\n",
    "5. Race conditions\n",
    "\n",
    "\"\"\""
   ]
  },
  {
   "cell_type": "markdown",
   "id": "6264cff6-9739-4b06-8809-22cdaa56ffb1",
   "metadata": {},
   "source": [
    "# Q6"
   ]
  },
  {
   "cell_type": "code",
   "execution_count": null,
   "id": "f3eb3b95-58b5-4183-94af-b0976c3ec71f",
   "metadata": {},
   "outputs": [],
   "source": [
    "\"\"\"\n",
    "Explain deadlocks and race conditions.\n",
    "\"\"\""
   ]
  },
  {
   "cell_type": "code",
   "execution_count": null,
   "id": "bca633bf-97b5-4ec6-a4a4-4e4348bf0ade",
   "metadata": {},
   "outputs": [],
   "source": [
    "\"\"\"\n",
    "Deadlock -->  Multithreading can lead to deadlocks, which occur when two or more threads are blocked waiting for each other to release a resource.\n",
    "Race Condition --> Multithreading can lead to race conditions, which occur when two or more threads try to access the same resource at the same time, leading to unpredictable behavior.\n",
    "\"\"\""
   ]
  }
 ],
 "metadata": {
  "kernelspec": {
   "display_name": "Python 3 (ipykernel)",
   "language": "python",
   "name": "python3"
  },
  "language_info": {
   "codemirror_mode": {
    "name": "ipython",
    "version": 3
   },
   "file_extension": ".py",
   "mimetype": "text/x-python",
   "name": "python",
   "nbconvert_exporter": "python",
   "pygments_lexer": "ipython3",
   "version": "3.10.8"
  }
 },
 "nbformat": 4,
 "nbformat_minor": 5
}
